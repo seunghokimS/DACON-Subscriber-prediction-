{
  "nbformat": 4,
  "nbformat_minor": 0,
  "metadata": {
    "colab": {
      "provenance": [],
      "collapsed_sections": [
        "3jT6MFMi89SJ",
        "7xvUHdzQ5Wmo"
      ],
      "mount_file_id": "1CfFuBez6L_i68Codt_VF7vZs78dCjGzs",
      "authorship_tag": "ABX9TyMlwPALlieNL2ERlqKglY6R",
      "include_colab_link": true
    },
    "kernelspec": {
      "name": "python3",
      "display_name": "Python 3"
    },
    "language_info": {
      "name": "python"
    }
  },
  "cells": [
    {
      "cell_type": "markdown",
      "metadata": {
        "id": "view-in-github",
        "colab_type": "text"
      },
      "source": [
        "<a href=\"https://colab.research.google.com/github/seunghokimS/DACON-Subscriber-prediction-/blob/main/Dacon_%EA%B5%AC%EB%8F%85%EC%9E%90_%EC%98%88%EC%B8%A1_Modeling.ipynb\" target=\"_parent\"><img src=\"https://colab.research.google.com/assets/colab-badge.svg\" alt=\"Open In Colab\"/></a>"
      ]
    },
    {
      "cell_type": "code",
      "source": [
        "!pip install catboost"
      ],
      "metadata": {
        "colab": {
          "base_uri": "https://localhost:8080/"
        },
        "id": "VoR8uqsmU-yq",
        "outputId": "bcf3de55-26d0-4176-d0c4-162d7674d805"
      },
      "execution_count": null,
      "outputs": [
        {
          "output_type": "stream",
          "name": "stdout",
          "text": [
            "Collecting catboost\n",
            "  Downloading catboost-1.2.2-cp310-cp310-manylinux2014_x86_64.whl (98.7 MB)\n",
            "\u001b[2K     \u001b[90m━━━━━━━━━━━━━━━━━━━━━━━━━━━━━━━━━━━━━━━━\u001b[0m \u001b[32m98.7/98.7 MB\u001b[0m \u001b[31m8.4 MB/s\u001b[0m eta \u001b[36m0:00:00\u001b[0m\n",
            "\u001b[?25hRequirement already satisfied: graphviz in /usr/local/lib/python3.10/dist-packages (from catboost) (0.20.1)\n",
            "Requirement already satisfied: matplotlib in /usr/local/lib/python3.10/dist-packages (from catboost) (3.7.1)\n",
            "Requirement already satisfied: numpy>=1.16.0 in /usr/local/lib/python3.10/dist-packages (from catboost) (1.23.5)\n",
            "Requirement already satisfied: pandas>=0.24 in /usr/local/lib/python3.10/dist-packages (from catboost) (1.5.3)\n",
            "Requirement already satisfied: scipy in /usr/local/lib/python3.10/dist-packages (from catboost) (1.11.4)\n",
            "Requirement already satisfied: plotly in /usr/local/lib/python3.10/dist-packages (from catboost) (5.15.0)\n",
            "Requirement already satisfied: six in /usr/local/lib/python3.10/dist-packages (from catboost) (1.16.0)\n",
            "Requirement already satisfied: python-dateutil>=2.8.1 in /usr/local/lib/python3.10/dist-packages (from pandas>=0.24->catboost) (2.8.2)\n",
            "Requirement already satisfied: pytz>=2020.1 in /usr/local/lib/python3.10/dist-packages (from pandas>=0.24->catboost) (2023.3.post1)\n",
            "Requirement already satisfied: contourpy>=1.0.1 in /usr/local/lib/python3.10/dist-packages (from matplotlib->catboost) (1.2.0)\n",
            "Requirement already satisfied: cycler>=0.10 in /usr/local/lib/python3.10/dist-packages (from matplotlib->catboost) (0.12.1)\n",
            "Requirement already satisfied: fonttools>=4.22.0 in /usr/local/lib/python3.10/dist-packages (from matplotlib->catboost) (4.45.1)\n",
            "Requirement already satisfied: kiwisolver>=1.0.1 in /usr/local/lib/python3.10/dist-packages (from matplotlib->catboost) (1.4.5)\n",
            "Requirement already satisfied: packaging>=20.0 in /usr/local/lib/python3.10/dist-packages (from matplotlib->catboost) (23.2)\n",
            "Requirement already satisfied: pillow>=6.2.0 in /usr/local/lib/python3.10/dist-packages (from matplotlib->catboost) (9.4.0)\n",
            "Requirement already satisfied: pyparsing>=2.3.1 in /usr/local/lib/python3.10/dist-packages (from matplotlib->catboost) (3.1.1)\n",
            "Requirement already satisfied: tenacity>=6.2.0 in /usr/local/lib/python3.10/dist-packages (from plotly->catboost) (8.2.3)\n",
            "Installing collected packages: catboost\n",
            "Successfully installed catboost-1.2.2\n"
          ]
        }
      ]
    },
    {
      "cell_type": "code",
      "source": [
        "!pip install lightgbm"
      ],
      "metadata": {
        "colab": {
          "base_uri": "https://localhost:8080/"
        },
        "id": "m_5xlOCsmws6",
        "outputId": "9a99cd4a-3763-4d35-cc88-1aa2d2078c94"
      },
      "execution_count": null,
      "outputs": [
        {
          "output_type": "stream",
          "name": "stdout",
          "text": [
            "Requirement already satisfied: lightgbm in /usr/local/lib/python3.10/dist-packages (4.1.0)\n",
            "Requirement already satisfied: numpy in /usr/local/lib/python3.10/dist-packages (from lightgbm) (1.23.5)\n",
            "Requirement already satisfied: scipy in /usr/local/lib/python3.10/dist-packages (from lightgbm) (1.11.4)\n"
          ]
        }
      ]
    },
    {
      "cell_type": "code",
      "source": [
        "!pip install optuna"
      ],
      "metadata": {
        "colab": {
          "base_uri": "https://localhost:8080/"
        },
        "id": "hxJveNJNm4tZ",
        "outputId": "545d9f27-2e15-4f6b-8035-ab19b9c5c7ae"
      },
      "execution_count": null,
      "outputs": [
        {
          "output_type": "stream",
          "name": "stdout",
          "text": [
            "Collecting optuna\n",
            "  Downloading optuna-3.4.0-py3-none-any.whl (409 kB)\n",
            "\u001b[2K     \u001b[90m━━━━━━━━━━━━━━━━━━━━━━━━━━━━━━━━━━━━━━━━\u001b[0m \u001b[32m409.6/409.6 kB\u001b[0m \u001b[31m3.0 MB/s\u001b[0m eta \u001b[36m0:00:00\u001b[0m\n",
            "\u001b[?25hCollecting alembic>=1.5.0 (from optuna)\n",
            "  Downloading alembic-1.13.0-py3-none-any.whl (230 kB)\n",
            "\u001b[2K     \u001b[90m━━━━━━━━━━━━━━━━━━━━━━━━━━━━━━━━━━━━━━━━\u001b[0m \u001b[32m230.6/230.6 kB\u001b[0m \u001b[31m19.1 MB/s\u001b[0m eta \u001b[36m0:00:00\u001b[0m\n",
            "\u001b[?25hCollecting colorlog (from optuna)\n",
            "  Downloading colorlog-6.8.0-py3-none-any.whl (11 kB)\n",
            "Requirement already satisfied: numpy in /usr/local/lib/python3.10/dist-packages (from optuna) (1.23.5)\n",
            "Requirement already satisfied: packaging>=20.0 in /usr/local/lib/python3.10/dist-packages (from optuna) (23.2)\n",
            "Requirement already satisfied: sqlalchemy>=1.3.0 in /usr/local/lib/python3.10/dist-packages (from optuna) (2.0.23)\n",
            "Requirement already satisfied: tqdm in /usr/local/lib/python3.10/dist-packages (from optuna) (4.66.1)\n",
            "Requirement already satisfied: PyYAML in /usr/local/lib/python3.10/dist-packages (from optuna) (6.0.1)\n",
            "Collecting Mako (from alembic>=1.5.0->optuna)\n",
            "  Downloading Mako-1.3.0-py3-none-any.whl (78 kB)\n",
            "\u001b[2K     \u001b[90m━━━━━━━━━━━━━━━━━━━━━━━━━━━━━━━━━━━━━━━━\u001b[0m \u001b[32m78.6/78.6 kB\u001b[0m \u001b[31m9.0 MB/s\u001b[0m eta \u001b[36m0:00:00\u001b[0m\n",
            "\u001b[?25hRequirement already satisfied: typing-extensions>=4 in /usr/local/lib/python3.10/dist-packages (from alembic>=1.5.0->optuna) (4.5.0)\n",
            "Requirement already satisfied: greenlet!=0.4.17 in /usr/local/lib/python3.10/dist-packages (from sqlalchemy>=1.3.0->optuna) (3.0.1)\n",
            "Requirement already satisfied: MarkupSafe>=0.9.2 in /usr/local/lib/python3.10/dist-packages (from Mako->alembic>=1.5.0->optuna) (2.1.3)\n",
            "Installing collected packages: Mako, colorlog, alembic, optuna\n",
            "Successfully installed Mako-1.3.0 alembic-1.13.0 colorlog-6.8.0 optuna-3.4.0\n"
          ]
        }
      ]
    },
    {
      "cell_type": "code",
      "source": [
        "!pip install scikeras"
      ],
      "metadata": {
        "colab": {
          "base_uri": "https://localhost:8080/"
        },
        "id": "lmU1wl_9u1_e",
        "outputId": "b1779bd6-a2d5-4d7f-f50b-77c49e1b9010"
      },
      "execution_count": null,
      "outputs": [
        {
          "output_type": "stream",
          "name": "stdout",
          "text": [
            "Collecting scikeras\n",
            "  Downloading scikeras-0.12.0-py3-none-any.whl (27 kB)\n",
            "Requirement already satisfied: packaging>=0.21 in /usr/local/lib/python3.10/dist-packages (from scikeras) (23.2)\n",
            "Requirement already satisfied: scikit-learn>=1.0.0 in /usr/local/lib/python3.10/dist-packages (from scikeras) (1.2.2)\n",
            "Requirement already satisfied: numpy>=1.17.3 in /usr/local/lib/python3.10/dist-packages (from scikit-learn>=1.0.0->scikeras) (1.23.5)\n",
            "Requirement already satisfied: scipy>=1.3.2 in /usr/local/lib/python3.10/dist-packages (from scikit-learn>=1.0.0->scikeras) (1.11.4)\n",
            "Requirement already satisfied: joblib>=1.1.1 in /usr/local/lib/python3.10/dist-packages (from scikit-learn>=1.0.0->scikeras) (1.3.2)\n",
            "Requirement already satisfied: threadpoolctl>=2.0.0 in /usr/local/lib/python3.10/dist-packages (from scikit-learn>=1.0.0->scikeras) (3.2.0)\n",
            "Installing collected packages: scikeras\n",
            "Successfully installed scikeras-0.12.0\n"
          ]
        }
      ]
    },
    {
      "cell_type": "code",
      "execution_count": null,
      "metadata": {
        "id": "HGjbbcawmhlU"
      },
      "outputs": [],
      "source": [
        "import pandas as pd\n",
        "import numpy as np\n",
        "import seaborn as sns\n",
        "import matplotlib.pyplot as plt\n",
        "from sklearn.preprocessing import StandardScaler, LabelEncoder\n",
        "\n",
        "from sklearn.model_selection import train_test_split\n",
        "from sklearn.metrics import classification_report, f1_score, make_scorer\n",
        "from sklearn.model_selection import cross_val_score\n",
        "\n",
        "from sklearn.ensemble import RandomForestClassifier\n",
        "from sklearn.svm import SVC\n",
        "from sklearn.tree import DecisionTreeClassifier\n",
        "from xgboost import XGBClassifier\n",
        "from sklearn.linear_model import LogisticRegression\n",
        "from sklearn.neighbors import KNeighborsClassifier\n",
        "from sklearn.ensemble import GradientBoostingClassifier\n",
        "\n",
        "\n",
        "from lightgbm.callback import early_stopping\n",
        "import lightgbm as lgb\n",
        "from lightgbm import LGBMClassifier\n",
        "\n",
        "import optuna\n",
        "from optuna.visualization import plot_param_importances\n",
        "\n",
        "from sklearn.feature_selection import RFE\n",
        "from sklearn.feature_selection import RFECV\n",
        "from sklearn.model_selection import StratifiedKFold\n",
        "from sklearn.model_selection import KFold\n",
        "from sklearn.metrics import classification_report\n",
        "\n",
        "\n",
        "from sklearn.ensemble import BaggingClassifier\n",
        "from sklearn.ensemble import AdaBoostClassifier\n",
        "from sklearn.naive_bayes import GaussianNB\n",
        "from catboost import CatBoostClassifier\n",
        "from sklearn.ensemble import StackingClassifier\n",
        "from sklearn.ensemble import VotingClassifier\n",
        "from sklearn.model_selection import GridSearchCV\n",
        "from google.colab import files\n",
        "\n",
        "import tensorflow as tf\n",
        "# import kerastuner as kt\n",
        "from keras.models import Sequential\n",
        "from keras.layers import Dense, Dropout\n",
        "from keras.optimizers import Adam\n",
        "from keras.callbacks import EarlyStopping\n",
        "from keras import backend as K\n",
        "\n",
        "from scikeras.wrappers import KerasClassifier\n",
        "from sklearn.model_selection import RandomizedSearchCV, cross_val_score, KFold"
      ]
    },
    {
      "cell_type": "code",
      "source": [
        "from google.colab import drive\n",
        "drive.mount('/content/drive')"
      ],
      "metadata": {
        "colab": {
          "base_uri": "https://localhost:8080/"
        },
        "id": "lIkinrgSmveE",
        "outputId": "9013c674-b7d8-4375-d729-a6e777acbe22"
      },
      "execution_count": null,
      "outputs": [
        {
          "output_type": "stream",
          "name": "stdout",
          "text": [
            "Drive already mounted at /content/drive; to attempt to forcibly remount, call drive.mount(\"/content/drive\", force_remount=True).\n"
          ]
        }
      ]
    },
    {
      "cell_type": "code",
      "source": [
        "train = pd.read_csv('/content/drive/MyDrive/공모전(Dacon)/구독자예측/파생(1,2,6)/train_df1.csv')\n",
        "test = pd.read_csv('/content/drive/MyDrive/공모전(Dacon)/구독자예측/파생(1,2,6)/test_df1.csv')\n",
        "sample_submission = pd.read_csv('/content/drive/MyDrive/공모전(Dacon)/구독자예측/파생/sample_submission.csv')\n"
      ],
      "metadata": {
        "id": "YJproNKbnMwQ"
      },
      "execution_count": null,
      "outputs": []
    },
    {
      "cell_type": "code",
      "source": [
        "train.head()"
      ],
      "metadata": {
        "colab": {
          "base_uri": "https://localhost:8080/",
          "height": 226
        },
        "id": "710O03QC0oDn",
        "outputId": "6801b8d4-c9d5-470f-9340-d4c6db0021ce"
      },
      "execution_count": null,
      "outputs": [
        {
          "output_type": "execute_result",
          "data": {
            "text/plain": [
              "    user_id  subscription_duration  recent_login_time  average_login_time  \\\n",
              "0  b919c29d                     13                 14           14.946163   \n",
              "1  a0a60abb                     16                 18           18.453224   \n",
              "2  b9f171ae                     22                  1           16.195228   \n",
              "3  5dc0ba8b                      1                 19           17.628656   \n",
              "4  65c83654                      4                  5           21.390656   \n",
              "\n",
              "   average_time_per_learning_session  monthly_active_learning_days  \\\n",
              "0                           8.427187                            18   \n",
              "1                          72.646087                            16   \n",
              "2                          21.774492                            13   \n",
              "3                          42.659066                            19   \n",
              "4                          30.744287                            19   \n",
              "\n",
              "   total_completed_courses  recent_learning_achievement  \\\n",
              "0                       16                    68.360455   \n",
              "1                       13                    97.567322   \n",
              "2                       14                    94.358763   \n",
              "3                       18                    70.153228   \n",
              "4                       10                    81.917908   \n",
              "\n",
              "   abandoned_learning_sessions  community_engagement_level  \\\n",
              "0                            3                           4   \n",
              "1                            2                           3   \n",
              "2                            3                           4   \n",
              "3                            0                           3   \n",
              "4                            2                           4   \n",
              "\n",
              "   preferred_difficulty_level  subscription_type  customer_inquiry_history  \\\n",
              "0                           1                  0                         4   \n",
              "1                           2                  0                         1   \n",
              "2                           2                  1                         0   \n",
              "3                           1                  0                         1   \n",
              "4                           2                  0                         3   \n",
              "\n",
              "   payment_pattern  target  login_pattern  learning_concentration  \\\n",
              "0                5       0      -0.946163                0.468177   \n",
              "1                6       1      -0.453224                4.540380   \n",
              "2                7       1     -15.195228                1.674961   \n",
              "3                0       1       1.371344                2.245214   \n",
              "4                0       1     -16.390656                1.618120   \n",
              "\n",
              "   avg_monthly_active_days_per_type  \n",
              "0                         12.642917  \n",
              "1                         12.642917  \n",
              "2                         12.400398  \n",
              "3                         12.642917  \n",
              "4                         12.642917  "
            ],
            "text/html": [
              "\n",
              "  <div id=\"df-7c05e08e-82a3-43de-a185-7804c1f4fe55\" class=\"colab-df-container\">\n",
              "    <div>\n",
              "<style scoped>\n",
              "    .dataframe tbody tr th:only-of-type {\n",
              "        vertical-align: middle;\n",
              "    }\n",
              "\n",
              "    .dataframe tbody tr th {\n",
              "        vertical-align: top;\n",
              "    }\n",
              "\n",
              "    .dataframe thead th {\n",
              "        text-align: right;\n",
              "    }\n",
              "</style>\n",
              "<table border=\"1\" class=\"dataframe\">\n",
              "  <thead>\n",
              "    <tr style=\"text-align: right;\">\n",
              "      <th></th>\n",
              "      <th>user_id</th>\n",
              "      <th>subscription_duration</th>\n",
              "      <th>recent_login_time</th>\n",
              "      <th>average_login_time</th>\n",
              "      <th>average_time_per_learning_session</th>\n",
              "      <th>monthly_active_learning_days</th>\n",
              "      <th>total_completed_courses</th>\n",
              "      <th>recent_learning_achievement</th>\n",
              "      <th>abandoned_learning_sessions</th>\n",
              "      <th>community_engagement_level</th>\n",
              "      <th>preferred_difficulty_level</th>\n",
              "      <th>subscription_type</th>\n",
              "      <th>customer_inquiry_history</th>\n",
              "      <th>payment_pattern</th>\n",
              "      <th>target</th>\n",
              "      <th>login_pattern</th>\n",
              "      <th>learning_concentration</th>\n",
              "      <th>avg_monthly_active_days_per_type</th>\n",
              "    </tr>\n",
              "  </thead>\n",
              "  <tbody>\n",
              "    <tr>\n",
              "      <th>0</th>\n",
              "      <td>b919c29d</td>\n",
              "      <td>13</td>\n",
              "      <td>14</td>\n",
              "      <td>14.946163</td>\n",
              "      <td>8.427187</td>\n",
              "      <td>18</td>\n",
              "      <td>16</td>\n",
              "      <td>68.360455</td>\n",
              "      <td>3</td>\n",
              "      <td>4</td>\n",
              "      <td>1</td>\n",
              "      <td>0</td>\n",
              "      <td>4</td>\n",
              "      <td>5</td>\n",
              "      <td>0</td>\n",
              "      <td>-0.946163</td>\n",
              "      <td>0.468177</td>\n",
              "      <td>12.642917</td>\n",
              "    </tr>\n",
              "    <tr>\n",
              "      <th>1</th>\n",
              "      <td>a0a60abb</td>\n",
              "      <td>16</td>\n",
              "      <td>18</td>\n",
              "      <td>18.453224</td>\n",
              "      <td>72.646087</td>\n",
              "      <td>16</td>\n",
              "      <td>13</td>\n",
              "      <td>97.567322</td>\n",
              "      <td>2</td>\n",
              "      <td>3</td>\n",
              "      <td>2</td>\n",
              "      <td>0</td>\n",
              "      <td>1</td>\n",
              "      <td>6</td>\n",
              "      <td>1</td>\n",
              "      <td>-0.453224</td>\n",
              "      <td>4.540380</td>\n",
              "      <td>12.642917</td>\n",
              "    </tr>\n",
              "    <tr>\n",
              "      <th>2</th>\n",
              "      <td>b9f171ae</td>\n",
              "      <td>22</td>\n",
              "      <td>1</td>\n",
              "      <td>16.195228</td>\n",
              "      <td>21.774492</td>\n",
              "      <td>13</td>\n",
              "      <td>14</td>\n",
              "      <td>94.358763</td>\n",
              "      <td>3</td>\n",
              "      <td>4</td>\n",
              "      <td>2</td>\n",
              "      <td>1</td>\n",
              "      <td>0</td>\n",
              "      <td>7</td>\n",
              "      <td>1</td>\n",
              "      <td>-15.195228</td>\n",
              "      <td>1.674961</td>\n",
              "      <td>12.400398</td>\n",
              "    </tr>\n",
              "    <tr>\n",
              "      <th>3</th>\n",
              "      <td>5dc0ba8b</td>\n",
              "      <td>1</td>\n",
              "      <td>19</td>\n",
              "      <td>17.628656</td>\n",
              "      <td>42.659066</td>\n",
              "      <td>19</td>\n",
              "      <td>18</td>\n",
              "      <td>70.153228</td>\n",
              "      <td>0</td>\n",
              "      <td>3</td>\n",
              "      <td>1</td>\n",
              "      <td>0</td>\n",
              "      <td>1</td>\n",
              "      <td>0</td>\n",
              "      <td>1</td>\n",
              "      <td>1.371344</td>\n",
              "      <td>2.245214</td>\n",
              "      <td>12.642917</td>\n",
              "    </tr>\n",
              "    <tr>\n",
              "      <th>4</th>\n",
              "      <td>65c83654</td>\n",
              "      <td>4</td>\n",
              "      <td>5</td>\n",
              "      <td>21.390656</td>\n",
              "      <td>30.744287</td>\n",
              "      <td>19</td>\n",
              "      <td>10</td>\n",
              "      <td>81.917908</td>\n",
              "      <td>2</td>\n",
              "      <td>4</td>\n",
              "      <td>2</td>\n",
              "      <td>0</td>\n",
              "      <td>3</td>\n",
              "      <td>0</td>\n",
              "      <td>1</td>\n",
              "      <td>-16.390656</td>\n",
              "      <td>1.618120</td>\n",
              "      <td>12.642917</td>\n",
              "    </tr>\n",
              "  </tbody>\n",
              "</table>\n",
              "</div>\n",
              "    <div class=\"colab-df-buttons\">\n",
              "\n",
              "  <div class=\"colab-df-container\">\n",
              "    <button class=\"colab-df-convert\" onclick=\"convertToInteractive('df-7c05e08e-82a3-43de-a185-7804c1f4fe55')\"\n",
              "            title=\"Convert this dataframe to an interactive table.\"\n",
              "            style=\"display:none;\">\n",
              "\n",
              "  <svg xmlns=\"http://www.w3.org/2000/svg\" height=\"24px\" viewBox=\"0 -960 960 960\">\n",
              "    <path d=\"M120-120v-720h720v720H120Zm60-500h600v-160H180v160Zm220 220h160v-160H400v160Zm0 220h160v-160H400v160ZM180-400h160v-160H180v160Zm440 0h160v-160H620v160ZM180-180h160v-160H180v160Zm440 0h160v-160H620v160Z\"/>\n",
              "  </svg>\n",
              "    </button>\n",
              "\n",
              "  <style>\n",
              "    .colab-df-container {\n",
              "      display:flex;\n",
              "      gap: 12px;\n",
              "    }\n",
              "\n",
              "    .colab-df-convert {\n",
              "      background-color: #E8F0FE;\n",
              "      border: none;\n",
              "      border-radius: 50%;\n",
              "      cursor: pointer;\n",
              "      display: none;\n",
              "      fill: #1967D2;\n",
              "      height: 32px;\n",
              "      padding: 0 0 0 0;\n",
              "      width: 32px;\n",
              "    }\n",
              "\n",
              "    .colab-df-convert:hover {\n",
              "      background-color: #E2EBFA;\n",
              "      box-shadow: 0px 1px 2px rgba(60, 64, 67, 0.3), 0px 1px 3px 1px rgba(60, 64, 67, 0.15);\n",
              "      fill: #174EA6;\n",
              "    }\n",
              "\n",
              "    .colab-df-buttons div {\n",
              "      margin-bottom: 4px;\n",
              "    }\n",
              "\n",
              "    [theme=dark] .colab-df-convert {\n",
              "      background-color: #3B4455;\n",
              "      fill: #D2E3FC;\n",
              "    }\n",
              "\n",
              "    [theme=dark] .colab-df-convert:hover {\n",
              "      background-color: #434B5C;\n",
              "      box-shadow: 0px 1px 3px 1px rgba(0, 0, 0, 0.15);\n",
              "      filter: drop-shadow(0px 1px 2px rgba(0, 0, 0, 0.3));\n",
              "      fill: #FFFFFF;\n",
              "    }\n",
              "  </style>\n",
              "\n",
              "    <script>\n",
              "      const buttonEl =\n",
              "        document.querySelector('#df-7c05e08e-82a3-43de-a185-7804c1f4fe55 button.colab-df-convert');\n",
              "      buttonEl.style.display =\n",
              "        google.colab.kernel.accessAllowed ? 'block' : 'none';\n",
              "\n",
              "      async function convertToInteractive(key) {\n",
              "        const element = document.querySelector('#df-7c05e08e-82a3-43de-a185-7804c1f4fe55');\n",
              "        const dataTable =\n",
              "          await google.colab.kernel.invokeFunction('convertToInteractive',\n",
              "                                                    [key], {});\n",
              "        if (!dataTable) return;\n",
              "\n",
              "        const docLinkHtml = 'Like what you see? Visit the ' +\n",
              "          '<a target=\"_blank\" href=https://colab.research.google.com/notebooks/data_table.ipynb>data table notebook</a>'\n",
              "          + ' to learn more about interactive tables.';\n",
              "        element.innerHTML = '';\n",
              "        dataTable['output_type'] = 'display_data';\n",
              "        await google.colab.output.renderOutput(dataTable, element);\n",
              "        const docLink = document.createElement('div');\n",
              "        docLink.innerHTML = docLinkHtml;\n",
              "        element.appendChild(docLink);\n",
              "      }\n",
              "    </script>\n",
              "  </div>\n",
              "\n",
              "\n",
              "<div id=\"df-a062636c-f69b-4162-b9c4-04785f4f8ff3\">\n",
              "  <button class=\"colab-df-quickchart\" onclick=\"quickchart('df-a062636c-f69b-4162-b9c4-04785f4f8ff3')\"\n",
              "            title=\"Suggest charts\"\n",
              "            style=\"display:none;\">\n",
              "\n",
              "<svg xmlns=\"http://www.w3.org/2000/svg\" height=\"24px\"viewBox=\"0 0 24 24\"\n",
              "     width=\"24px\">\n",
              "    <g>\n",
              "        <path d=\"M19 3H5c-1.1 0-2 .9-2 2v14c0 1.1.9 2 2 2h14c1.1 0 2-.9 2-2V5c0-1.1-.9-2-2-2zM9 17H7v-7h2v7zm4 0h-2V7h2v10zm4 0h-2v-4h2v4z\"/>\n",
              "    </g>\n",
              "</svg>\n",
              "  </button>\n",
              "\n",
              "<style>\n",
              "  .colab-df-quickchart {\n",
              "      --bg-color: #E8F0FE;\n",
              "      --fill-color: #1967D2;\n",
              "      --hover-bg-color: #E2EBFA;\n",
              "      --hover-fill-color: #174EA6;\n",
              "      --disabled-fill-color: #AAA;\n",
              "      --disabled-bg-color: #DDD;\n",
              "  }\n",
              "\n",
              "  [theme=dark] .colab-df-quickchart {\n",
              "      --bg-color: #3B4455;\n",
              "      --fill-color: #D2E3FC;\n",
              "      --hover-bg-color: #434B5C;\n",
              "      --hover-fill-color: #FFFFFF;\n",
              "      --disabled-bg-color: #3B4455;\n",
              "      --disabled-fill-color: #666;\n",
              "  }\n",
              "\n",
              "  .colab-df-quickchart {\n",
              "    background-color: var(--bg-color);\n",
              "    border: none;\n",
              "    border-radius: 50%;\n",
              "    cursor: pointer;\n",
              "    display: none;\n",
              "    fill: var(--fill-color);\n",
              "    height: 32px;\n",
              "    padding: 0;\n",
              "    width: 32px;\n",
              "  }\n",
              "\n",
              "  .colab-df-quickchart:hover {\n",
              "    background-color: var(--hover-bg-color);\n",
              "    box-shadow: 0 1px 2px rgba(60, 64, 67, 0.3), 0 1px 3px 1px rgba(60, 64, 67, 0.15);\n",
              "    fill: var(--button-hover-fill-color);\n",
              "  }\n",
              "\n",
              "  .colab-df-quickchart-complete:disabled,\n",
              "  .colab-df-quickchart-complete:disabled:hover {\n",
              "    background-color: var(--disabled-bg-color);\n",
              "    fill: var(--disabled-fill-color);\n",
              "    box-shadow: none;\n",
              "  }\n",
              "\n",
              "  .colab-df-spinner {\n",
              "    border: 2px solid var(--fill-color);\n",
              "    border-color: transparent;\n",
              "    border-bottom-color: var(--fill-color);\n",
              "    animation:\n",
              "      spin 1s steps(1) infinite;\n",
              "  }\n",
              "\n",
              "  @keyframes spin {\n",
              "    0% {\n",
              "      border-color: transparent;\n",
              "      border-bottom-color: var(--fill-color);\n",
              "      border-left-color: var(--fill-color);\n",
              "    }\n",
              "    20% {\n",
              "      border-color: transparent;\n",
              "      border-left-color: var(--fill-color);\n",
              "      border-top-color: var(--fill-color);\n",
              "    }\n",
              "    30% {\n",
              "      border-color: transparent;\n",
              "      border-left-color: var(--fill-color);\n",
              "      border-top-color: var(--fill-color);\n",
              "      border-right-color: var(--fill-color);\n",
              "    }\n",
              "    40% {\n",
              "      border-color: transparent;\n",
              "      border-right-color: var(--fill-color);\n",
              "      border-top-color: var(--fill-color);\n",
              "    }\n",
              "    60% {\n",
              "      border-color: transparent;\n",
              "      border-right-color: var(--fill-color);\n",
              "    }\n",
              "    80% {\n",
              "      border-color: transparent;\n",
              "      border-right-color: var(--fill-color);\n",
              "      border-bottom-color: var(--fill-color);\n",
              "    }\n",
              "    90% {\n",
              "      border-color: transparent;\n",
              "      border-bottom-color: var(--fill-color);\n",
              "    }\n",
              "  }\n",
              "</style>\n",
              "\n",
              "  <script>\n",
              "    async function quickchart(key) {\n",
              "      const quickchartButtonEl =\n",
              "        document.querySelector('#' + key + ' button');\n",
              "      quickchartButtonEl.disabled = true;  // To prevent multiple clicks.\n",
              "      quickchartButtonEl.classList.add('colab-df-spinner');\n",
              "      try {\n",
              "        const charts = await google.colab.kernel.invokeFunction(\n",
              "            'suggestCharts', [key], {});\n",
              "      } catch (error) {\n",
              "        console.error('Error during call to suggestCharts:', error);\n",
              "      }\n",
              "      quickchartButtonEl.classList.remove('colab-df-spinner');\n",
              "      quickchartButtonEl.classList.add('colab-df-quickchart-complete');\n",
              "    }\n",
              "    (() => {\n",
              "      let quickchartButtonEl =\n",
              "        document.querySelector('#df-a062636c-f69b-4162-b9c4-04785f4f8ff3 button');\n",
              "      quickchartButtonEl.style.display =\n",
              "        google.colab.kernel.accessAllowed ? 'block' : 'none';\n",
              "    })();\n",
              "  </script>\n",
              "</div>\n",
              "    </div>\n",
              "  </div>\n"
            ]
          },
          "metadata": {},
          "execution_count": 8
        }
      ]
    },
    {
      "cell_type": "code",
      "source": [
        "train_df = train.copy()\n",
        "test_df = test.copy()"
      ],
      "metadata": {
        "id": "Zu_OtcMbpPij"
      },
      "execution_count": null,
      "outputs": []
    },
    {
      "cell_type": "code",
      "source": [
        "# num_col = [col for col in train.columns if train_df[col].dtype in ['int64', 'float64'] and col not in ['target']]\n",
        "cat_col = [col for col in train.columns if train_df[col].dtype == 'object' and col not in ['user_id']]\n",
        "\n",
        "scaler = StandardScaler()\n",
        "\n",
        "# train_df[num_col] = scaler.fit_transform(train_df[num_col])\n",
        "# test_df[num_col] = scaler.transform(test_df[num_col])\n",
        "\n",
        "label_encoders = {}\n",
        "\n",
        "for col in cat_col:\n",
        "    label_encoders[col] = LabelEncoder()\n",
        "    train_df[col] = label_encoders[col].fit_transform(train_df[col])\n",
        "    test_df[col] = label_encoders[col].transform(test_df[col])\n"
      ],
      "metadata": {
        "id": "FMylJycBo-GW"
      },
      "execution_count": null,
      "outputs": []
    },
    {
      "cell_type": "code",
      "source": [
        "train_df['learning_concentration'] = np.log(train_df['learning_concentration'])\n",
        "train_df['average_time_per_learning_session'] = np.log(train_df['average_time_per_learning_session'])\n",
        "\n",
        "test_df['learning_concentration'] = np.log(test_df['learning_concentration'])\n",
        "test_df['average_time_per_learning_session'] = np.log(test_df['average_time_per_learning_session'])"
      ],
      "metadata": {
        "id": "tZ5ox3jHyeMR"
      },
      "execution_count": null,
      "outputs": []
    },
    {
      "cell_type": "code",
      "source": [
        "X = train_df.drop(columns = ['user_id', 'target'])\n",
        "y = train_df['target']\n",
        "\n",
        "X_train, X_val, y_train, y_val = train_test_split(X, y, test_size=0.2, random_state=42)\n",
        "\n",
        "models = {\"RF\" : RandomForestClassifier(random_state=42),\n",
        "        \"SVM\" : SVC(),\n",
        "        \"DT\" : DecisionTreeClassifier(random_state=42),\n",
        "        \"XGB\" : XGBClassifier(random_state=42),\n",
        "        \"LR\" : LogisticRegression(random_state=42),\n",
        "        \"Knn\" : KNeighborsClassifier(),\n",
        "        \"GB\" : GradientBoostingClassifier(random_state=42),\n",
        "        \"AdaBoost\" : AdaBoostClassifier(n_estimators=100, random_state=42),\n",
        "        \"CatBoost\": CatBoostClassifier(verbose=0, random_state=42),\n",
        "        \"Naive Bayes\": GaussianNB()\n",
        "          }\n",
        "best_score = 0\n",
        "best_model = \" \"\n",
        "\n",
        "for name , model in models.items():\n",
        "    model.fit(X_train, y_train)\n",
        "    val_prediction = model.predict(X_val)\n",
        "    val_f1 = f1_score(y_val, val_prediction, average='macro', zero_division = 0)\n",
        "    print(f\"{name} val_data Macro F1 Score : \", val_f1)\n",
        "    print(classification_report(y_val, val_prediction, zero_division=0))\n",
        "    if val_f1 > best_score:\n",
        "        best_score = val_f1\n",
        "        best_model = name\n",
        "\n",
        "print(f\"Best_model : {best_model} , Macro F1_score : {best_score}\")"
      ],
      "metadata": {
        "colab": {
          "base_uri": "https://localhost:8080/"
        },
        "id": "jT630uMj3ll2",
        "outputId": "de171faa-2b9f-4af5-e303-f4d1d0a88a64"
      },
      "execution_count": null,
      "outputs": [
        {
          "output_type": "stream",
          "name": "stdout",
          "text": [
            "RF val_data Macro F1 Score :  0.4566294679568573\n",
            "              precision    recall  f1-score   support\n",
            "\n",
            "           0       0.38      0.13      0.19       758\n",
            "           1       0.62      0.87      0.73      1242\n",
            "\n",
            "    accuracy                           0.59      2000\n",
            "   macro avg       0.50      0.50      0.46      2000\n",
            "weighted avg       0.53      0.59      0.52      2000\n",
            "\n",
            "SVM val_data Macro F1 Score :  0.38309685379395436\n",
            "              precision    recall  f1-score   support\n",
            "\n",
            "           0       0.00      0.00      0.00       758\n",
            "           1       0.62      1.00      0.77      1242\n",
            "\n",
            "    accuracy                           0.62      2000\n",
            "   macro avg       0.31      0.50      0.38      2000\n",
            "weighted avg       0.39      0.62      0.48      2000\n",
            "\n",
            "DT val_data Macro F1 Score :  0.5384620623411499\n",
            "              precision    recall  f1-score   support\n",
            "\n",
            "           0       0.42      0.46      0.44       758\n",
            "           1       0.65      0.62      0.64      1242\n",
            "\n",
            "    accuracy                           0.56      2000\n",
            "   macro avg       0.54      0.54      0.54      2000\n",
            "weighted avg       0.57      0.56      0.56      2000\n",
            "\n",
            "XGB val_data Macro F1 Score :  0.49373592881542655\n",
            "              precision    recall  f1-score   support\n",
            "\n",
            "           0       0.39      0.25      0.30       758\n",
            "           1       0.62      0.76      0.68      1242\n",
            "\n",
            "    accuracy                           0.57      2000\n",
            "   macro avg       0.50      0.50      0.49      2000\n",
            "weighted avg       0.53      0.57      0.54      2000\n",
            "\n"
          ]
        },
        {
          "output_type": "stream",
          "name": "stderr",
          "text": [
            "/usr/local/lib/python3.10/dist-packages/sklearn/linear_model/_logistic.py:458: ConvergenceWarning: lbfgs failed to converge (status=1):\n",
            "STOP: TOTAL NO. of ITERATIONS REACHED LIMIT.\n",
            "\n",
            "Increase the number of iterations (max_iter) or scale the data as shown in:\n",
            "    https://scikit-learn.org/stable/modules/preprocessing.html\n",
            "Please also refer to the documentation for alternative solver options:\n",
            "    https://scikit-learn.org/stable/modules/linear_model.html#logistic-regression\n",
            "  n_iter_i = _check_optimize_result(\n"
          ]
        },
        {
          "output_type": "stream",
          "name": "stdout",
          "text": [
            "LR val_data Macro F1 Score :  0.38641490301318726\n",
            "              precision    recall  f1-score   support\n",
            "\n",
            "           0       0.38      0.00      0.01       758\n",
            "           1       0.62      1.00      0.76      1242\n",
            "\n",
            "    accuracy                           0.62      2000\n",
            "   macro avg       0.50      0.50      0.39      2000\n",
            "weighted avg       0.53      0.62      0.48      2000\n",
            "\n",
            "Knn val_data Macro F1 Score :  0.49533688493485806\n",
            "              precision    recall  f1-score   support\n",
            "\n",
            "           0       0.38      0.30      0.33       758\n",
            "           1       0.62      0.70      0.66      1242\n",
            "\n",
            "    accuracy                           0.55      2000\n",
            "   macro avg       0.50      0.50      0.50      2000\n",
            "weighted avg       0.53      0.55      0.53      2000\n",
            "\n",
            "GB val_data Macro F1 Score :  0.39735862045145703\n",
            "              precision    recall  f1-score   support\n",
            "\n",
            "           0       0.48      0.02      0.03       758\n",
            "           1       0.62      0.99      0.76      1242\n",
            "\n",
            "    accuracy                           0.62      2000\n",
            "   macro avg       0.55      0.50      0.40      2000\n",
            "weighted avg       0.57      0.62      0.49      2000\n",
            "\n",
            "AdaBoost val_data Macro F1 Score :  0.42081672403051074\n",
            "              precision    recall  f1-score   support\n",
            "\n",
            "           0       0.45      0.05      0.08       758\n",
            "           1       0.62      0.97      0.76      1242\n",
            "\n",
            "    accuracy                           0.62      2000\n",
            "   macro avg       0.54      0.51      0.42      2000\n",
            "weighted avg       0.56      0.62      0.50      2000\n",
            "\n",
            "CatBoost val_data Macro F1 Score :  0.438141545110751\n",
            "              precision    recall  f1-score   support\n",
            "\n",
            "           0       0.39      0.08      0.13       758\n",
            "           1       0.62      0.92      0.74      1242\n",
            "\n",
            "    accuracy                           0.60      2000\n",
            "   macro avg       0.51      0.50      0.44      2000\n",
            "weighted avg       0.53      0.60      0.51      2000\n",
            "\n",
            "Naive Bayes val_data Macro F1 Score :  0.38944497967706726\n",
            "              precision    recall  f1-score   support\n",
            "\n",
            "           0       0.56      0.01      0.01       758\n",
            "           1       0.62      1.00      0.77      1242\n",
            "\n",
            "    accuracy                           0.62      2000\n",
            "   macro avg       0.59      0.50      0.39      2000\n",
            "weighted avg       0.60      0.62      0.48      2000\n",
            "\n",
            "Best_model : DT , Macro F1_score : 0.5384620623411499\n"
          ]
        }
      ]
    },
    {
      "cell_type": "markdown",
      "source": [
        "# DT optuna"
      ],
      "metadata": {
        "id": "rn5vWZZP7qdR"
      }
    },
    {
      "cell_type": "code",
      "source": [
        "test_X = test_df.drop(columns=['user_id'])"
      ],
      "metadata": {
        "id": "RE_zTw9172BH"
      },
      "execution_count": null,
      "outputs": []
    },
    {
      "cell_type": "code",
      "source": [
        "def objective(trial):\n",
        "    param = {\n",
        "        'max_depth' : trial.suggest_int('max_depth', 1, 64),\n",
        "        'min_samples_split' : trial.suggest_float('min_samples_split', 0.1, 1.0),\n",
        "        'min_samples_leaf' : trial.suggest_int('min_samples_leaf', 1, 10),\n",
        "        'criterion' : trial.suggest_categorical('criterion',['gini','entropy']),\n",
        "        'max_features': trial.suggest_categorical('max_features', ['auto', 'sqrt', 'log2', None]),\n",
        "        'class_weight': trial.suggest_categorical('class_weight', [None, 'balanced']),\n",
        "        'splitter': trial.suggest_categorical('splitter', ['best', 'random'])\n",
        "\n",
        "    }\n",
        "    clf = DecisionTreeClassifier(**param)\n",
        "    f1_macro = make_scorer(f1_score, average='macro')\n",
        "    scores = cross_val_score(clf, X, y, n_jobs = -1, cv = 5, scoring = f1_macro)\n",
        "\n",
        "    return np.mean(scores)\n",
        "\n",
        "study = optuna.create_study(direction = 'maximize')\n",
        "study.optimize(objective, n_trials=100)\n",
        "\n",
        "print(f\"Best trial : {study.best_trial.params}\")\n",
        "\n",
        "best_parmas = study.best_trial.params\n",
        "model = DecisionTreeClassifier(**best_parmas)\n",
        "model.fit(X,y)\n",
        "\n",
        "predictions = model.predict(test_X)\n",
        "\n",
        "print(predictions)"
      ],
      "metadata": {
        "colab": {
          "base_uri": "https://localhost:8080/"
        },
        "id": "fqHmptwY7r3X",
        "outputId": "3967d664-14f9-48eb-f720-a0fe76c453fb"
      },
      "execution_count": null,
      "outputs": [
        {
          "output_type": "stream",
          "name": "stderr",
          "text": [
            "[I 2023-12-09 12:30:12,821] A new study created in memory with name: no-name-0b47f7c8-bbd5-4ba4-acb7-b335059599a9\n",
            "[I 2023-12-09 12:30:15,214] Trial 0 finished with value: 0.42442881886264044 and parameters: {'max_depth': 48, 'min_samples_split': 0.9127168112775293, 'min_samples_leaf': 3, 'criterion': 'gini', 'max_features': 'log2', 'class_weight': 'balanced', 'splitter': 'best'}. Best is trial 0 with value: 0.42442881886264044.\n",
            "[I 2023-12-09 12:30:15,347] Trial 1 finished with value: 0.38309682500808584 and parameters: {'max_depth': 58, 'min_samples_split': 0.5392374230960032, 'min_samples_leaf': 7, 'criterion': 'entropy', 'max_features': 'auto', 'class_weight': None, 'splitter': 'best'}. Best is trial 0 with value: 0.42442881886264044.\n",
            "[I 2023-12-09 12:30:15,439] Trial 2 finished with value: 0.3835387420162129 and parameters: {'max_depth': 53, 'min_samples_split': 0.3017820042180338, 'min_samples_leaf': 8, 'criterion': 'gini', 'max_features': 'auto', 'class_weight': None, 'splitter': 'random'}. Best is trial 0 with value: 0.42442881886264044.\n",
            "[I 2023-12-09 12:30:15,551] Trial 3 finished with value: 0.42423266614698596 and parameters: {'max_depth': 51, 'min_samples_split': 0.8824501422642791, 'min_samples_leaf': 7, 'criterion': 'gini', 'max_features': 'log2', 'class_weight': 'balanced', 'splitter': 'best'}. Best is trial 0 with value: 0.42442881886264044.\n",
            "[I 2023-12-09 12:30:15,649] Trial 4 finished with value: 0.38804438965920723 and parameters: {'max_depth': 61, 'min_samples_split': 0.13502977162021979, 'min_samples_leaf': 4, 'criterion': 'gini', 'max_features': None, 'class_weight': None, 'splitter': 'random'}. Best is trial 0 with value: 0.42442881886264044.\n",
            "[I 2023-12-09 12:30:15,763] Trial 5 finished with value: 0.4862472488599365 and parameters: {'max_depth': 47, 'min_samples_split': 0.2567539837340023, 'min_samples_leaf': 5, 'criterion': 'entropy', 'max_features': None, 'class_weight': 'balanced', 'splitter': 'random'}. Best is trial 5 with value: 0.4862472488599365.\n",
            "[I 2023-12-09 12:30:15,867] Trial 6 finished with value: 0.5051602138221616 and parameters: {'max_depth': 13, 'min_samples_split': 0.10157613353341127, 'min_samples_leaf': 1, 'criterion': 'gini', 'max_features': 'sqrt', 'class_weight': 'balanced', 'splitter': 'random'}. Best is trial 6 with value: 0.5051602138221616.\n",
            "[I 2023-12-09 12:30:15,975] Trial 7 finished with value: 0.47021683779347656 and parameters: {'max_depth': 33, 'min_samples_split': 0.8518656538282555, 'min_samples_leaf': 4, 'criterion': 'entropy', 'max_features': None, 'class_weight': 'balanced', 'splitter': 'random'}. Best is trial 6 with value: 0.5051602138221616.\n",
            "[I 2023-12-09 12:30:16,087] Trial 8 finished with value: 0.3855844946415111 and parameters: {'max_depth': 43, 'min_samples_split': 0.11480728062398174, 'min_samples_leaf': 7, 'criterion': 'entropy', 'max_features': None, 'class_weight': None, 'splitter': 'random'}. Best is trial 6 with value: 0.5051602138221616.\n",
            "[I 2023-12-09 12:30:16,218] Trial 9 finished with value: 0.4894973293252578 and parameters: {'max_depth': 18, 'min_samples_split': 0.5923228586405381, 'min_samples_leaf': 7, 'criterion': 'gini', 'max_features': 'log2', 'class_weight': 'balanced', 'splitter': 'best'}. Best is trial 6 with value: 0.5051602138221616.\n",
            "[I 2023-12-09 12:30:16,341] Trial 10 finished with value: 0.4287306905654427 and parameters: {'max_depth': 1, 'min_samples_split': 0.39693472290619053, 'min_samples_leaf': 1, 'criterion': 'gini', 'max_features': 'sqrt', 'class_weight': 'balanced', 'splitter': 'random'}. Best is trial 6 with value: 0.5051602138221616.\n",
            "[I 2023-12-09 12:30:16,483] Trial 11 finished with value: 0.49121942981577105 and parameters: {'max_depth': 11, 'min_samples_split': 0.6087395874931136, 'min_samples_leaf': 1, 'criterion': 'gini', 'max_features': 'sqrt', 'class_weight': 'balanced', 'splitter': 'best'}. Best is trial 6 with value: 0.5051602138221616.\n",
            "[I 2023-12-09 12:30:16,671] Trial 12 finished with value: 0.4651251249020274 and parameters: {'max_depth': 11, 'min_samples_split': 0.6485226718919713, 'min_samples_leaf': 2, 'criterion': 'gini', 'max_features': 'sqrt', 'class_weight': 'balanced', 'splitter': 'best'}. Best is trial 6 with value: 0.5051602138221616.\n",
            "[I 2023-12-09 12:30:16,829] Trial 13 finished with value: 0.5065816224345447 and parameters: {'max_depth': 21, 'min_samples_split': 0.4458145994990686, 'min_samples_leaf': 10, 'criterion': 'gini', 'max_features': 'sqrt', 'class_weight': 'balanced', 'splitter': 'best'}. Best is trial 13 with value: 0.5065816224345447.\n",
            "[I 2023-12-09 12:30:16,979] Trial 14 finished with value: 0.48578551144187115 and parameters: {'max_depth': 24, 'min_samples_split': 0.43157843407891944, 'min_samples_leaf': 10, 'criterion': 'gini', 'max_features': 'sqrt', 'class_weight': 'balanced', 'splitter': 'best'}. Best is trial 13 with value: 0.5065816224345447.\n",
            "[I 2023-12-09 12:30:17,075] Trial 15 finished with value: 0.48995976367955735 and parameters: {'max_depth': 30, 'min_samples_split': 0.25328725947364317, 'min_samples_leaf': 10, 'criterion': 'gini', 'max_features': 'sqrt', 'class_weight': 'balanced', 'splitter': 'random'}. Best is trial 13 with value: 0.5065816224345447.\n",
            "[I 2023-12-09 12:30:17,173] Trial 16 finished with value: 0.38832506435512143 and parameters: {'max_depth': 2, 'min_samples_split': 0.11024813686382728, 'min_samples_leaf': 9, 'criterion': 'gini', 'max_features': 'sqrt', 'class_weight': 'balanced', 'splitter': 'random'}. Best is trial 13 with value: 0.5065816224345447.\n",
            "[I 2023-12-09 12:30:17,334] Trial 17 finished with value: 0.5020412360046101 and parameters: {'max_depth': 15, 'min_samples_split': 0.43418393657788806, 'min_samples_leaf': 6, 'criterion': 'gini', 'max_features': 'sqrt', 'class_weight': 'balanced', 'splitter': 'best'}. Best is trial 13 with value: 0.5065816224345447.\n",
            "[I 2023-12-09 12:30:17,428] Trial 18 finished with value: 0.38305586500812866 and parameters: {'max_depth': 35, 'min_samples_split': 0.7112163747287801, 'min_samples_leaf': 3, 'criterion': 'entropy', 'max_features': 'sqrt', 'class_weight': None, 'splitter': 'random'}. Best is trial 13 with value: 0.5065816224345447.\n",
            "[I 2023-12-09 12:30:17,586] Trial 19 finished with value: 0.4934900037766597 and parameters: {'max_depth': 20, 'min_samples_split': 0.20621815804479549, 'min_samples_leaf': 2, 'criterion': 'gini', 'max_features': 'auto', 'class_weight': 'balanced', 'splitter': 'best'}. Best is trial 13 with value: 0.5065816224345447.\n",
            "[I 2023-12-09 12:30:17,752] Trial 20 finished with value: 0.5063131584851721 and parameters: {'max_depth': 25, 'min_samples_split': 0.3649600706662792, 'min_samples_leaf': 9, 'criterion': 'gini', 'max_features': 'sqrt', 'class_weight': 'balanced', 'splitter': 'best'}. Best is trial 13 with value: 0.5065816224345447.\n",
            "[I 2023-12-09 12:30:17,925] Trial 21 finished with value: 0.4915426506109634 and parameters: {'max_depth': 26, 'min_samples_split': 0.34126652286238673, 'min_samples_leaf': 9, 'criterion': 'gini', 'max_features': 'sqrt', 'class_weight': 'balanced', 'splitter': 'best'}. Best is trial 13 with value: 0.5065816224345447.\n",
            "[I 2023-12-09 12:30:18,085] Trial 22 finished with value: 0.4890734243464959 and parameters: {'max_depth': 9, 'min_samples_split': 0.351798959373843, 'min_samples_leaf': 9, 'criterion': 'gini', 'max_features': 'sqrt', 'class_weight': 'balanced', 'splitter': 'best'}. Best is trial 13 with value: 0.5065816224345447.\n",
            "[I 2023-12-09 12:30:18,252] Trial 23 finished with value: 0.4720215993550945 and parameters: {'max_depth': 39, 'min_samples_split': 0.503256500800438, 'min_samples_leaf': 10, 'criterion': 'gini', 'max_features': 'sqrt', 'class_weight': 'balanced', 'splitter': 'best'}. Best is trial 13 with value: 0.5065816224345447.\n",
            "[I 2023-12-09 12:30:18,425] Trial 24 finished with value: 0.49941406889291595 and parameters: {'max_depth': 25, 'min_samples_split': 0.19555669897757708, 'min_samples_leaf': 8, 'criterion': 'gini', 'max_features': 'sqrt', 'class_weight': 'balanced', 'splitter': 'best'}. Best is trial 13 with value: 0.5065816224345447.\n",
            "[I 2023-12-09 12:30:18,581] Trial 25 finished with value: 0.46958263825185326 and parameters: {'max_depth': 7, 'min_samples_split': 0.4853162898321258, 'min_samples_leaf': 8, 'criterion': 'gini', 'max_features': 'sqrt', 'class_weight': 'balanced', 'splitter': 'best'}. Best is trial 13 with value: 0.5065816224345447.\n",
            "[I 2023-12-09 12:30:18,700] Trial 26 finished with value: 0.38267793367103853 and parameters: {'max_depth': 19, 'min_samples_split': 0.35880800164152377, 'min_samples_leaf': 5, 'criterion': 'entropy', 'max_features': 'sqrt', 'class_weight': None, 'splitter': 'random'}. Best is trial 13 with value: 0.5065816224345447.\n",
            "[I 2023-12-09 12:30:18,838] Trial 27 finished with value: 0.49293515376727487 and parameters: {'max_depth': 30, 'min_samples_split': 0.45590693627544504, 'min_samples_leaf': 9, 'criterion': 'gini', 'max_features': 'auto', 'class_weight': 'balanced', 'splitter': 'best'}. Best is trial 13 with value: 0.5065816224345447.\n",
            "[I 2023-12-09 12:30:18,940] Trial 28 finished with value: 0.4953518155674077 and parameters: {'max_depth': 16, 'min_samples_split': 0.30289459560761883, 'min_samples_leaf': 10, 'criterion': 'gini', 'max_features': 'log2', 'class_weight': 'balanced', 'splitter': 'random'}. Best is trial 13 with value: 0.5065816224345447.\n",
            "[I 2023-12-09 12:30:19,116] Trial 29 finished with value: 0.501444557995058 and parameters: {'max_depth': 22, 'min_samples_split': 0.18504385807833618, 'min_samples_leaf': 6, 'criterion': 'gini', 'max_features': 'log2', 'class_weight': 'balanced', 'splitter': 'best'}. Best is trial 13 with value: 0.5065816224345447.\n",
            "[I 2023-12-09 12:30:19,257] Trial 30 finished with value: 0.5010827983849915 and parameters: {'max_depth': 28, 'min_samples_split': 0.39830123380637245, 'min_samples_leaf': 3, 'criterion': 'gini', 'max_features': 'sqrt', 'class_weight': 'balanced', 'splitter': 'best'}. Best is trial 13 with value: 0.5065816224345447.\n",
            "[I 2023-12-09 12:30:19,409] Trial 31 finished with value: 0.4868753485010796 and parameters: {'max_depth': 15, 'min_samples_split': 0.43555773850335744, 'min_samples_leaf': 6, 'criterion': 'gini', 'max_features': 'sqrt', 'class_weight': 'balanced', 'splitter': 'best'}. Best is trial 13 with value: 0.5065816224345447.\n",
            "[I 2023-12-09 12:30:19,560] Trial 32 finished with value: 0.4799169839797889 and parameters: {'max_depth': 14, 'min_samples_split': 0.5220801022453927, 'min_samples_leaf': 4, 'criterion': 'gini', 'max_features': 'sqrt', 'class_weight': 'balanced', 'splitter': 'best'}. Best is trial 13 with value: 0.5065816224345447.\n",
            "[I 2023-12-09 12:30:19,708] Trial 33 finished with value: 0.46548291683503323 and parameters: {'max_depth': 7, 'min_samples_split': 0.475689251992976, 'min_samples_leaf': 8, 'criterion': 'gini', 'max_features': 'sqrt', 'class_weight': 'balanced', 'splitter': 'best'}. Best is trial 13 with value: 0.5065816224345447.\n",
            "[I 2023-12-09 12:30:19,894] Trial 34 finished with value: 0.4053213283750815 and parameters: {'max_depth': 21, 'min_samples_split': 0.288374351634914, 'min_samples_leaf': 6, 'criterion': 'gini', 'max_features': 'auto', 'class_weight': None, 'splitter': 'best'}. Best is trial 13 with value: 0.5065816224345447.\n",
            "[I 2023-12-09 12:30:20,036] Trial 35 finished with value: 0.4661663230703431 and parameters: {'max_depth': 14, 'min_samples_split': 0.544839207534912, 'min_samples_leaf': 9, 'criterion': 'gini', 'max_features': 'sqrt', 'class_weight': 'balanced', 'splitter': 'best'}. Best is trial 13 with value: 0.5065816224345447.\n",
            "[I 2023-12-09 12:30:20,229] Trial 36 finished with value: 0.39697558005722633 and parameters: {'max_depth': 37, 'min_samples_split': 0.391204652719701, 'min_samples_leaf': 5, 'criterion': 'entropy', 'max_features': 'sqrt', 'class_weight': None, 'splitter': 'best'}. Best is trial 13 with value: 0.5065816224345447.\n",
            "[I 2023-12-09 12:30:20,363] Trial 37 finished with value: 0.5036212608922714 and parameters: {'max_depth': 22, 'min_samples_split': 0.3133318083525597, 'min_samples_leaf': 8, 'criterion': 'gini', 'max_features': None, 'class_weight': 'balanced', 'splitter': 'random'}. Best is trial 13 with value: 0.5065816224345447.\n",
            "[I 2023-12-09 12:30:20,492] Trial 38 finished with value: 0.5113131046648084 and parameters: {'max_depth': 24, 'min_samples_split': 0.15784906263866477, 'min_samples_leaf': 8, 'criterion': 'entropy', 'max_features': None, 'class_weight': 'balanced', 'splitter': 'random'}. Best is trial 38 with value: 0.5113131046648084.\n",
            "[I 2023-12-09 12:30:20,630] Trial 39 finished with value: 0.3848170224422077 and parameters: {'max_depth': 32, 'min_samples_split': 0.15584460443561804, 'min_samples_leaf': 10, 'criterion': 'entropy', 'max_features': None, 'class_weight': None, 'splitter': 'random'}. Best is trial 38 with value: 0.5113131046648084.\n",
            "[I 2023-12-09 12:30:20,779] Trial 40 finished with value: 0.4992424811472242 and parameters: {'max_depth': 43, 'min_samples_split': 0.10477473013624891, 'min_samples_leaf': 7, 'criterion': 'entropy', 'max_features': None, 'class_weight': 'balanced', 'splitter': 'random'}. Best is trial 38 with value: 0.5113131046648084.\n",
            "[I 2023-12-09 12:30:20,892] Trial 41 finished with value: 0.48562658683712634 and parameters: {'max_depth': 23, 'min_samples_split': 0.23863846114990647, 'min_samples_leaf': 8, 'criterion': 'entropy', 'max_features': None, 'class_weight': 'balanced', 'splitter': 'random'}. Best is trial 38 with value: 0.5113131046648084.\n",
            "[I 2023-12-09 12:30:21,013] Trial 42 finished with value: 0.4993709496883355 and parameters: {'max_depth': 27, 'min_samples_split': 0.15918595961999635, 'min_samples_leaf': 9, 'criterion': 'entropy', 'max_features': None, 'class_weight': 'balanced', 'splitter': 'random'}. Best is trial 38 with value: 0.5113131046648084.\n",
            "[I 2023-12-09 12:30:21,130] Trial 43 finished with value: 0.4993512072907607 and parameters: {'max_depth': 17, 'min_samples_split': 0.23108608271351525, 'min_samples_leaf': 7, 'criterion': 'entropy', 'max_features': None, 'class_weight': 'balanced', 'splitter': 'random'}. Best is trial 38 with value: 0.5113131046648084.\n",
            "[I 2023-12-09 12:30:21,249] Trial 44 finished with value: 0.49861355777010674 and parameters: {'max_depth': 20, 'min_samples_split': 0.15368150530836103, 'min_samples_leaf': 8, 'criterion': 'entropy', 'max_features': None, 'class_weight': 'balanced', 'splitter': 'random'}. Best is trial 38 with value: 0.5113131046648084.\n",
            "[I 2023-12-09 12:30:21,369] Trial 45 finished with value: 0.4964114604239215 and parameters: {'max_depth': 11, 'min_samples_split': 0.2940554673841106, 'min_samples_leaf': 8, 'criterion': 'gini', 'max_features': None, 'class_weight': 'balanced', 'splitter': 'random'}. Best is trial 38 with value: 0.5113131046648084.\n",
            "[I 2023-12-09 12:30:21,488] Trial 46 finished with value: 0.49732018654565946 and parameters: {'max_depth': 29, 'min_samples_split': 0.21128731646416968, 'min_samples_leaf': 9, 'criterion': 'gini', 'max_features': None, 'class_weight': 'balanced', 'splitter': 'random'}. Best is trial 38 with value: 0.5113131046648084.\n",
            "[I 2023-12-09 12:30:21,591] Trial 47 finished with value: 0.4972758973158814 and parameters: {'max_depth': 33, 'min_samples_split': 0.2733660606199867, 'min_samples_leaf': 10, 'criterion': 'gini', 'max_features': 'log2', 'class_weight': 'balanced', 'splitter': 'random'}. Best is trial 38 with value: 0.5113131046648084.\n",
            "[I 2023-12-09 12:30:21,718] Trial 48 finished with value: 0.5074922969932676 and parameters: {'max_depth': 63, 'min_samples_split': 0.10084567119832559, 'min_samples_leaf': 2, 'criterion': 'entropy', 'max_features': None, 'class_weight': 'balanced', 'splitter': 'random'}. Best is trial 38 with value: 0.5113131046648084.\n",
            "[I 2023-12-09 12:30:21,860] Trial 49 finished with value: 0.5017588014024813 and parameters: {'max_depth': 57, 'min_samples_split': 0.10182327418117254, 'min_samples_leaf': 1, 'criterion': 'entropy', 'max_features': 'auto', 'class_weight': 'balanced', 'splitter': 'random'}. Best is trial 38 with value: 0.5113131046648084.\n",
            "[I 2023-12-09 12:30:21,990] Trial 50 finished with value: 0.38693440944034074 and parameters: {'max_depth': 62, 'min_samples_split': 0.14747426049325887, 'min_samples_leaf': 2, 'criterion': 'entropy', 'max_features': None, 'class_weight': None, 'splitter': 'random'}. Best is trial 38 with value: 0.5113131046648084.\n",
            "[I 2023-12-09 12:30:22,135] Trial 51 finished with value: 0.49622033662872056 and parameters: {'max_depth': 55, 'min_samples_split': 0.17732889875733146, 'min_samples_leaf': 1, 'criterion': 'entropy', 'max_features': None, 'class_weight': 'balanced', 'splitter': 'random'}. Best is trial 38 with value: 0.5113131046648084.\n",
            "[I 2023-12-09 12:30:22,272] Trial 52 finished with value: 0.49987250792948457 and parameters: {'max_depth': 48, 'min_samples_split': 0.1357558729324726, 'min_samples_leaf': 2, 'criterion': 'entropy', 'max_features': None, 'class_weight': 'balanced', 'splitter': 'random'}. Best is trial 38 with value: 0.5113131046648084.\n",
            "[I 2023-12-09 12:30:22,415] Trial 53 finished with value: 0.45100521784101694 and parameters: {'max_depth': 26, 'min_samples_split': 0.2232099123742673, 'min_samples_leaf': 2, 'criterion': 'entropy', 'max_features': None, 'class_weight': 'balanced', 'splitter': 'random'}. Best is trial 38 with value: 0.5113131046648084.\n",
            "[I 2023-12-09 12:30:22,559] Trial 54 finished with value: 0.4902775571932839 and parameters: {'max_depth': 51, 'min_samples_split': 0.2482629813668752, 'min_samples_leaf': 3, 'criterion': 'gini', 'max_features': None, 'class_weight': 'balanced', 'splitter': 'random'}. Best is trial 38 with value: 0.5113131046648084.\n",
            "[I 2023-12-09 12:30:22,695] Trial 55 finished with value: 0.4849435825356281 and parameters: {'max_depth': 23, 'min_samples_split': 0.13099471680108615, 'min_samples_leaf': 4, 'criterion': 'gini', 'max_features': None, 'class_weight': 'balanced', 'splitter': 'random'}. Best is trial 38 with value: 0.5113131046648084.\n",
            "[I 2023-12-09 12:30:22,823] Trial 56 finished with value: 0.4661365652379382 and parameters: {'max_depth': 18, 'min_samples_split': 0.32056945113416246, 'min_samples_leaf': 7, 'criterion': 'gini', 'max_features': 'log2', 'class_weight': 'balanced', 'splitter': 'random'}. Best is trial 38 with value: 0.5113131046648084.\n",
            "[I 2023-12-09 12:30:22,935] Trial 57 finished with value: 0.44027734005625785 and parameters: {'max_depth': 3, 'min_samples_split': 0.1790664799530961, 'min_samples_leaf': 1, 'criterion': 'entropy', 'max_features': None, 'class_weight': 'balanced', 'splitter': 'random'}. Best is trial 38 with value: 0.5113131046648084.\n",
            "[I 2023-12-09 12:30:23,038] Trial 58 finished with value: 0.4830385232215466 and parameters: {'max_depth': 12, 'min_samples_split': 0.25320657266985985, 'min_samples_leaf': 10, 'criterion': 'gini', 'max_features': 'sqrt', 'class_weight': 'balanced', 'splitter': 'random'}. Best is trial 38 with value: 0.5113131046648084.\n",
            "[I 2023-12-09 12:30:23,156] Trial 59 finished with value: 0.4414913325899971 and parameters: {'max_depth': 24, 'min_samples_split': 0.33045571854781697, 'min_samples_leaf': 9, 'criterion': 'gini', 'max_features': 'auto', 'class_weight': 'balanced', 'splitter': 'random'}. Best is trial 38 with value: 0.5113131046648084.\n",
            "[I 2023-12-09 12:30:23,261] Trial 60 finished with value: 0.488661026178569 and parameters: {'max_depth': 43, 'min_samples_split': 0.190854759578028, 'min_samples_leaf': 8, 'criterion': 'entropy', 'max_features': 'sqrt', 'class_weight': 'balanced', 'splitter': 'random'}. Best is trial 38 with value: 0.5113131046648084.\n",
            "[I 2023-12-09 12:30:23,428] Trial 61 finished with value: 0.5014981231768166 and parameters: {'max_depth': 18, 'min_samples_split': 0.3685731861365365, 'min_samples_leaf': 6, 'criterion': 'gini', 'max_features': 'sqrt', 'class_weight': 'balanced', 'splitter': 'best'}. Best is trial 38 with value: 0.5113131046648084.\n",
            "[I 2023-12-09 12:30:23,646] Trial 62 finished with value: 0.4282880238528183 and parameters: {'max_depth': 6, 'min_samples_split': 0.12251466691343671, 'min_samples_leaf': 7, 'criterion': 'gini', 'max_features': 'sqrt', 'class_weight': 'balanced', 'splitter': 'best'}. Best is trial 38 with value: 0.5113131046648084.\n",
            "[I 2023-12-09 12:30:23,910] Trial 63 finished with value: 0.4962123911101419 and parameters: {'max_depth': 21, 'min_samples_split': 0.4198224336811787, 'min_samples_leaf': 9, 'criterion': 'gini', 'max_features': 'sqrt', 'class_weight': 'balanced', 'splitter': 'best'}. Best is trial 38 with value: 0.5113131046648084.\n",
            "[I 2023-12-09 12:30:24,224] Trial 64 finished with value: 0.5006314029309038 and parameters: {'max_depth': 16, 'min_samples_split': 0.3147089025207662, 'min_samples_leaf': 10, 'criterion': 'gini', 'max_features': 'sqrt', 'class_weight': 'balanced', 'splitter': 'best'}. Best is trial 38 with value: 0.5113131046648084.\n",
            "[I 2023-12-09 12:30:24,560] Trial 65 finished with value: 0.4710211368879351 and parameters: {'max_depth': 13, 'min_samples_split': 0.37610372374288786, 'min_samples_leaf': 3, 'criterion': 'gini', 'max_features': 'sqrt', 'class_weight': 'balanced', 'splitter': 'best'}. Best is trial 38 with value: 0.5113131046648084.\n",
            "[I 2023-12-09 12:30:24,911] Trial 66 finished with value: 0.4859950258312925 and parameters: {'max_depth': 64, 'min_samples_split': 0.4473621312255911, 'min_samples_leaf': 1, 'criterion': 'gini', 'max_features': 'sqrt', 'class_weight': 'balanced', 'splitter': 'best'}. Best is trial 38 with value: 0.5113131046648084.\n",
            "[I 2023-12-09 12:30:25,159] Trial 67 finished with value: 0.39347175863430134 and parameters: {'max_depth': 9, 'min_samples_split': 0.3487779218223993, 'min_samples_leaf': 9, 'criterion': 'gini', 'max_features': 'sqrt', 'class_weight': None, 'splitter': 'best'}. Best is trial 38 with value: 0.5113131046648084.\n",
            "[I 2023-12-09 12:30:25,814] Trial 68 finished with value: 0.4530850122147726 and parameters: {'max_depth': 31, 'min_samples_split': 0.4716053145815528, 'min_samples_leaf': 4, 'criterion': 'gini', 'max_features': None, 'class_weight': 'balanced', 'splitter': 'best'}. Best is trial 38 with value: 0.5113131046648084.\n",
            "[I 2023-12-09 12:30:26,081] Trial 69 finished with value: 0.4879206528573725 and parameters: {'max_depth': 25, 'min_samples_split': 0.4027581779599009, 'min_samples_leaf': 7, 'criterion': 'gini', 'max_features': 'log2', 'class_weight': 'balanced', 'splitter': 'best'}. Best is trial 38 with value: 0.5113131046648084.\n",
            "[I 2023-12-09 12:30:26,275] Trial 70 finished with value: 0.4795258719073461 and parameters: {'max_depth': 35, 'min_samples_split': 0.26829540755110587, 'min_samples_leaf': 5, 'criterion': 'gini', 'max_features': 'sqrt', 'class_weight': 'balanced', 'splitter': 'random'}. Best is trial 38 with value: 0.5113131046648084.\n",
            "[I 2023-12-09 12:30:26,490] Trial 71 finished with value: 0.4975005433853433 and parameters: {'max_depth': 59, 'min_samples_split': 0.11039459701619928, 'min_samples_leaf': 1, 'criterion': 'entropy', 'max_features': 'auto', 'class_weight': 'balanced', 'splitter': 'random'}. Best is trial 38 with value: 0.5113131046648084.\n",
            "[I 2023-12-09 12:30:26,722] Trial 72 finished with value: 0.49653776885427814 and parameters: {'max_depth': 57, 'min_samples_split': 0.1143682843542161, 'min_samples_leaf': 2, 'criterion': 'entropy', 'max_features': 'auto', 'class_weight': 'balanced', 'splitter': 'random'}. Best is trial 38 with value: 0.5113131046648084.\n",
            "[I 2023-12-09 12:30:26,923] Trial 73 finished with value: 0.48904596507364156 and parameters: {'max_depth': 60, 'min_samples_split': 0.1642259503075764, 'min_samples_leaf': 1, 'criterion': 'entropy', 'max_features': 'auto', 'class_weight': 'balanced', 'splitter': 'random'}. Best is trial 38 with value: 0.5113131046648084.\n",
            "[I 2023-12-09 12:30:27,116] Trial 74 finished with value: 0.4829286811128412 and parameters: {'max_depth': 27, 'min_samples_split': 0.20427311243149388, 'min_samples_leaf': 1, 'criterion': 'entropy', 'max_features': 'auto', 'class_weight': 'balanced', 'splitter': 'random'}. Best is trial 38 with value: 0.5113131046648084.\n",
            "[I 2023-12-09 12:30:27,308] Trial 75 finished with value: 0.49451435005512234 and parameters: {'max_depth': 20, 'min_samples_split': 0.10761297284977611, 'min_samples_leaf': 2, 'criterion': 'entropy', 'max_features': 'auto', 'class_weight': 'balanced', 'splitter': 'random'}. Best is trial 38 with value: 0.5113131046648084.\n",
            "[I 2023-12-09 12:30:27,655] Trial 76 finished with value: 0.49775732067896056 and parameters: {'max_depth': 63, 'min_samples_split': 0.141250294082013, 'min_samples_leaf': 8, 'criterion': 'entropy', 'max_features': 'sqrt', 'class_weight': 'balanced', 'splitter': 'best'}. Best is trial 38 with value: 0.5113131046648084.\n",
            "[I 2023-12-09 12:30:27,830] Trial 77 finished with value: 0.38267793367103853 and parameters: {'max_depth': 40, 'min_samples_split': 0.4213494780692401, 'min_samples_leaf': 10, 'criterion': 'entropy', 'max_features': None, 'class_weight': None, 'splitter': 'random'}. Best is trial 38 with value: 0.5113131046648084.\n",
            "[I 2023-12-09 12:30:28,034] Trial 78 finished with value: 0.4744630117155012 and parameters: {'max_depth': 55, 'min_samples_split': 0.10025256173597112, 'min_samples_leaf': 1, 'criterion': 'gini', 'max_features': 'auto', 'class_weight': 'balanced', 'splitter': 'random'}. Best is trial 38 with value: 0.5113131046648084.\n",
            "[I 2023-12-09 12:30:28,389] Trial 79 finished with value: 0.5046442906436684 and parameters: {'max_depth': 23, 'min_samples_split': 0.2015487898221535, 'min_samples_leaf': 6, 'criterion': 'gini', 'max_features': 'sqrt', 'class_weight': 'balanced', 'splitter': 'best'}. Best is trial 38 with value: 0.5113131046648084.\n",
            "[I 2023-12-09 12:30:28,664] Trial 80 finished with value: 0.508946838684278 and parameters: {'max_depth': 16, 'min_samples_split': 0.21525765976231465, 'min_samples_leaf': 6, 'criterion': 'gini', 'max_features': 'sqrt', 'class_weight': 'balanced', 'splitter': 'best'}. Best is trial 38 with value: 0.5113131046648084.\n",
            "[I 2023-12-09 12:30:28,942] Trial 81 finished with value: 0.4927563477013311 and parameters: {'max_depth': 22, 'min_samples_split': 0.22279261271167317, 'min_samples_leaf': 6, 'criterion': 'gini', 'max_features': 'sqrt', 'class_weight': 'balanced', 'splitter': 'best'}. Best is trial 38 with value: 0.5113131046648084.\n",
            "[I 2023-12-09 12:30:29,276] Trial 82 finished with value: 0.5061722551536072 and parameters: {'max_depth': 15, 'min_samples_split': 0.1729541667310837, 'min_samples_leaf': 6, 'criterion': 'gini', 'max_features': 'sqrt', 'class_weight': 'balanced', 'splitter': 'best'}. Best is trial 38 with value: 0.5113131046648084.\n",
            "[I 2023-12-09 12:30:29,655] Trial 83 finished with value: 0.4978872909466074 and parameters: {'max_depth': 16, 'min_samples_split': 0.17208424866480182, 'min_samples_leaf': 5, 'criterion': 'gini', 'max_features': 'sqrt', 'class_weight': 'balanced', 'splitter': 'best'}. Best is trial 38 with value: 0.5113131046648084.\n",
            "[I 2023-12-09 12:30:29,929] Trial 84 finished with value: 0.49223203160776474 and parameters: {'max_depth': 18, 'min_samples_split': 0.1992279127658295, 'min_samples_leaf': 6, 'criterion': 'gini', 'max_features': 'sqrt', 'class_weight': 'balanced', 'splitter': 'best'}. Best is trial 38 with value: 0.5113131046648084.\n",
            "[I 2023-12-09 12:30:30,253] Trial 85 finished with value: 0.4933810982000071 and parameters: {'max_depth': 10, 'min_samples_split': 0.28613478707707973, 'min_samples_leaf': 5, 'criterion': 'gini', 'max_features': 'sqrt', 'class_weight': 'balanced', 'splitter': 'best'}. Best is trial 38 with value: 0.5113131046648084.\n",
            "[I 2023-12-09 12:30:30,598] Trial 86 finished with value: 0.48526217432952584 and parameters: {'max_depth': 14, 'min_samples_split': 0.13421006843993746, 'min_samples_leaf': 6, 'criterion': 'gini', 'max_features': 'sqrt', 'class_weight': 'balanced', 'splitter': 'best'}. Best is trial 38 with value: 0.5113131046648084.\n",
            "[I 2023-12-09 12:30:30,839] Trial 87 finished with value: 0.5033036277513107 and parameters: {'max_depth': 29, 'min_samples_split': 0.22870727761969753, 'min_samples_leaf': 7, 'criterion': 'gini', 'max_features': 'sqrt', 'class_weight': 'balanced', 'splitter': 'best'}. Best is trial 38 with value: 0.5113131046648084.\n",
            "[I 2023-12-09 12:30:31,142] Trial 88 finished with value: 0.5077910425288092 and parameters: {'max_depth': 19, 'min_samples_split': 0.16094247638746906, 'min_samples_leaf': 7, 'criterion': 'gini', 'max_features': 'sqrt', 'class_weight': 'balanced', 'splitter': 'best'}. Best is trial 38 with value: 0.5113131046648084.\n",
            "[I 2023-12-09 12:30:31,421] Trial 89 finished with value: 0.4149771042611965 and parameters: {'max_depth': 19, 'min_samples_split': 0.15725334640833746, 'min_samples_leaf': 7, 'criterion': 'gini', 'max_features': 'sqrt', 'class_weight': None, 'splitter': 'best'}. Best is trial 38 with value: 0.5113131046648084.\n",
            "[I 2023-12-09 12:30:31,641] Trial 90 finished with value: 0.4996780737454172 and parameters: {'max_depth': 24, 'min_samples_split': 0.17443860429030447, 'min_samples_leaf': 6, 'criterion': 'gini', 'max_features': 'sqrt', 'class_weight': 'balanced', 'splitter': 'best'}. Best is trial 38 with value: 0.5113131046648084.\n",
            "[I 2023-12-09 12:30:31,811] Trial 91 finished with value: 0.5063075010134875 and parameters: {'max_depth': 21, 'min_samples_split': 0.1944727509729568, 'min_samples_leaf': 8, 'criterion': 'gini', 'max_features': 'sqrt', 'class_weight': 'balanced', 'splitter': 'best'}. Best is trial 38 with value: 0.5113131046648084.\n",
            "[I 2023-12-09 12:30:31,983] Trial 92 finished with value: 0.49142339675497454 and parameters: {'max_depth': 20, 'min_samples_split': 0.2105525346195205, 'min_samples_leaf': 6, 'criterion': 'gini', 'max_features': 'sqrt', 'class_weight': 'balanced', 'splitter': 'best'}. Best is trial 38 with value: 0.5113131046648084.\n",
            "[I 2023-12-09 12:30:32,161] Trial 93 finished with value: 0.5014320326089756 and parameters: {'max_depth': 16, 'min_samples_split': 0.19328079123187267, 'min_samples_leaf': 7, 'criterion': 'gini', 'max_features': 'sqrt', 'class_weight': 'balanced', 'splitter': 'best'}. Best is trial 38 with value: 0.5113131046648084.\n",
            "[I 2023-12-09 12:30:32,387] Trial 94 finished with value: 0.488611840111019 and parameters: {'max_depth': 23, 'min_samples_split': 0.1340572271811581, 'min_samples_leaf': 8, 'criterion': 'gini', 'max_features': 'sqrt', 'class_weight': 'balanced', 'splitter': 'best'}. Best is trial 38 with value: 0.5113131046648084.\n",
            "[I 2023-12-09 12:30:32,567] Trial 95 finished with value: 0.4931023817861025 and parameters: {'max_depth': 12, 'min_samples_split': 0.1519504331640706, 'min_samples_leaf': 8, 'criterion': 'gini', 'max_features': 'sqrt', 'class_weight': 'balanced', 'splitter': 'best'}. Best is trial 38 with value: 0.5113131046648084.\n",
            "[I 2023-12-09 12:30:32,773] Trial 96 finished with value: 0.4950099362507128 and parameters: {'max_depth': 26, 'min_samples_split': 0.17829565425934338, 'min_samples_leaf': 9, 'criterion': 'gini', 'max_features': 'sqrt', 'class_weight': 'balanced', 'splitter': 'best'}. Best is trial 38 with value: 0.5113131046648084.\n",
            "[I 2023-12-09 12:30:32,971] Trial 97 finished with value: 0.5033607206385017 and parameters: {'max_depth': 21, 'min_samples_split': 0.13062478486334145, 'min_samples_leaf': 6, 'criterion': 'gini', 'max_features': 'sqrt', 'class_weight': 'balanced', 'splitter': 'best'}. Best is trial 38 with value: 0.5113131046648084.\n",
            "[I 2023-12-09 12:30:33,168] Trial 98 finished with value: 0.5082966417805272 and parameters: {'max_depth': 15, 'min_samples_split': 0.24568956257796212, 'min_samples_leaf': 5, 'criterion': 'gini', 'max_features': 'sqrt', 'class_weight': 'balanced', 'splitter': 'best'}. Best is trial 38 with value: 0.5113131046648084.\n",
            "[I 2023-12-09 12:30:33,354] Trial 99 finished with value: 0.4921707927167581 and parameters: {'max_depth': 14, 'min_samples_split': 0.25305186090621223, 'min_samples_leaf': 7, 'criterion': 'gini', 'max_features': 'sqrt', 'class_weight': 'balanced', 'splitter': 'best'}. Best is trial 38 with value: 0.5113131046648084.\n"
          ]
        },
        {
          "output_type": "stream",
          "name": "stdout",
          "text": [
            "Best trial : {'max_depth': 24, 'min_samples_split': 0.15784906263866477, 'min_samples_leaf': 8, 'criterion': 'entropy', 'max_features': None, 'class_weight': 'balanced', 'splitter': 'random'}\n",
            "[0 0 0 ... 0 0 0]\n"
          ]
        }
      ]
    },
    {
      "cell_type": "markdown",
      "source": [
        "# knn bagging test"
      ],
      "metadata": {
        "id": "XznrmT2K2myU"
      }
    },
    {
      "cell_type": "code",
      "source": [
        "train_df1 = train.copy()\n",
        "test_df1 = test.copy()"
      ],
      "metadata": {
        "id": "B6VnC3uK19IM"
      },
      "execution_count": null,
      "outputs": []
    },
    {
      "cell_type": "code",
      "source": [
        "num_col = [col for col in train.columns if train_df1[col].dtype in ['int64', 'float64'] and col not in ['target']]\n",
        "cat_col = [col for col in train.columns if train_df1[col].dtype == 'object' and col not in ['user_id']]\n",
        "\n",
        "scaler = StandardScaler()\n",
        "\n",
        "train_df[num_col] = scaler.fit_transform(train_df1[num_col])\n",
        "test_df[num_col] = scaler.transform(test_df1[num_col])\n",
        "\n",
        "label_encoders = {}\n",
        "\n",
        "for col in cat_col:\n",
        "    label_encoders[col] = LabelEncoder()\n",
        "    train_df1[col] = label_encoders[col].fit_transform(train_df1[col])\n",
        "    test_df1[col] = label_encoders[col].transform(test_df1[col])"
      ],
      "metadata": {
        "id": "VBw4cw9110_F"
      },
      "execution_count": null,
      "outputs": []
    },
    {
      "cell_type": "code",
      "source": [
        "X = train_df1.drop(columns = ['user_id', 'target'])\n",
        "y = train_df1['target']\n",
        "test_X = test_df.drop(columns=['user_id'])"
      ],
      "metadata": {
        "id": "STOwnQ8810mX"
      },
      "execution_count": null,
      "outputs": []
    },
    {
      "cell_type": "code",
      "source": [
        "X_train, X_val, y_train, y_val = train_test_split(X, y, test_size=0.2, random_state=42)\n",
        "\n",
        "knn_bagging_model = BaggingClassifier(\n",
        "    base_estimator = KNeighborsClassifier(),\n",
        "    n_estimators=20,\n",
        "    random_state=42,\n",
        "    n_jobs=-1\n",
        ")\n",
        "\n",
        "\n",
        "knn_bagging_model.fit(X_train, y_train)\n",
        "\n",
        "val_pred = knn_bagging_model.predict(X_val)\n",
        "val_f1_score = f1_score(y_val, val_pred, average ='macro')\n",
        "print(f\"Validation Accuracy: {val_f1_score}\")\n",
        "\n",
        "train_pred = knn_bagging_model.predict(X)\n",
        "va1_f1_score = f1_score(y, train_pred, average='macro')\n",
        "print(f\"Training Macro F1 Score: {val_f1_score}\")\n",
        "\n",
        "# test_pred = knn_bagging_model.predict(test_X)\n",
        "# print(\"Test predict\")\n",
        "# test_pred\n"
      ],
      "metadata": {
        "colab": {
          "base_uri": "https://localhost:8080/"
        },
        "id": "e488mWFEAWNS",
        "outputId": "fd5e7609-204e-479b-f9ae-ce7ab591ba8f"
      },
      "execution_count": null,
      "outputs": [
        {
          "output_type": "stream",
          "name": "stderr",
          "text": [
            "/usr/local/lib/python3.10/dist-packages/sklearn/ensemble/_base.py:166: FutureWarning: `base_estimator` was renamed to `estimator` in version 1.2 and will be removed in 1.4.\n",
            "  warnings.warn(\n"
          ]
        },
        {
          "output_type": "stream",
          "name": "stdout",
          "text": [
            "Validation Accuracy: 0.500993382408866\n",
            "Training Macro F1 Score: 0.500993382408866\n"
          ]
        }
      ]
    },
    {
      "cell_type": "markdown",
      "source": [
        "# Decision Tree bagging"
      ],
      "metadata": {
        "id": "YuXXYyp0GB3H"
      }
    },
    {
      "cell_type": "markdown",
      "source": [
        "# light gbm test"
      ],
      "metadata": {
        "id": "acO49Cu212wX"
      }
    },
    {
      "cell_type": "code",
      "source": [
        "# X_train, X_val, y_train, y_val = train_test_split(X, y, test_size=0.2, random_state=42)\n",
        "\n",
        "# model = LGBMClassifier()\n",
        "\n",
        "\n",
        "# early_stopping_callback = early_stopping(stopping_rounds=100, verbose=True)\n",
        "\n",
        "# model.fit(\n",
        "#     X_train,\n",
        "#     y_train,\n",
        "#     eval_set=[(X_val, y_val)],\n",
        "#     callbacks=[early_stopping_callback]\n",
        "# )\n",
        "\n",
        "\n",
        "# val_pred = model.predict(X_val)\n",
        "# val_f1_score = f1_score(y_val, val_pred, average='macro')\n",
        "\n",
        "# print(\"검증 데이터에 대한 Macro F1 Score:\", val_f1_score)\n",
        "\n",
        "# y_pred = model.predict(test_X)\n",
        "\n",
        "\n",
        "# print(\"테스트 데이터 예측 결과:\")\n",
        "# print(y_pred)"
      ],
      "metadata": {
        "id": "bd7uBhzOpaCr"
      },
      "execution_count": null,
      "outputs": []
    },
    {
      "cell_type": "markdown",
      "source": [
        "# 'boosting_type': 'gbdt','rf'"
      ],
      "metadata": {
        "id": "3jT6MFMi89SJ"
      }
    },
    {
      "cell_type": "code",
      "source": [
        "# X_train, X_val, y_train, y_val = train_test_split(X, y, test_size=0.2, random_state=42)\n",
        "\n",
        "# def objective(trial):\n",
        "#     param = {\n",
        "#         'objective': 'binary',\n",
        "#         'metric': 'binary_logloss',\n",
        "#         'verbosity': -1,\n",
        "#         'boosting_type': 'gbdt',\n",
        "#         'lambda_l1': trial.suggest_loguniform('lambda_l1', 1e-8, 10.0),\n",
        "#         'lambda_l2': trial.suggest_loguniform('lambda_l2', 1e-8, 10.0),\n",
        "#         'num_leaves': trial.suggest_int('num_leaves', 2, 256),\n",
        "#         'feature_fraction': trial.suggest_uniform('feature_fraction', 0.4, 1.0),\n",
        "#         'bagging_fraction': trial.suggest_uniform('bagging_fraction', 0.4, 1.0),\n",
        "#         'bagging_freq': trial.suggest_int('bagging_freq', 1, 7),\n",
        "#         'min_child_samples': trial.suggest_int('min_child_samples', 5, 100),\n",
        "#     }\n",
        "#     early_stopping_callback = early_stopping(stopping_rounds=100, verbose=True)\n",
        "\n",
        "#     clf = LGBMClassifier(**param)\n",
        "#     clf.fit(\n",
        "#         X_train,\n",
        "#         y_train,\n",
        "#         eval_set=[(X_val, y_val)],\n",
        "#         callbacks = [early_stopping_callback])\n",
        "#     pred = clf.predict(X_val)\n",
        "#     f1 = f1_score(y_val, pred, average='macro')\n",
        "#     return f1\n",
        "\n",
        "# study = optuna.create_study(direction='maximize')\n",
        "# study.optimize(objective, n_trials=100)\n",
        "\n",
        "# print(f'Number of finished trials: {len(study.trials)}')\n",
        "# print('Best trial:')\n",
        "# trial = study.best_trial\n",
        "\n",
        "# print(f'  Value: {trial.value}')\n",
        "# print('  Params: ')\n",
        "# for key, value in trial.params.items():\n",
        "#     print(f'    {key}: {value}')\n"
      ],
      "metadata": {
        "id": "AIFqa-478Xqx"
      },
      "execution_count": null,
      "outputs": []
    },
    {
      "cell_type": "code",
      "source": [
        "# best_params = study.best_trial.params\n",
        "\n",
        "# early_stopping_callback = early_stopping(stopping_rounds=100, verbose=True)\n",
        "# model = lgb.LGBMClassifier(**best_params)\n",
        "# model.fit(X_train, y_train, eval_set = [(X_val, y_val)], callbacks =[early_stopping_callback])\n",
        "\n",
        "# val_pred = model.predict(X_val)\n",
        "# val_f1_score = f1_score(y_val, val_pred, average = 'macro')\n",
        "# print(\"검증 : \" , val_f1_score)\n",
        "\n",
        "# test_pred = model.predict(test_X)\n",
        "# test_pred"
      ],
      "metadata": {
        "id": "wnOO31KZ98bg"
      },
      "execution_count": null,
      "outputs": []
    },
    {
      "cell_type": "code",
      "source": [
        "# from google.colab import files\n",
        "# sample_submission['target'] = test_pred\n",
        "\n",
        "# sample_submission.to_csv('(12.1)knn_bagging.csv', index = False)\n",
        "# files.download('(12.1)knn_bagging.csv')\n",
        "\n",
        "#\tscore : 0.4966601652"
      ],
      "metadata": {
        "id": "HppcBA6MBAgJ"
      },
      "execution_count": null,
      "outputs": []
    },
    {
      "cell_type": "markdown",
      "source": [
        "# DT bagging test  "
      ],
      "metadata": {
        "id": "pld80k_j2WyX"
      }
    },
    {
      "cell_type": "code",
      "source": [
        "train_df2 = train.copy()\n",
        "test_df2 = test.copy()"
      ],
      "metadata": {
        "id": "oUDWSv_427dx"
      },
      "execution_count": null,
      "outputs": []
    },
    {
      "cell_type": "code",
      "source": [
        "num_col = [col for col in train.columns if train_df2[col].dtype in ['int64', 'float64'] and col not in ['target']]\n",
        "cat_col = [col for col in train.columns if train_df2[col].dtype == 'object' and col not in ['user_id']]\n",
        "\n",
        "scaler = StandardScaler()\n",
        "\n",
        "train_df2[num_col] = scaler.fit_transform(train_df2[num_col])\n",
        "test_df2[num_col] = scaler.transform(test_df2[num_col])\n",
        "\n",
        "label_encoders = {}\n",
        "\n",
        "for col in cat_col:\n",
        "    label_encoders[col] = LabelEncoder()\n",
        "    train_df2[col] = label_encoders[col].fit_transform(train_df2[col])\n",
        "    test_df2[col] = label_encoders[col].transform(test_df2[col])"
      ],
      "metadata": {
        "id": "z26xOH8r3A47"
      },
      "execution_count": null,
      "outputs": []
    },
    {
      "cell_type": "code",
      "source": [
        "X = train_df2.drop(columns = ['user_id', 'target'])\n",
        "y = train_df2['target']\n",
        "test_X = test_df.drop(columns=['user_id'])"
      ],
      "metadata": {
        "id": "FiDk5c9O3E8x"
      },
      "execution_count": null,
      "outputs": []
    },
    {
      "cell_type": "code",
      "source": [
        "X_train, X_val, y_train, y_val = train_test_split(X, y, test_size=0.2, random_state=42)\n",
        "\n",
        "# class_weight = {\n",
        "#     0 : 1 - 0.62,\n",
        "#     1 : 1 - 0.38\n",
        "# }\n",
        "\n",
        "dt_bagging_model = BaggingClassifier(\n",
        "    base_estimator=DecisionTreeClassifier(random_state=42),\n",
        "    n_estimators=3,\n",
        "    random_state=42,\n",
        "    n_jobs=-1\n",
        ")\n",
        "\n",
        "dt_bagging_model.fit(X_train, y_train)\n",
        "\n",
        "val_pred = dt_bagging_model.predict(X_val)\n",
        "val_f1_score = f1_score(y_val, val_pred, average='macro')\n",
        "print(f\"Validation Macro F1 Score: {val_f1_score}\")\n",
        "\n",
        "\n",
        "# test_pred = dt_bagging_model.predict(test_X)\n",
        "# print(\"Test Predictions:\")\n",
        "# print(test_pred)"
      ],
      "metadata": {
        "colab": {
          "base_uri": "https://localhost:8080/"
        },
        "id": "Ru_4IskpE2MU",
        "outputId": "0a6701f8-1815-4756-9c46-c68fec05239a"
      },
      "execution_count": null,
      "outputs": [
        {
          "output_type": "stream",
          "name": "stderr",
          "text": [
            "/usr/local/lib/python3.10/dist-packages/sklearn/ensemble/_base.py:166: FutureWarning: `base_estimator` was renamed to `estimator` in version 1.2 and will be removed in 1.4.\n",
            "  warnings.warn(\n"
          ]
        },
        {
          "output_type": "stream",
          "name": "stdout",
          "text": [
            "Validation Macro F1 Score: 0.5114307975085123\n"
          ]
        }
      ]
    },
    {
      "cell_type": "markdown",
      "source": [],
      "metadata": {
        "id": "gZPKeKa5MW4r"
      }
    },
    {
      "cell_type": "code",
      "source": [
        "# from google.colab import files\n",
        "# sample_submission['target'] = test_pred\n",
        "\n",
        "# sample_submission.to_csv('(12.2)DT_bagging3.csv', index = False)\n",
        "# files.download('(12.2)DT_bagging3.csv')"
      ],
      "metadata": {
        "id": "kSkjjtEi5bZ7"
      },
      "execution_count": null,
      "outputs": []
    },
    {
      "cell_type": "markdown",
      "source": [
        "# baggig DT optuna Test"
      ],
      "metadata": {
        "id": "7xvUHdzQ5Wmo"
      }
    },
    {
      "cell_type": "code",
      "source": [
        "# import optuna\n",
        "# from sklearn.ensemble import BaggingClassifier\n",
        "# from sklearn.tree import DecisionTreeClassifier\n",
        "# from sklearn.model_selection import train_test_split, cross_val_score\n",
        "\n",
        "\n",
        "\n",
        "# def objective(trial):\n",
        "#     dt_max_depth = trial.suggest_int('dt_max_depth', 1, 64)\n",
        "#     dt_min_samples_split = trial.suggest_int('dt_min_samples_split', 2, 30)\n",
        "#     dt_min_samples_leaf = trial.suggest_int('dt_min_samples_leaf', 1, 20)\n",
        "\n",
        "#     n_estimators = trial.suggest_int('n_estimators', 3, 100)\n",
        "#     max_samples = trial.suggest_uniform('max_samples', 0.5, 1.0)\n",
        "#     max_features = trial.suggest_uniform('max_features', 0.5, 1.0)\n",
        "\n",
        "#     model = BaggingClassifier(\n",
        "#         base_estimator=DecisionTreeClassifier(\n",
        "#             max_depth=dt_max_depth,\n",
        "#             min_samples_split=dt_min_samples_split,\n",
        "#             min_samples_leaf=dt_min_samples_leaf\n",
        "#         ),\n",
        "#         n_estimators=n_estimators,\n",
        "#         max_samples=max_samples,\n",
        "#         max_features=max_features,\n",
        "#         random_state=42,\n",
        "#         n_jobs=-1\n",
        "#     )\n",
        "\n",
        "#     score = cross_val_score(model, X, y, n_jobs=-1, cv=5, scoring='f1_macro').mean()\n",
        "#     return score\n",
        "\n",
        "# study = optuna.create_study(direction='maximize')\n",
        "# study.optimize(objective, n_trials=200)\n",
        "\n",
        "# print(study.best_params)\n",
        "\n",
        "\n",
        "# X_train, X_val, y_train, y_val = train_test_split(X, y, test_size=0.2, random_state=42)\n",
        "\n",
        "# best_params = study.best_params\n",
        "# optimized_model = BaggingClassifier(\n",
        "#     base_estimator=DecisionTreeClassifier(\n",
        "#         max_depth=best_params['dt_max_depth'],\n",
        "#         min_samples_split=best_params['dt_min_samples_split'],\n",
        "#         min_samples_leaf=best_params['dt_min_samples_leaf']\n",
        "#     ),\n",
        "#     n_estimators=best_params['n_estimators'],\n",
        "#     max_samples=best_params['max_samples'],\n",
        "#     max_features=best_params['max_features'],\n",
        "#     random_state=42,\n",
        "#     n_jobs=-1\n",
        "# )\n",
        "\n",
        "# optimized_model.fit(X_train, y_train)\n",
        "# val_pred = optimized_model.predict(X_val)\n",
        "# val_f1_score = f1_score(y_val, val_pred, average='macro')\n",
        "# print(f\"Validation Macro F1 Score: {val_f1_score}\")\n",
        "\n",
        "# test_pred = optimized_model.predict(test_X)\n",
        "# print(\"Test Predictions:\")\n",
        "# print(test_pred)\n"
      ],
      "metadata": {
        "id": "VliE8l945Vwe"
      },
      "execution_count": null,
      "outputs": []
    },
    {
      "cell_type": "code",
      "source": [
        "# from google.colab import files\n",
        "# sample_submission['target'] = test_pred\n",
        "\n",
        "# sample_submission.to_csv('(12.3)DT_optuna2.csv', index = False)\n",
        "# files.download('(12.3)DT_optuna2.csv')"
      ],
      "metadata": {
        "id": "zPtu4ISaGUPG"
      },
      "execution_count": null,
      "outputs": []
    },
    {
      "cell_type": "markdown",
      "source": [
        "# DT_voting"
      ],
      "metadata": {
        "id": "XzkIJk-HOKUx"
      }
    },
    {
      "cell_type": "code",
      "source": [
        "X_train, X_val, y_train, y_val = train_test_split(X, y, test_size=0.2, random_state=42)\n",
        "\n",
        "dt1 = DecisionTreeClassifier(random_state=42)\n",
        "dt2 = DecisionTreeClassifier()\n",
        "dt3 = DecisionTreeClassifier()\n",
        "\n",
        "voting_clf = VotingClassifier(estimators=[('dt1', dt1), ('dt2', dt2), ('dt3', dt3)], voting='soft')\n",
        "\n",
        "voting_clf.fit(X_train, y_train)\n",
        "\n",
        "val_pred = voting_clf.predict(X_val)\n",
        "\n",
        "val_f1_score = f1_score(y_val, val_pred, average='macro')\n",
        "\n",
        "print(f\"Validation Macro F1 Score: {val_f1_score}\")"
      ],
      "metadata": {
        "colab": {
          "base_uri": "https://localhost:8080/"
        },
        "id": "zudmlRGJQgCI",
        "outputId": "f6b1702c-17d1-4522-8fbe-ac4f8b66cb0b"
      },
      "execution_count": null,
      "outputs": [
        {
          "output_type": "stream",
          "name": "stdout",
          "text": [
            "Validation Macro F1 Score: 0.5294310422157076\n"
          ]
        }
      ]
    },
    {
      "cell_type": "markdown",
      "source": [
        "- dt 3 = Validation Macro F1 Score: 0.5353187846726446\n",
        "- df 4 = Validation Macro F1 Score: 0.532085855265624\n"
      ],
      "metadata": {
        "id": "NSfwitgvRRpO"
      }
    },
    {
      "cell_type": "code",
      "source": [
        "from sklearn.tree import DecisionTreeClassifier\n",
        "from sklearn.ensemble import VotingClassifier\n",
        "from sklearn.metrics import accuracy_score, f1_score\n",
        "from sklearn.model_selection import KFold\n",
        "import numpy as np\n",
        "\n",
        "\n",
        "dt1 = DecisionTreeClassifier(random_state=42)\n",
        "dt2 = DecisionTreeClassifier()\n",
        "dt3 = DecisionTreeClassifier()\n",
        "\n",
        "\n",
        "voting_clf = VotingClassifier(estimators=[('dt1', dt1), ('dt2', dt2), ('dt3', dt3)], voting='soft')\n",
        "\n",
        "# KFold 교차 검증 설정\n",
        "kf = KFold(n_splits=5, shuffle=True, random_state=42)\n",
        "\n",
        "f1_scores = []\n",
        "\n",
        "for train_index, val_index in kf.split(X):\n",
        "    X_train, X_val = X.iloc[train_index], X.iloc[val_index]\n",
        "    y_train, y_val = y.iloc[train_index], y.iloc[val_index]\n",
        "\n",
        "    voting_clf.fit(X_train, y_train)\n",
        "\n",
        "    val_pred = voting_clf.predict(X_val)\n",
        "\n",
        "    f1_scores.append(f1_score(y_val, val_pred, average='macro'))\n",
        "\n",
        "\n",
        "print(f\"Average Validation Macro F1 Score: {np.mean(f1_scores)}\")\n"
      ],
      "metadata": {
        "colab": {
          "base_uri": "https://localhost:8080/"
        },
        "id": "kR-STKxpVXiU",
        "outputId": "503cbe90-128a-4dac-91fc-1cec6ad70514"
      },
      "execution_count": null,
      "outputs": [
        {
          "output_type": "stream",
          "name": "stdout",
          "text": [
            "Average Validation Macro F1 Score: 0.5188246303994808\n"
          ]
        }
      ]
    },
    {
      "cell_type": "markdown",
      "source": [
        "# DT_KNN_XGB voting"
      ],
      "metadata": {
        "id": "p0kLt3n6cWJ7"
      }
    },
    {
      "cell_type": "code",
      "source": [
        "import optuna\n",
        "from sklearn.metrics import accuracy_score\n",
        "\n",
        "def objective_xgb(trial):\n",
        "    param = {\n",
        "        'verbosity': 0,\n",
        "        'objective': 'binary:logistic',\n",
        "        'eval_metric': 'logloss',\n",
        "        'learning_rate': trial.suggest_float('learning_rate', 0.01, 0.2),\n",
        "        'n_estimators': trial.suggest_int('n_estimators', 100, 300),\n",
        "        'max_depth': trial.suggest_int('max_depth', 3, 9),\n",
        "        'min_child_weight': trial.suggest_int('min_child_weight', 1, 5),\n",
        "        'subsample': trial.suggest_float('subsample', 0.5, 1.0),\n",
        "        'colsample_bytree': trial.suggest_float('colsample_bytree', 0.5, 1.0)\n",
        "    }\n",
        "    model = XGBClassifier(**param)\n",
        "    model.fit(X_train, y_train)\n",
        "    preds = model.predict(X_val)\n",
        "    return accuracy_score(y_val, preds)\n",
        "\n",
        "def objective_knn(trial):\n",
        "    n_neighbors = trial.suggest_int('n_neighbors', 3, 20)\n",
        "    weights = trial.suggest_categorical('weights', ['uniform', 'distance'])\n",
        "    model = KNeighborsClassifier(n_neighbors=n_neighbors, weights=weights)\n",
        "    model.fit(X_train, y_train)\n",
        "    preds = model.predict(X_val)\n",
        "    return accuracy_score(y_val, preds)\n",
        "\n",
        "study_xgb = optuna.create_study(direction='maximize')\n",
        "study_xgb.optimize(objective_xgb, n_trials=100)\n",
        "\n",
        "study_knn = optuna.create_study(direction='maximize')\n",
        "study_knn.optimize(objective_knn, n_trials=100)\n",
        "\n",
        "print(\"Best parameters for XGBClassifier:\", study_xgb.best_trial.params)\n",
        "print(\"Best parameters for KNeighborsClassifier:\", study_knn.best_trial.params)"
      ],
      "metadata": {
        "colab": {
          "base_uri": "https://localhost:8080/"
        },
        "id": "5Ad0kbByb7xn",
        "outputId": "f19773a6-0757-4fb1-bf11-07eaecb1e287"
      },
      "execution_count": null,
      "outputs": [
        {
          "output_type": "stream",
          "name": "stderr",
          "text": [
            "[I 2023-12-10 03:14:00,587] A new study created in memory with name: no-name-5cbf7257-52ef-4e13-a54a-f0a9fcef8db6\n",
            "[I 2023-12-10 03:14:01,453] Trial 0 finished with value: 0.5705 and parameters: {'learning_rate': 0.07652764292584159, 'n_estimators': 290, 'max_depth': 9, 'min_child_weight': 5, 'subsample': 0.9824683571076723, 'colsample_bytree': 0.8497243676242643}. Best is trial 0 with value: 0.5705.\n",
            "[I 2023-12-10 03:14:01,912] Trial 1 finished with value: 0.5655 and parameters: {'learning_rate': 0.11340149421109148, 'n_estimators': 253, 'max_depth': 6, 'min_child_weight': 4, 'subsample': 0.6416729744099061, 'colsample_bytree': 0.540520575444152}. Best is trial 0 with value: 0.5705.\n",
            "[I 2023-12-10 03:14:02,248] Trial 2 finished with value: 0.5855 and parameters: {'learning_rate': 0.13665008985534627, 'n_estimators': 155, 'max_depth': 4, 'min_child_weight': 3, 'subsample': 0.8528708459246555, 'colsample_bytree': 0.5056344985715604}. Best is trial 2 with value: 0.5855.\n",
            "[I 2023-12-10 03:14:04,116] Trial 3 finished with value: 0.6165 and parameters: {'learning_rate': 0.029428445135120766, 'n_estimators': 108, 'max_depth': 9, 'min_child_weight': 2, 'subsample': 0.9554252119874165, 'colsample_bytree': 0.6899711430966659}. Best is trial 3 with value: 0.6165.\n",
            "[I 2023-12-10 03:14:04,903] Trial 4 finished with value: 0.6115 and parameters: {'learning_rate': 0.04491701540429403, 'n_estimators': 122, 'max_depth': 7, 'min_child_weight': 3, 'subsample': 0.8108821645934546, 'colsample_bytree': 0.5126330980510194}. Best is trial 3 with value: 0.6165.\n",
            "[I 2023-12-10 03:14:05,622] Trial 5 finished with value: 0.619 and parameters: {'learning_rate': 0.07314960618835453, 'n_estimators': 126, 'max_depth': 5, 'min_child_weight': 5, 'subsample': 0.8246656910272772, 'colsample_bytree': 0.8710706613681272}. Best is trial 5 with value: 0.619.\n",
            "[I 2023-12-10 03:14:08,227] Trial 6 finished with value: 0.6225 and parameters: {'learning_rate': 0.011213840714046741, 'n_estimators': 227, 'max_depth': 6, 'min_child_weight': 4, 'subsample': 0.7195810819600303, 'colsample_bytree': 0.7761638283501754}. Best is trial 6 with value: 0.6225.\n",
            "[I 2023-12-10 03:14:08,771] Trial 7 finished with value: 0.5845 and parameters: {'learning_rate': 0.07853047117743907, 'n_estimators': 122, 'max_depth': 9, 'min_child_weight': 3, 'subsample': 0.8756951644912571, 'colsample_bytree': 0.8833297276909295}. Best is trial 6 with value: 0.6225.\n",
            "[I 2023-12-10 03:14:09,981] Trial 8 finished with value: 0.6035 and parameters: {'learning_rate': 0.09518997268739572, 'n_estimators': 127, 'max_depth': 5, 'min_child_weight': 3, 'subsample': 0.559960835839973, 'colsample_bytree': 0.5848903760724582}. Best is trial 6 with value: 0.6225.\n",
            "[I 2023-12-10 03:14:11,455] Trial 9 finished with value: 0.566 and parameters: {'learning_rate': 0.09282176306725973, 'n_estimators': 284, 'max_depth': 6, 'min_child_weight': 2, 'subsample': 0.9474977183339279, 'colsample_bytree': 0.6630786659261456}. Best is trial 6 with value: 0.6225.\n",
            "[I 2023-12-10 03:14:11,959] Trial 10 finished with value: 0.5805 and parameters: {'learning_rate': 0.1959933508067611, 'n_estimators': 214, 'max_depth': 3, 'min_child_weight': 1, 'subsample': 0.7169549719349112, 'colsample_bytree': 0.7752289041317985}. Best is trial 6 with value: 0.6225.\n",
            "[I 2023-12-10 03:14:13,243] Trial 11 finished with value: 0.6205 and parameters: {'learning_rate': 0.01162110538904787, 'n_estimators': 197, 'max_depth': 7, 'min_child_weight': 5, 'subsample': 0.7483657411178977, 'colsample_bytree': 0.9996817886051583}. Best is trial 6 with value: 0.6225.\n",
            "[I 2023-12-10 03:14:13,739] Trial 12 finished with value: 0.621 and parameters: {'learning_rate': 0.010162557759025432, 'n_estimators': 190, 'max_depth': 7, 'min_child_weight': 4, 'subsample': 0.7155843799475534, 'colsample_bytree': 0.994890479455973}. Best is trial 6 with value: 0.6225.\n",
            "[I 2023-12-10 03:14:14,268] Trial 13 finished with value: 0.622 and parameters: {'learning_rate': 0.012258755407986741, 'n_estimators': 199, 'max_depth': 7, 'min_child_weight': 4, 'subsample': 0.6625425247415149, 'colsample_bytree': 0.9946124763066821}. Best is trial 6 with value: 0.6225.\n",
            "[I 2023-12-10 03:14:14,922] Trial 14 finished with value: 0.575 and parameters: {'learning_rate': 0.0409096880875983, 'n_estimators': 233, 'max_depth': 8, 'min_child_weight': 4, 'subsample': 0.6499892363681468, 'colsample_bytree': 0.7919316300173785}. Best is trial 6 with value: 0.6225.\n",
            "[I 2023-12-10 03:14:15,266] Trial 15 finished with value: 0.614 and parameters: {'learning_rate': 0.0440946520104104, 'n_estimators': 171, 'max_depth': 5, 'min_child_weight': 4, 'subsample': 0.5133708054515288, 'colsample_bytree': 0.9223418234323569}. Best is trial 6 with value: 0.6225.\n",
            "[I 2023-12-10 03:14:15,971] Trial 16 finished with value: 0.6195 and parameters: {'learning_rate': 0.010027300071676196, 'n_estimators': 249, 'max_depth': 8, 'min_child_weight': 4, 'subsample': 0.6603791902336756, 'colsample_bytree': 0.7140841212594755}. Best is trial 6 with value: 0.6225.\n",
            "[I 2023-12-10 03:14:16,467] Trial 17 finished with value: 0.59 and parameters: {'learning_rate': 0.05554251234993494, 'n_estimators': 222, 'max_depth': 6, 'min_child_weight': 2, 'subsample': 0.7935555605091201, 'colsample_bytree': 0.7907077729934274}. Best is trial 6 with value: 0.6225.\n",
            "[I 2023-12-10 03:14:16,963] Trial 18 finished with value: 0.607 and parameters: {'learning_rate': 0.0283219222356042, 'n_estimators': 166, 'max_depth': 8, 'min_child_weight': 5, 'subsample': 0.5844979399765543, 'colsample_bytree': 0.9530446432753504}. Best is trial 6 with value: 0.6225.\n",
            "[I 2023-12-10 03:14:17,364] Trial 19 finished with value: 0.596 and parameters: {'learning_rate': 0.06042018647512955, 'n_estimators': 265, 'max_depth': 4, 'min_child_weight': 4, 'subsample': 0.6918437689445447, 'colsample_bytree': 0.8371051628954292}. Best is trial 6 with value: 0.6225.\n",
            "[I 2023-12-10 03:14:17,868] Trial 20 finished with value: 0.6115 and parameters: {'learning_rate': 0.028668614908779765, 'n_estimators': 180, 'max_depth': 7, 'min_child_weight': 3, 'subsample': 0.7566656201536757, 'colsample_bytree': 0.9244060869562168}. Best is trial 6 with value: 0.6225.\n",
            "[I 2023-12-10 03:14:18,588] Trial 21 finished with value: 0.621 and parameters: {'learning_rate': 0.010775345135247704, 'n_estimators': 191, 'max_depth': 7, 'min_child_weight': 4, 'subsample': 0.7053173395006164, 'colsample_bytree': 0.9965642462232875}. Best is trial 6 with value: 0.6225.\n",
            "[I 2023-12-10 03:14:20,786] Trial 22 finished with value: 0.622 and parameters: {'learning_rate': 0.023085732926196173, 'n_estimators': 211, 'max_depth': 6, 'min_child_weight': 4, 'subsample': 0.758689547777519, 'colsample_bytree': 0.9461434018860562}. Best is trial 6 with value: 0.6225.\n",
            "[I 2023-12-10 03:14:23,199] Trial 23 finished with value: 0.6125 and parameters: {'learning_rate': 0.032563029520546266, 'n_estimators': 220, 'max_depth': 6, 'min_child_weight': 5, 'subsample': 0.7660380581768375, 'colsample_bytree': 0.9444115398996065}. Best is trial 6 with value: 0.6225.\n",
            "[I 2023-12-10 03:14:24,361] Trial 24 finished with value: 0.6205 and parameters: {'learning_rate': 0.025014679636101555, 'n_estimators': 209, 'max_depth': 5, 'min_child_weight': 4, 'subsample': 0.6251260323075927, 'colsample_bytree': 0.9062980184511517}. Best is trial 6 with value: 0.6225.\n",
            "[I 2023-12-10 03:14:24,876] Trial 25 finished with value: 0.5795 and parameters: {'learning_rate': 0.05567757102825097, 'n_estimators': 232, 'max_depth': 6, 'min_child_weight': 4, 'subsample': 0.6956382099091447, 'colsample_bytree': 0.8437371636082762}. Best is trial 6 with value: 0.6225.\n",
            "[I 2023-12-10 03:14:25,109] Trial 26 finished with value: 0.621 and parameters: {'learning_rate': 0.024153983203355663, 'n_estimators': 150, 'max_depth': 4, 'min_child_weight': 5, 'subsample': 0.7559387266978027, 'colsample_bytree': 0.9606460404651616}. Best is trial 6 with value: 0.6225.\n",
            "[I 2023-12-10 03:14:25,871] Trial 27 finished with value: 0.583 and parameters: {'learning_rate': 0.04411193769405997, 'n_estimators': 235, 'max_depth': 8, 'min_child_weight': 3, 'subsample': 0.6085560346156773, 'colsample_bytree': 0.814503525940624}. Best is trial 6 with value: 0.6225.\n",
            "[I 2023-12-10 03:14:26,285] Trial 28 finished with value: 0.6195 and parameters: {'learning_rate': 0.020015877871052933, 'n_estimators': 202, 'max_depth': 6, 'min_child_weight': 4, 'subsample': 0.6732132631367493, 'colsample_bytree': 0.8851487101595319}. Best is trial 6 with value: 0.6225.\n",
            "[I 2023-12-10 03:14:27,037] Trial 29 finished with value: 0.582 and parameters: {'learning_rate': 0.03881202135036663, 'n_estimators': 277, 'max_depth': 7, 'min_child_weight': 5, 'subsample': 0.6652708127633032, 'colsample_bytree': 0.8806123140926757}. Best is trial 6 with value: 0.6225.\n",
            "[I 2023-12-10 03:14:27,527] Trial 30 finished with value: 0.619 and parameters: {'learning_rate': 0.018922350858941603, 'n_estimators': 296, 'max_depth': 5, 'min_child_weight': 1, 'subsample': 0.7277208395909681, 'colsample_bytree': 0.7559970547808897}. Best is trial 6 with value: 0.6225.\n",
            "[I 2023-12-10 03:14:28,008] Trial 31 finished with value: 0.621 and parameters: {'learning_rate': 0.012316207506966208, 'n_estimators': 185, 'max_depth': 7, 'min_child_weight': 4, 'subsample': 0.7254171299449689, 'colsample_bytree': 0.9750348525187071}. Best is trial 6 with value: 0.6225.\n",
            "[I 2023-12-10 03:14:28,544] Trial 32 finished with value: 0.617 and parameters: {'learning_rate': 0.021352014625569342, 'n_estimators': 248, 'max_depth': 6, 'min_child_weight': 4, 'subsample': 0.6816866549363321, 'colsample_bytree': 0.9717742510792131}. Best is trial 6 with value: 0.6225.\n",
            "[I 2023-12-10 03:14:29,116] Trial 33 finished with value: 0.6005 and parameters: {'learning_rate': 0.03667852618716724, 'n_estimators': 203, 'max_depth': 7, 'min_child_weight': 3, 'subsample': 0.6350829881591004, 'colsample_bytree': 0.9328657462032397}. Best is trial 6 with value: 0.6225.\n",
            "[I 2023-12-10 03:14:29,529] Trial 34 finished with value: 0.62 and parameters: {'learning_rate': 0.022640021726241133, 'n_estimators': 174, 'max_depth': 6, 'min_child_weight': 4, 'subsample': 0.7827771484899301, 'colsample_bytree': 0.993657697386803}. Best is trial 6 with value: 0.6225.\n",
            "[I 2023-12-10 03:14:30,076] Trial 35 finished with value: 0.621 and parameters: {'learning_rate': 0.010656584029450774, 'n_estimators': 154, 'max_depth': 8, 'min_child_weight': 3, 'subsample': 0.7123174066880402, 'colsample_bytree': 0.9113085055491597}. Best is trial 6 with value: 0.6225.\n",
            "[I 2023-12-10 03:14:30,560] Trial 36 finished with value: 0.6125 and parameters: {'learning_rate': 0.03401412269897116, 'n_estimators': 192, 'max_depth': 7, 'min_child_weight': 5, 'subsample': 0.724265169788002, 'colsample_bytree': 0.9559981916627652}. Best is trial 6 with value: 0.6225.\n",
            "[I 2023-12-10 03:14:31,404] Trial 37 finished with value: 0.578 and parameters: {'learning_rate': 0.049986134601733415, 'n_estimators': 222, 'max_depth': 9, 'min_child_weight': 3, 'subsample': 0.8163450972634965, 'colsample_bytree': 0.8579757499296466}. Best is trial 6 with value: 0.6225.\n",
            "[I 2023-12-10 03:14:31,881] Trial 38 finished with value: 0.612 and parameters: {'learning_rate': 0.032119761294346336, 'n_estimators': 261, 'max_depth': 5, 'min_child_weight': 4, 'subsample': 0.7830601891878732, 'colsample_bytree': 0.8937417971622502}. Best is trial 6 with value: 0.6225.\n",
            "[I 2023-12-10 03:14:32,209] Trial 39 finished with value: 0.6 and parameters: {'learning_rate': 0.06597331592481527, 'n_estimators': 139, 'max_depth': 6, 'min_child_weight': 5, 'subsample': 0.8417593341433476, 'colsample_bytree': 0.9353339372716631}. Best is trial 6 with value: 0.6225.\n",
            "[I 2023-12-10 03:14:32,585] Trial 40 finished with value: 0.6125 and parameters: {'learning_rate': 0.042090288210490115, 'n_estimators': 100, 'max_depth': 8, 'min_child_weight': 4, 'subsample': 0.6875299574363798, 'colsample_bytree': 0.9778248763084729}. Best is trial 6 with value: 0.6225.\n",
            "[I 2023-12-10 03:14:33,134] Trial 41 finished with value: 0.621 and parameters: {'learning_rate': 0.010034455688818932, 'n_estimators': 187, 'max_depth': 7, 'min_child_weight': 4, 'subsample': 0.7027675202108541, 'colsample_bytree': 0.9823026091091157}. Best is trial 6 with value: 0.6225.\n",
            "[I 2023-12-10 03:14:33,680] Trial 42 finished with value: 0.6225 and parameters: {'learning_rate': 0.019478732879827817, 'n_estimators': 209, 'max_depth': 7, 'min_child_weight': 4, 'subsample': 0.735029911609159, 'colsample_bytree': 0.9546424854447658}. Best is trial 6 with value: 0.6225.\n",
            "[I 2023-12-10 03:14:34,254] Trial 43 finished with value: 0.622 and parameters: {'learning_rate': 0.020220637396731203, 'n_estimators': 213, 'max_depth': 7, 'min_child_weight': 4, 'subsample': 0.7375689166879693, 'colsample_bytree': 0.9502788534603248}. Best is trial 6 with value: 0.6225.\n",
            "[I 2023-12-10 03:14:35,145] Trial 44 finished with value: 0.622 and parameters: {'learning_rate': 0.020774989561612167, 'n_estimators': 209, 'max_depth': 6, 'min_child_weight': 3, 'subsample': 0.7526756284622147, 'colsample_bytree': 0.8987178515709994}. Best is trial 6 with value: 0.6225.\n",
            "[I 2023-12-10 03:14:39,632] Trial 45 finished with value: 0.585 and parameters: {'learning_rate': 0.051845011272004075, 'n_estimators': 240, 'max_depth': 7, 'min_child_weight': 4, 'subsample': 0.7383875402425127, 'colsample_bytree': 0.9460673506529216}. Best is trial 6 with value: 0.6225.\n",
            "[I 2023-12-10 03:14:40,525] Trial 46 finished with value: 0.6065 and parameters: {'learning_rate': 0.03342254125436116, 'n_estimators': 226, 'max_depth': 6, 'min_child_weight': 5, 'subsample': 0.6591480588086598, 'colsample_bytree': 0.9081975164253134}. Best is trial 6 with value: 0.6225.\n",
            "[I 2023-12-10 03:14:41,168] Trial 47 finished with value: 0.579 and parameters: {'learning_rate': 0.07530775939482429, 'n_estimators': 213, 'max_depth': 7, 'min_child_weight': 2, 'subsample': 0.7971378057914785, 'colsample_bytree': 0.9617788325026362}. Best is trial 6 with value: 0.6225.\n",
            "[I 2023-12-10 03:14:41,919] Trial 48 finished with value: 0.587 and parameters: {'learning_rate': 0.04871389582329931, 'n_estimators': 242, 'max_depth': 8, 'min_child_weight': 4, 'subsample': 0.7766522794927571, 'colsample_bytree': 0.9245339909788188}. Best is trial 6 with value: 0.6225.\n",
            "[I 2023-12-10 03:14:42,283] Trial 49 finished with value: 0.6195 and parameters: {'learning_rate': 0.01858996731610181, 'n_estimators': 198, 'max_depth': 5, 'min_child_weight': 4, 'subsample': 0.7441102040718031, 'colsample_bytree': 0.8789288993313871}. Best is trial 6 with value: 0.6225.\n",
            "[I 2023-12-10 03:14:42,559] Trial 50 finished with value: 0.6205 and parameters: {'learning_rate': 0.027878803011708225, 'n_estimators': 215, 'max_depth': 3, 'min_child_weight': 3, 'subsample': 0.7395384653854659, 'colsample_bytree': 0.8298935771741676}. Best is trial 6 with value: 0.6225.\n",
            "[I 2023-12-10 03:14:43,000] Trial 51 finished with value: 0.624 and parameters: {'learning_rate': 0.018930672518111737, 'n_estimators': 209, 'max_depth': 6, 'min_child_weight': 3, 'subsample': 0.7557751954824389, 'colsample_bytree': 0.8622388502529672}. Best is trial 51 with value: 0.624.\n",
            "[I 2023-12-10 03:14:43,471] Trial 52 finished with value: 0.6195 and parameters: {'learning_rate': 0.018733112596065034, 'n_estimators': 228, 'max_depth': 6, 'min_child_weight': 3, 'subsample': 0.8034541959964474, 'colsample_bytree': 0.93694770746248}. Best is trial 51 with value: 0.624.\n",
            "[I 2023-12-10 03:14:43,924] Trial 53 finished with value: 0.6125 and parameters: {'learning_rate': 0.03672975622620943, 'n_estimators': 204, 'max_depth': 6, 'min_child_weight': 2, 'subsample': 0.7616648251042519, 'colsample_bytree': 0.8563932037428693}. Best is trial 51 with value: 0.624.\n",
            "[I 2023-12-10 03:14:44,557] Trial 54 finished with value: 0.609 and parameters: {'learning_rate': 0.028235492007526328, 'n_estimators': 219, 'max_depth': 7, 'min_child_weight': 3, 'subsample': 0.7092071614700707, 'colsample_bytree': 0.9600827650041226}. Best is trial 51 with value: 0.624.\n",
            "[I 2023-12-10 03:14:44,950] Trial 55 finished with value: 0.6125 and parameters: {'learning_rate': 0.04261894022335924, 'n_estimators': 178, 'max_depth': 6, 'min_child_weight': 4, 'subsample': 0.7683800989846127, 'colsample_bytree': 0.8693633354620575}. Best is trial 51 with value: 0.624.\n",
            "[I 2023-12-10 03:14:45,488] Trial 56 finished with value: 0.6225 and parameters: {'learning_rate': 0.014774653551283578, 'n_estimators': 197, 'max_depth': 7, 'min_child_weight': 3, 'subsample': 0.7328694191653068, 'colsample_bytree': 0.9197358967262492}. Best is trial 51 with value: 0.624.\n",
            "[I 2023-12-10 03:14:45,805] Trial 57 finished with value: 0.621 and parameters: {'learning_rate': 0.016683161868782735, 'n_estimators': 166, 'max_depth': 5, 'min_child_weight': 3, 'subsample': 0.6822840868636778, 'colsample_bytree': 0.9145479959802714}. Best is trial 51 with value: 0.624.\n",
            "[I 2023-12-10 03:14:46,286] Trial 58 finished with value: 0.6165 and parameters: {'learning_rate': 0.027685050464996336, 'n_estimators': 195, 'max_depth': 6, 'min_child_weight': 2, 'subsample': 0.8286698257980617, 'colsample_bytree': 0.8161703782503696}. Best is trial 51 with value: 0.624.\n",
            "[I 2023-12-10 03:14:46,861] Trial 59 finished with value: 0.6205 and parameters: {'learning_rate': 0.014552500209450696, 'n_estimators': 206, 'max_depth': 7, 'min_child_weight': 3, 'subsample': 0.6540814277459029, 'colsample_bytree': 0.9987500686080603}. Best is trial 51 with value: 0.624.\n",
            "[I 2023-12-10 03:14:47,497] Trial 60 finished with value: 0.6095 and parameters: {'learning_rate': 0.026673045269723316, 'n_estimators': 184, 'max_depth': 8, 'min_child_weight': 3, 'subsample': 0.7036184803177837, 'colsample_bytree': 0.8975999460243602}. Best is trial 51 with value: 0.624.\n",
            "[I 2023-12-10 03:14:48,053] Trial 61 finished with value: 0.623 and parameters: {'learning_rate': 0.015926870732765663, 'n_estimators': 213, 'max_depth': 7, 'min_child_weight': 4, 'subsample': 0.73525652604717, 'colsample_bytree': 0.9454406125751373}. Best is trial 51 with value: 0.624.\n",
            "[I 2023-12-10 03:14:48,645] Trial 62 finished with value: 0.6215 and parameters: {'learning_rate': 0.014879581469747874, 'n_estimators': 228, 'max_depth': 7, 'min_child_weight': 4, 'subsample': 0.7242197349641643, 'colsample_bytree': 0.9247890429628935}. Best is trial 51 with value: 0.624.\n",
            "[I 2023-12-10 03:14:49,210] Trial 63 finished with value: 0.589 and parameters: {'learning_rate': 0.0356627270900594, 'n_estimators': 200, 'max_depth': 7, 'min_child_weight': 4, 'subsample': 0.7699127733340854, 'colsample_bytree': 0.9704845505310407}. Best is trial 51 with value: 0.624.\n",
            "[I 2023-12-10 03:14:49,765] Trial 64 finished with value: 0.6165 and parameters: {'learning_rate': 0.02447338234625475, 'n_estimators': 217, 'max_depth': 6, 'min_child_weight': 3, 'subsample': 0.6895394264396797, 'colsample_bytree': 0.9451084862880931}. Best is trial 51 with value: 0.624.\n",
            "[I 2023-12-10 03:14:50,372] Trial 65 finished with value: 0.62 and parameters: {'learning_rate': 0.010079927230487697, 'n_estimators': 237, 'max_depth': 7, 'min_child_weight': 4, 'subsample': 0.749577146433001, 'colsample_bytree': 0.9168666811805264}. Best is trial 51 with value: 0.624.\n",
            "[I 2023-12-10 03:14:52,846] Trial 66 finished with value: 0.61 and parameters: {'learning_rate': 0.030252838700779678, 'n_estimators': 208, 'max_depth': 6, 'min_child_weight': 4, 'subsample': 0.6724014545774827, 'colsample_bytree': 0.8653935318458303}. Best is trial 51 with value: 0.624.\n",
            "[I 2023-12-10 03:14:56,101] Trial 67 finished with value: 0.6225 and parameters: {'learning_rate': 0.01812501489084079, 'n_estimators': 195, 'max_depth': 8, 'min_child_weight': 3, 'subsample': 0.7922087105919159, 'colsample_bytree': 0.8886638725641445}. Best is trial 51 with value: 0.624.\n",
            "[I 2023-12-10 03:14:56,752] Trial 68 finished with value: 0.621 and parameters: {'learning_rate': 0.01525357590838577, 'n_estimators': 195, 'max_depth': 8, 'min_child_weight': 3, 'subsample': 0.7955737079722998, 'colsample_bytree': 0.8854748621488335}. Best is trial 51 with value: 0.624.\n",
            "[I 2023-12-10 03:14:57,526] Trial 69 finished with value: 0.5975 and parameters: {'learning_rate': 0.03991605512015675, 'n_estimators': 171, 'max_depth': 9, 'min_child_weight': 2, 'subsample': 0.7180953249329054, 'colsample_bytree': 0.8703855504156004}. Best is trial 51 with value: 0.624.\n",
            "[I 2023-12-10 03:14:58,278] Trial 70 finished with value: 0.619 and parameters: {'learning_rate': 0.01613005164116348, 'n_estimators': 180, 'max_depth': 9, 'min_child_weight': 3, 'subsample': 0.7866246253064023, 'colsample_bytree': 0.8408917618903803}. Best is trial 51 with value: 0.624.\n",
            "[I 2023-12-10 03:14:59,045] Trial 71 finished with value: 0.61 and parameters: {'learning_rate': 0.022830617564404625, 'n_estimators': 225, 'max_depth': 8, 'min_child_weight': 3, 'subsample': 0.7560985277583058, 'colsample_bytree': 0.9352958505481477}. Best is trial 51 with value: 0.624.\n",
            "[I 2023-12-10 03:14:59,492] Trial 72 finished with value: 0.624 and parameters: {'learning_rate': 0.023611867987329154, 'n_estimators': 190, 'max_depth': 6, 'min_child_weight': 4, 'subsample': 0.7342554483744135, 'colsample_bytree': 0.9859818175568872}. Best is trial 51 with value: 0.624.\n",
            "[I 2023-12-10 03:15:00,137] Trial 73 finished with value: 0.62 and parameters: {'learning_rate': 0.016511166040830853, 'n_estimators': 188, 'max_depth': 8, 'min_child_weight': 4, 'subsample': 0.73694066859625, 'colsample_bytree': 0.9777088998237902}. Best is trial 51 with value: 0.624.\n",
            "[I 2023-12-10 03:15:00,634] Trial 74 finished with value: 0.6135 and parameters: {'learning_rate': 0.03147192936674666, 'n_estimators': 166, 'max_depth': 7, 'min_child_weight': 3, 'subsample': 0.7767373833117234, 'colsample_bytree': 0.9695020654672261}. Best is trial 51 with value: 0.624.\n",
            "[I 2023-12-10 03:15:01,150] Trial 75 finished with value: 0.6165 and parameters: {'learning_rate': 0.02411524662490387, 'n_estimators': 200, 'max_depth': 6, 'min_child_weight': 1, 'subsample': 0.7009617497566656, 'colsample_bytree': 0.8986274376637216}. Best is trial 51 with value: 0.624.\n",
            "[I 2023-12-10 03:15:01,510] Trial 76 finished with value: 0.621 and parameters: {'learning_rate': 0.010343510860968368, 'n_estimators': 195, 'max_depth': 5, 'min_child_weight': 4, 'subsample': 0.729897297286743, 'colsample_bytree': 0.9894272035107005}. Best is trial 51 with value: 0.624.\n",
            "[I 2023-12-10 03:15:02,074] Trial 77 finished with value: 0.596 and parameters: {'learning_rate': 0.03874979403693253, 'n_estimators': 205, 'max_depth': 7, 'min_child_weight': 4, 'subsample': 0.7171716728029307, 'colsample_bytree': 0.9856430712894161}. Best is trial 51 with value: 0.624.\n",
            "[I 2023-12-10 03:15:02,687] Trial 78 finished with value: 0.592 and parameters: {'learning_rate': 0.045636897018240474, 'n_estimators': 190, 'max_depth': 8, 'min_child_weight': 5, 'subsample': 0.8144114284997496, 'colsample_bytree': 0.9592748649101731}. Best is trial 51 with value: 0.624.\n",
            "[I 2023-12-10 03:15:02,998] Trial 79 finished with value: 0.6205 and parameters: {'learning_rate': 0.019902912781944195, 'n_estimators': 182, 'max_depth': 4, 'min_child_weight': 3, 'subsample': 0.7474797441990987, 'colsample_bytree': 0.9233522135758576}. Best is trial 51 with value: 0.624.\n",
            "[I 2023-12-10 03:15:03,524] Trial 80 finished with value: 0.6105 and parameters: {'learning_rate': 0.031466637413115686, 'n_estimators': 231, 'max_depth': 6, 'min_child_weight': 3, 'subsample': 0.7694231382250336, 'colsample_bytree': 0.9481392007183498}. Best is trial 51 with value: 0.624.\n",
            "[I 2023-12-10 03:15:04,022] Trial 81 finished with value: 0.6215 and parameters: {'learning_rate': 0.023394144915247498, 'n_estimators': 209, 'max_depth': 6, 'min_child_weight': 4, 'subsample': 0.7582980014757081, 'colsample_bytree': 0.9845186303824404}. Best is trial 51 with value: 0.624.\n",
            "[I 2023-12-10 03:15:04,450] Trial 82 finished with value: 0.623 and parameters: {'learning_rate': 0.015108434387153353, 'n_estimators': 212, 'max_depth': 6, 'min_child_weight': 4, 'subsample': 0.727946878961508, 'colsample_bytree': 0.9341932340872023}. Best is trial 51 with value: 0.624.\n",
            "[I 2023-12-10 03:15:04,812] Trial 83 finished with value: 0.621 and parameters: {'learning_rate': 0.014867391490518928, 'n_estimators': 216, 'max_depth': 5, 'min_child_weight': 4, 'subsample': 0.7296687112015258, 'colsample_bytree': 0.9100495966321233}. Best is trial 51 with value: 0.624.\n",
            "[I 2023-12-10 03:15:05,271] Trial 84 finished with value: 0.622 and parameters: {'learning_rate': 0.014160588511659834, 'n_estimators': 220, 'max_depth': 6, 'min_child_weight': 4, 'subsample': 0.7131368184260394, 'colsample_bytree': 0.9314644970841909}. Best is trial 51 with value: 0.624.\n",
            "[I 2023-12-10 03:15:05,720] Trial 85 finished with value: 0.6155 and parameters: {'learning_rate': 0.025448158226021127, 'n_estimators': 202, 'max_depth': 6, 'min_child_weight': 4, 'subsample': 0.6965205353241516, 'colsample_bytree': 0.96610875322408}. Best is trial 51 with value: 0.624.\n",
            "[I 2023-12-10 03:15:07,316] Trial 86 finished with value: 0.618 and parameters: {'learning_rate': 0.019524714069273055, 'n_estimators': 246, 'max_depth': 7, 'min_child_weight': 4, 'subsample': 0.6779599586067064, 'colsample_bytree': 0.9985171855322958}. Best is trial 51 with value: 0.624.\n",
            "[I 2023-12-10 03:15:09,694] Trial 87 finished with value: 0.607 and parameters: {'learning_rate': 0.033094497201738966, 'n_estimators': 175, 'max_depth': 7, 'min_child_weight': 3, 'subsample': 0.7381406580289998, 'colsample_bytree': 0.9556835073387921}. Best is trial 51 with value: 0.624.\n",
            "[I 2023-12-10 03:15:11,610] Trial 88 finished with value: 0.621 and parameters: {'learning_rate': 0.013919489613908136, 'n_estimators': 213, 'max_depth': 6, 'min_child_weight': 4, 'subsample': 0.6652293571866029, 'colsample_bytree': 0.8875738395356688}. Best is trial 51 with value: 0.624.\n",
            "[I 2023-12-10 03:15:12,517] Trial 89 finished with value: 0.615 and parameters: {'learning_rate': 0.02861002067847583, 'n_estimators': 224, 'max_depth': 7, 'min_child_weight': 5, 'subsample': 0.7831905269541017, 'colsample_bytree': 0.9398165736400952}. Best is trial 51 with value: 0.624.\n",
            "[I 2023-12-10 03:15:12,859] Trial 90 finished with value: 0.6215 and parameters: {'learning_rate': 0.019985193218966357, 'n_estimators': 195, 'max_depth': 5, 'min_child_weight': 4, 'subsample': 0.6928176606881958, 'colsample_bytree': 0.9065212517527705}. Best is trial 51 with value: 0.624.\n",
            "[I 2023-12-10 03:15:13,311] Trial 91 finished with value: 0.621 and parameters: {'learning_rate': 0.010172575697922778, 'n_estimators': 213, 'max_depth': 6, 'min_child_weight': 4, 'subsample': 0.7471880096659601, 'colsample_bytree': 0.9493946960365505}. Best is trial 51 with value: 0.624.\n",
            "[I 2023-12-10 03:15:13,772] Trial 92 finished with value: 0.618 and parameters: {'learning_rate': 0.023730317655693042, 'n_estimators': 210, 'max_depth': 6, 'min_child_weight': 4, 'subsample': 0.7672740572875675, 'colsample_bytree': 0.9760970602709114}. Best is trial 51 with value: 0.624.\n",
            "[I 2023-12-10 03:15:14,175] Trial 93 finished with value: 0.62 and parameters: {'learning_rate': 0.017326230788060573, 'n_estimators': 190, 'max_depth': 6, 'min_child_weight': 4, 'subsample': 0.7234995748668641, 'colsample_bytree': 0.9230274343543066}. Best is trial 51 with value: 0.624.\n",
            "[I 2023-12-10 03:15:14,736] Trial 94 finished with value: 0.597 and parameters: {'learning_rate': 0.03669606081927429, 'n_estimators': 199, 'max_depth': 7, 'min_child_weight': 4, 'subsample': 0.7592604088732869, 'colsample_bytree': 0.9349988695606859}. Best is trial 51 with value: 0.624.\n",
            "[I 2023-12-10 03:15:15,231] Trial 95 finished with value: 0.6085 and parameters: {'learning_rate': 0.028579862112575776, 'n_estimators': 219, 'max_depth': 6, 'min_child_weight': 3, 'subsample': 0.71334710092869, 'colsample_bytree': 0.955602310018973}. Best is trial 51 with value: 0.624.\n",
            "[I 2023-12-10 03:15:15,811] Trial 96 finished with value: 0.62 and parameters: {'learning_rate': 0.02194744596254167, 'n_estimators': 255, 'max_depth': 6, 'min_child_weight': 4, 'subsample': 0.7353190820263502, 'colsample_bytree': 0.9879088555923099}. Best is trial 51 with value: 0.624.\n",
            "[I 2023-12-10 03:15:16,397] Trial 97 finished with value: 0.6195 and parameters: {'learning_rate': 0.013340945937397488, 'n_estimators': 204, 'max_depth': 7, 'min_child_weight': 3, 'subsample': 0.748479456949072, 'colsample_bytree': 0.9628954309881043}. Best is trial 51 with value: 0.624.\n",
            "[I 2023-12-10 03:15:16,892] Trial 98 finished with value: 0.622 and parameters: {'learning_rate': 0.018208680720476943, 'n_estimators': 234, 'max_depth': 6, 'min_child_weight': 4, 'subsample': 0.7908889215120638, 'colsample_bytree': 0.9433509857138345}. Best is trial 51 with value: 0.624.\n",
            "[I 2023-12-10 03:15:17,233] Trial 99 finished with value: 0.62 and parameters: {'learning_rate': 0.03498189735460264, 'n_estimators': 192, 'max_depth': 5, 'min_child_weight': 5, 'subsample': 0.7090344666040402, 'colsample_bytree': 0.9166425205192288}. Best is trial 51 with value: 0.624.\n",
            "[I 2023-12-10 03:15:17,238] A new study created in memory with name: no-name-866bd5ef-c796-49ce-bf7b-7518934bbd41\n",
            "[I 2023-12-10 03:15:17,340] Trial 0 finished with value: 0.559 and parameters: {'n_neighbors': 12, 'weights': 'distance'}. Best is trial 0 with value: 0.559.\n",
            "[I 2023-12-10 03:15:17,544] Trial 1 finished with value: 0.5475 and parameters: {'n_neighbors': 5, 'weights': 'uniform'}. Best is trial 0 with value: 0.559.\n",
            "[I 2023-12-10 03:15:17,750] Trial 2 finished with value: 0.5805 and parameters: {'n_neighbors': 19, 'weights': 'uniform'}. Best is trial 2 with value: 0.5805.\n",
            "[I 2023-12-10 03:15:17,956] Trial 3 finished with value: 0.582 and parameters: {'n_neighbors': 17, 'weights': 'uniform'}. Best is trial 3 with value: 0.582.\n",
            "[I 2023-12-10 03:15:18,060] Trial 4 finished with value: 0.574 and parameters: {'n_neighbors': 15, 'weights': 'distance'}. Best is trial 3 with value: 0.582.\n",
            "[I 2023-12-10 03:15:18,172] Trial 5 finished with value: 0.567 and parameters: {'n_neighbors': 14, 'weights': 'distance'}. Best is trial 3 with value: 0.582.\n",
            "[I 2023-12-10 03:15:18,269] Trial 6 finished with value: 0.5465 and parameters: {'n_neighbors': 7, 'weights': 'distance'}. Best is trial 3 with value: 0.582.\n",
            "[I 2023-12-10 03:15:18,385] Trial 7 finished with value: 0.584 and parameters: {'n_neighbors': 19, 'weights': 'distance'}. Best is trial 7 with value: 0.584.\n",
            "[I 2023-12-10 03:15:18,605] Trial 8 finished with value: 0.576 and parameters: {'n_neighbors': 15, 'weights': 'uniform'}. Best is trial 7 with value: 0.584.\n",
            "[I 2023-12-10 03:15:18,710] Trial 9 finished with value: 0.552 and parameters: {'n_neighbors': 10, 'weights': 'distance'}. Best is trial 7 with value: 0.584.\n",
            "[I 2023-12-10 03:15:18,834] Trial 10 finished with value: 0.584 and parameters: {'n_neighbors': 19, 'weights': 'distance'}. Best is trial 7 with value: 0.584.\n",
            "[I 2023-12-10 03:15:18,965] Trial 11 finished with value: 0.578 and parameters: {'n_neighbors': 20, 'weights': 'distance'}. Best is trial 7 with value: 0.584.\n",
            "[I 2023-12-10 03:15:19,088] Trial 12 finished with value: 0.578 and parameters: {'n_neighbors': 20, 'weights': 'distance'}. Best is trial 7 with value: 0.584.\n",
            "[I 2023-12-10 03:15:19,219] Trial 13 finished with value: 0.58 and parameters: {'n_neighbors': 17, 'weights': 'distance'}. Best is trial 7 with value: 0.584.\n",
            "[I 2023-12-10 03:15:19,341] Trial 14 finished with value: 0.58 and parameters: {'n_neighbors': 17, 'weights': 'distance'}. Best is trial 7 with value: 0.584.\n",
            "[I 2023-12-10 03:15:19,479] Trial 15 finished with value: 0.552 and parameters: {'n_neighbors': 10, 'weights': 'distance'}. Best is trial 7 with value: 0.584.\n",
            "[I 2023-12-10 03:15:19,600] Trial 16 finished with value: 0.5315 and parameters: {'n_neighbors': 3, 'weights': 'distance'}. Best is trial 7 with value: 0.584.\n",
            "[I 2023-12-10 03:15:19,717] Trial 17 finished with value: 0.577 and parameters: {'n_neighbors': 18, 'weights': 'distance'}. Best is trial 7 with value: 0.584.\n",
            "[I 2023-12-10 03:15:19,956] Trial 18 finished with value: 0.567 and parameters: {'n_neighbors': 13, 'weights': 'uniform'}. Best is trial 7 with value: 0.584.\n",
            "[I 2023-12-10 03:15:20,077] Trial 19 finished with value: 0.576 and parameters: {'n_neighbors': 16, 'weights': 'distance'}. Best is trial 7 with value: 0.584.\n",
            "[I 2023-12-10 03:15:20,185] Trial 20 finished with value: 0.552 and parameters: {'n_neighbors': 10, 'weights': 'distance'}. Best is trial 7 with value: 0.584.\n",
            "[I 2023-12-10 03:15:20,402] Trial 21 finished with value: 0.561 and parameters: {'n_neighbors': 18, 'weights': 'uniform'}. Best is trial 7 with value: 0.584.\n",
            "[I 2023-12-10 03:15:20,631] Trial 22 finished with value: 0.5625 and parameters: {'n_neighbors': 20, 'weights': 'uniform'}. Best is trial 7 with value: 0.584.\n",
            "[I 2023-12-10 03:15:20,848] Trial 23 finished with value: 0.561 and parameters: {'n_neighbors': 18, 'weights': 'uniform'}. Best is trial 7 with value: 0.584.\n",
            "[I 2023-12-10 03:15:21,067] Trial 24 finished with value: 0.5645 and parameters: {'n_neighbors': 16, 'weights': 'uniform'}. Best is trial 7 with value: 0.584.\n",
            "[I 2023-12-10 03:15:21,284] Trial 25 finished with value: 0.5805 and parameters: {'n_neighbors': 19, 'weights': 'uniform'}. Best is trial 7 with value: 0.584.\n",
            "[I 2023-12-10 03:15:21,496] Trial 26 finished with value: 0.582 and parameters: {'n_neighbors': 17, 'weights': 'uniform'}. Best is trial 7 with value: 0.584.\n",
            "[I 2023-12-10 03:15:21,656] Trial 27 finished with value: 0.567 and parameters: {'n_neighbors': 14, 'weights': 'distance'}. Best is trial 7 with value: 0.584.\n",
            "[I 2023-12-10 03:15:21,924] Trial 28 finished with value: 0.5805 and parameters: {'n_neighbors': 19, 'weights': 'uniform'}. Best is trial 7 with value: 0.584.\n",
            "[I 2023-12-10 03:15:22,045] Trial 29 finished with value: 0.5635 and parameters: {'n_neighbors': 11, 'weights': 'distance'}. Best is trial 7 with value: 0.584.\n",
            "[I 2023-12-10 03:15:22,195] Trial 30 finished with value: 0.576 and parameters: {'n_neighbors': 16, 'weights': 'distance'}. Best is trial 7 with value: 0.584.\n",
            "[I 2023-12-10 03:15:22,683] Trial 31 finished with value: 0.582 and parameters: {'n_neighbors': 17, 'weights': 'uniform'}. Best is trial 7 with value: 0.584.\n",
            "[I 2023-12-10 03:15:23,209] Trial 32 finished with value: 0.561 and parameters: {'n_neighbors': 18, 'weights': 'uniform'}. Best is trial 7 with value: 0.584.\n",
            "[I 2023-12-10 03:15:23,600] Trial 33 finished with value: 0.5625 and parameters: {'n_neighbors': 20, 'weights': 'uniform'}. Best is trial 7 with value: 0.584.\n",
            "[I 2023-12-10 03:15:23,933] Trial 34 finished with value: 0.517 and parameters: {'n_neighbors': 8, 'weights': 'uniform'}. Best is trial 7 with value: 0.584.\n",
            "[I 2023-12-10 03:15:24,295] Trial 35 finished with value: 0.567 and parameters: {'n_neighbors': 13, 'weights': 'uniform'}. Best is trial 7 with value: 0.584.\n",
            "[I 2023-12-10 03:15:24,831] Trial 36 finished with value: 0.576 and parameters: {'n_neighbors': 15, 'weights': 'uniform'}. Best is trial 7 with value: 0.584.\n",
            "[I 2023-12-10 03:15:25,303] Trial 37 finished with value: 0.5805 and parameters: {'n_neighbors': 19, 'weights': 'uniform'}. Best is trial 7 with value: 0.584.\n",
            "[I 2023-12-10 03:15:25,629] Trial 38 finished with value: 0.58 and parameters: {'n_neighbors': 17, 'weights': 'distance'}. Best is trial 7 with value: 0.584.\n",
            "[I 2023-12-10 03:15:26,417] Trial 39 finished with value: 0.5505 and parameters: {'n_neighbors': 14, 'weights': 'uniform'}. Best is trial 7 with value: 0.584.\n",
            "[I 2023-12-10 03:15:26,926] Trial 40 finished with value: 0.584 and parameters: {'n_neighbors': 19, 'weights': 'distance'}. Best is trial 7 with value: 0.584.\n",
            "[I 2023-12-10 03:15:27,177] Trial 41 finished with value: 0.584 and parameters: {'n_neighbors': 19, 'weights': 'distance'}. Best is trial 7 with value: 0.584.\n",
            "[I 2023-12-10 03:15:27,680] Trial 42 finished with value: 0.584 and parameters: {'n_neighbors': 19, 'weights': 'distance'}. Best is trial 7 with value: 0.584.\n",
            "[I 2023-12-10 03:15:28,104] Trial 43 finished with value: 0.584 and parameters: {'n_neighbors': 19, 'weights': 'distance'}. Best is trial 7 with value: 0.584.\n",
            "[I 2023-12-10 03:15:28,370] Trial 44 finished with value: 0.584 and parameters: {'n_neighbors': 19, 'weights': 'distance'}. Best is trial 7 with value: 0.584.\n",
            "[I 2023-12-10 03:15:28,604] Trial 45 finished with value: 0.578 and parameters: {'n_neighbors': 20, 'weights': 'distance'}. Best is trial 7 with value: 0.584.\n",
            "[I 2023-12-10 03:15:28,821] Trial 46 finished with value: 0.577 and parameters: {'n_neighbors': 18, 'weights': 'distance'}. Best is trial 7 with value: 0.584.\n",
            "[I 2023-12-10 03:15:29,129] Trial 47 finished with value: 0.578 and parameters: {'n_neighbors': 20, 'weights': 'distance'}. Best is trial 7 with value: 0.584.\n",
            "[I 2023-12-10 03:15:29,324] Trial 48 finished with value: 0.5435 and parameters: {'n_neighbors': 6, 'weights': 'distance'}. Best is trial 7 with value: 0.584.\n",
            "[I 2023-12-10 03:15:29,450] Trial 49 finished with value: 0.576 and parameters: {'n_neighbors': 16, 'weights': 'distance'}. Best is trial 7 with value: 0.584.\n",
            "[I 2023-12-10 03:15:29,572] Trial 50 finished with value: 0.577 and parameters: {'n_neighbors': 18, 'weights': 'distance'}. Best is trial 7 with value: 0.584.\n",
            "[I 2023-12-10 03:15:29,704] Trial 51 finished with value: 0.584 and parameters: {'n_neighbors': 19, 'weights': 'distance'}. Best is trial 7 with value: 0.584.\n",
            "[I 2023-12-10 03:15:29,827] Trial 52 finished with value: 0.584 and parameters: {'n_neighbors': 19, 'weights': 'distance'}. Best is trial 7 with value: 0.584.\n",
            "[I 2023-12-10 03:15:29,953] Trial 53 finished with value: 0.578 and parameters: {'n_neighbors': 20, 'weights': 'distance'}. Best is trial 7 with value: 0.584.\n",
            "[I 2023-12-10 03:15:30,086] Trial 54 finished with value: 0.577 and parameters: {'n_neighbors': 18, 'weights': 'distance'}. Best is trial 7 with value: 0.584.\n",
            "[I 2023-12-10 03:15:30,212] Trial 55 finished with value: 0.584 and parameters: {'n_neighbors': 19, 'weights': 'distance'}. Best is trial 7 with value: 0.584.\n",
            "[I 2023-12-10 03:15:30,319] Trial 56 finished with value: 0.5315 and parameters: {'n_neighbors': 3, 'weights': 'distance'}. Best is trial 7 with value: 0.584.\n",
            "[I 2023-12-10 03:15:30,438] Trial 57 finished with value: 0.58 and parameters: {'n_neighbors': 17, 'weights': 'distance'}. Best is trial 7 with value: 0.584.\n",
            "[I 2023-12-10 03:15:30,569] Trial 58 finished with value: 0.578 and parameters: {'n_neighbors': 20, 'weights': 'distance'}. Best is trial 7 with value: 0.584.\n",
            "[I 2023-12-10 03:15:30,686] Trial 59 finished with value: 0.577 and parameters: {'n_neighbors': 18, 'weights': 'distance'}. Best is trial 7 with value: 0.584.\n",
            "[I 2023-12-10 03:15:30,807] Trial 60 finished with value: 0.574 and parameters: {'n_neighbors': 15, 'weights': 'distance'}. Best is trial 7 with value: 0.584.\n",
            "[I 2023-12-10 03:15:30,930] Trial 61 finished with value: 0.584 and parameters: {'n_neighbors': 19, 'weights': 'distance'}. Best is trial 7 with value: 0.584.\n",
            "[I 2023-12-10 03:15:31,081] Trial 62 finished with value: 0.584 and parameters: {'n_neighbors': 19, 'weights': 'distance'}. Best is trial 7 with value: 0.584.\n",
            "[I 2023-12-10 03:15:31,210] Trial 63 finished with value: 0.584 and parameters: {'n_neighbors': 19, 'weights': 'distance'}. Best is trial 7 with value: 0.584.\n",
            "[I 2023-12-10 03:15:31,341] Trial 64 finished with value: 0.578 and parameters: {'n_neighbors': 20, 'weights': 'distance'}. Best is trial 7 with value: 0.584.\n",
            "[I 2023-12-10 03:15:31,463] Trial 65 finished with value: 0.577 and parameters: {'n_neighbors': 18, 'weights': 'distance'}. Best is trial 7 with value: 0.584.\n",
            "[I 2023-12-10 03:15:31,588] Trial 66 finished with value: 0.576 and parameters: {'n_neighbors': 16, 'weights': 'distance'}. Best is trial 7 with value: 0.584.\n",
            "[I 2023-12-10 03:15:31,709] Trial 67 finished with value: 0.58 and parameters: {'n_neighbors': 17, 'weights': 'distance'}. Best is trial 7 with value: 0.584.\n",
            "[I 2023-12-10 03:15:31,835] Trial 68 finished with value: 0.578 and parameters: {'n_neighbors': 20, 'weights': 'distance'}. Best is trial 7 with value: 0.584.\n",
            "[I 2023-12-10 03:15:31,941] Trial 69 finished with value: 0.534 and parameters: {'n_neighbors': 4, 'weights': 'distance'}. Best is trial 7 with value: 0.584.\n",
            "[I 2023-12-10 03:15:32,064] Trial 70 finished with value: 0.577 and parameters: {'n_neighbors': 18, 'weights': 'distance'}. Best is trial 7 with value: 0.584.\n",
            "[I 2023-12-10 03:15:32,197] Trial 71 finished with value: 0.584 and parameters: {'n_neighbors': 19, 'weights': 'distance'}. Best is trial 7 with value: 0.584.\n",
            "[I 2023-12-10 03:15:32,321] Trial 72 finished with value: 0.584 and parameters: {'n_neighbors': 19, 'weights': 'distance'}. Best is trial 7 with value: 0.584.\n",
            "[I 2023-12-10 03:15:32,442] Trial 73 finished with value: 0.584 and parameters: {'n_neighbors': 19, 'weights': 'distance'}. Best is trial 7 with value: 0.584.\n",
            "[I 2023-12-10 03:15:32,558] Trial 74 finished with value: 0.58 and parameters: {'n_neighbors': 17, 'weights': 'distance'}. Best is trial 7 with value: 0.584.\n",
            "[I 2023-12-10 03:15:32,668] Trial 75 finished with value: 0.5555 and parameters: {'n_neighbors': 9, 'weights': 'distance'}. Best is trial 7 with value: 0.584.\n",
            "[I 2023-12-10 03:15:32,798] Trial 76 finished with value: 0.578 and parameters: {'n_neighbors': 20, 'weights': 'distance'}. Best is trial 7 with value: 0.584.\n",
            "[I 2023-12-10 03:15:32,924] Trial 77 finished with value: 0.577 and parameters: {'n_neighbors': 18, 'weights': 'distance'}. Best is trial 7 with value: 0.584.\n",
            "[I 2023-12-10 03:15:33,050] Trial 78 finished with value: 0.584 and parameters: {'n_neighbors': 19, 'weights': 'distance'}. Best is trial 7 with value: 0.584.\n",
            "[I 2023-12-10 03:15:33,204] Trial 79 finished with value: 0.577 and parameters: {'n_neighbors': 18, 'weights': 'distance'}. Best is trial 7 with value: 0.584.\n",
            "[I 2023-12-10 03:15:33,329] Trial 80 finished with value: 0.578 and parameters: {'n_neighbors': 20, 'weights': 'distance'}. Best is trial 7 with value: 0.584.\n",
            "[I 2023-12-10 03:15:33,454] Trial 81 finished with value: 0.584 and parameters: {'n_neighbors': 19, 'weights': 'distance'}. Best is trial 7 with value: 0.584.\n",
            "[I 2023-12-10 03:15:33,578] Trial 82 finished with value: 0.578 and parameters: {'n_neighbors': 20, 'weights': 'distance'}. Best is trial 7 with value: 0.584.\n",
            "[I 2023-12-10 03:15:33,703] Trial 83 finished with value: 0.58 and parameters: {'n_neighbors': 17, 'weights': 'distance'}. Best is trial 7 with value: 0.584.\n",
            "[I 2023-12-10 03:15:33,824] Trial 84 finished with value: 0.584 and parameters: {'n_neighbors': 19, 'weights': 'distance'}. Best is trial 7 with value: 0.584.\n",
            "[I 2023-12-10 03:15:33,947] Trial 85 finished with value: 0.577 and parameters: {'n_neighbors': 18, 'weights': 'distance'}. Best is trial 7 with value: 0.584.\n",
            "[I 2023-12-10 03:15:34,065] Trial 86 finished with value: 0.584 and parameters: {'n_neighbors': 19, 'weights': 'distance'}. Best is trial 7 with value: 0.584.\n",
            "[I 2023-12-10 03:15:34,192] Trial 87 finished with value: 0.58 and parameters: {'n_neighbors': 17, 'weights': 'distance'}. Best is trial 7 with value: 0.584.\n",
            "[I 2023-12-10 03:15:34,321] Trial 88 finished with value: 0.577 and parameters: {'n_neighbors': 18, 'weights': 'distance'}. Best is trial 7 with value: 0.584.\n",
            "[I 2023-12-10 03:15:34,440] Trial 89 finished with value: 0.578 and parameters: {'n_neighbors': 20, 'weights': 'distance'}. Best is trial 7 with value: 0.584.\n",
            "[I 2023-12-10 03:15:34,562] Trial 90 finished with value: 0.584 and parameters: {'n_neighbors': 19, 'weights': 'distance'}. Best is trial 7 with value: 0.584.\n",
            "[I 2023-12-10 03:15:34,677] Trial 91 finished with value: 0.577 and parameters: {'n_neighbors': 18, 'weights': 'distance'}. Best is trial 7 with value: 0.584.\n",
            "[I 2023-12-10 03:15:34,801] Trial 92 finished with value: 0.584 and parameters: {'n_neighbors': 19, 'weights': 'distance'}. Best is trial 7 with value: 0.584.\n",
            "[I 2023-12-10 03:15:34,921] Trial 93 finished with value: 0.584 and parameters: {'n_neighbors': 19, 'weights': 'distance'}. Best is trial 7 with value: 0.584.\n",
            "[I 2023-12-10 03:15:35,047] Trial 94 finished with value: 0.578 and parameters: {'n_neighbors': 20, 'weights': 'distance'}. Best is trial 7 with value: 0.584.\n",
            "[I 2023-12-10 03:15:35,170] Trial 95 finished with value: 0.559 and parameters: {'n_neighbors': 12, 'weights': 'distance'}. Best is trial 7 with value: 0.584.\n",
            "[I 2023-12-10 03:15:35,315] Trial 96 finished with value: 0.578 and parameters: {'n_neighbors': 20, 'weights': 'distance'}. Best is trial 7 with value: 0.584.\n",
            "[I 2023-12-10 03:15:35,442] Trial 97 finished with value: 0.576 and parameters: {'n_neighbors': 16, 'weights': 'distance'}. Best is trial 7 with value: 0.584.\n",
            "[I 2023-12-10 03:15:35,563] Trial 98 finished with value: 0.577 and parameters: {'n_neighbors': 18, 'weights': 'distance'}. Best is trial 7 with value: 0.584.\n",
            "[I 2023-12-10 03:15:35,688] Trial 99 finished with value: 0.58 and parameters: {'n_neighbors': 17, 'weights': 'distance'}. Best is trial 7 with value: 0.584.\n"
          ]
        },
        {
          "output_type": "stream",
          "name": "stdout",
          "text": [
            "Best parameters for XGBClassifier: {'learning_rate': 0.018930672518111737, 'n_estimators': 209, 'max_depth': 6, 'min_child_weight': 3, 'subsample': 0.7557751954824389, 'colsample_bytree': 0.8622388502529672}\n",
            "Best parameters for KNeighborsClassifier: {'n_neighbors': 19, 'weights': 'distance'}\n"
          ]
        }
      ]
    },
    {
      "cell_type": "code",
      "source": [
        "\n",
        "xgb_best_params = study_xgb.best_trial.params\n",
        "xgb_best_model = XGBClassifier(**xgb_best_params)\n",
        "xgb_best_model.fit(X_train, y_train)\n",
        "\n",
        "knn_best_params = study_knn.best_trial.params\n",
        "knn_best_model = KNeighborsClassifier(**knn_best_params)\n",
        "knn_best_model.fit(X_train, y_train)\n",
        "\n",
        "xgb_val_pred = xgb_best_model.predict(X_val)\n",
        "xgb_val_accuracy = accuracy_score(y_val, xgb_val_pred)\n",
        "\n",
        "knn_val_pred = knn_best_model.predict(X_val)\n",
        "knn_val_accuracy = accuracy_score(y_val, knn_val_pred)\n",
        "\n",
        "print(\"XGB Validation Accuracy:\", xgb_val_accuracy)\n",
        "print(\"KNN Validation Accuracy:\", knn_val_accuracy)\n",
        "\n",
        "xgb_test_pred = xgb_best_model.predict(test_X)\n",
        "knn_test_pred = knn_best_model.predict(test_X)\n",
        "\n",
        "print(\"XGB Test Predictions:\", xgb_test_pred)\n",
        "print(\"KNN Test Predictions:\", knn_test_pred)\n"
      ],
      "metadata": {
        "colab": {
          "base_uri": "https://localhost:8080/"
        },
        "id": "f2jNHYTIebXz",
        "outputId": "4b80274d-6615-4f2a-b6db-ea2079ac01cb"
      },
      "execution_count": null,
      "outputs": [
        {
          "output_type": "stream",
          "name": "stdout",
          "text": [
            "XGB Validation Accuracy: 0.624\n",
            "KNN Validation Accuracy: 0.584\n",
            "XGB Test Predictions: [1 1 1 ... 1 1 1]\n",
            "KNN Test Predictions: [1 1 1 ... 1 0 1]\n"
          ]
        }
      ]
    },
    {
      "cell_type": "code",
      "source": [
        "xgb_best_params = study_xgb.best_trial.params\n",
        "xgb_best = XGBClassifier(**xgb_best_params, use_label_encoder=False, eval_metric='logloss')\n",
        "\n",
        "knn_best_params = study_knn.best_trial.params\n",
        "knn_best = KNeighborsClassifier(**knn_best_params)\n",
        "\n",
        "dt_best = DecisionTreeClassifier(random_state=42)\n",
        "\n",
        "voting_clf_best = VotingClassifier(estimators=[\n",
        "    ('xgb', xgb_best),\n",
        "    ('knn', knn_best),\n",
        "    ('dt', dt_best)\n",
        "], voting='soft')\n",
        "\n",
        "voting_clf_best.fit(X_train, y_train)\n",
        "\n",
        "val_pred_best = voting_clf_best.predict(X_val)\n",
        "\n",
        "val_f1_score_best = f1_score(y_val, val_pred_best, average='macro')\n",
        "\n",
        "print(f\"Validation Macro F1 Score with Best Parameters: {val_f1_score_best}\")\n"
      ],
      "metadata": {
        "colab": {
          "base_uri": "https://localhost:8080/"
        },
        "id": "f0a2VVWvhMHd",
        "outputId": "c8c7b94e-8ad0-48f3-c14a-59abf48bc078"
      },
      "execution_count": null,
      "outputs": [
        {
          "output_type": "stream",
          "name": "stdout",
          "text": [
            "Validation Macro F1 Score with Best Parameters: 0.5397261711856511\n"
          ]
        }
      ]
    },
    {
      "cell_type": "code",
      "source": [
        "xgb_best_params = study_xgb.best_trial.params\n",
        "xgb_best = XGBClassifier(**xgb_best_params, use_label_encoder=False, eval_metric='logloss')\n",
        "\n",
        "knn_best_params = study_knn.best_trial.params\n",
        "knn_best = KNeighborsClassifier(**knn_best_params)\n",
        "\n",
        "dt_best = DecisionTreeClassifier(random_state=42)\n",
        "\n",
        "voting_clf_best = VotingClassifier(estimators=[\n",
        "    ('xgb', xgb_best),\n",
        "    ('knn', knn_best),\n",
        "    ('dt', dt_best)\n",
        "], voting='soft')\n",
        "\n",
        "voting_clf_best.fit(X, y)\n",
        "\n",
        "pred = voting_clf_best.predict(test_X)\n",
        "\n"
      ],
      "metadata": {
        "id": "SLA_jk4Au9eC"
      },
      "execution_count": null,
      "outputs": []
    },
    {
      "cell_type": "code",
      "source": [
        "sample_submission['target'] = pred\n",
        "sample_submission.to_csv('(12.10)3voting.csv', index = False)\n",
        "files.download('(12.10)3voting.csv')"
      ],
      "metadata": {
        "colab": {
          "base_uri": "https://localhost:8080/",
          "height": 17
        },
        "id": "fdcAqnyEjKkO",
        "outputId": "11b2bab0-7755-4224-9298-30b6170fbf7a"
      },
      "execution_count": null,
      "outputs": [
        {
          "output_type": "display_data",
          "data": {
            "text/plain": [
              "<IPython.core.display.Javascript object>"
            ],
            "application/javascript": [
              "\n",
              "    async function download(id, filename, size) {\n",
              "      if (!google.colab.kernel.accessAllowed) {\n",
              "        return;\n",
              "      }\n",
              "      const div = document.createElement('div');\n",
              "      const label = document.createElement('label');\n",
              "      label.textContent = `Downloading \"${filename}\": `;\n",
              "      div.appendChild(label);\n",
              "      const progress = document.createElement('progress');\n",
              "      progress.max = size;\n",
              "      div.appendChild(progress);\n",
              "      document.body.appendChild(div);\n",
              "\n",
              "      const buffers = [];\n",
              "      let downloaded = 0;\n",
              "\n",
              "      const channel = await google.colab.kernel.comms.open(id);\n",
              "      // Send a message to notify the kernel that we're ready.\n",
              "      channel.send({})\n",
              "\n",
              "      for await (const message of channel.messages) {\n",
              "        // Send a message to notify the kernel that we're ready.\n",
              "        channel.send({})\n",
              "        if (message.buffers) {\n",
              "          for (const buffer of message.buffers) {\n",
              "            buffers.push(buffer);\n",
              "            downloaded += buffer.byteLength;\n",
              "            progress.value = downloaded;\n",
              "          }\n",
              "        }\n",
              "      }\n",
              "      const blob = new Blob(buffers, {type: 'application/binary'});\n",
              "      const a = document.createElement('a');\n",
              "      a.href = window.URL.createObjectURL(blob);\n",
              "      a.download = filename;\n",
              "      div.appendChild(a);\n",
              "      a.click();\n",
              "      div.remove();\n",
              "    }\n",
              "  "
            ]
          },
          "metadata": {}
        },
        {
          "output_type": "display_data",
          "data": {
            "text/plain": [
              "<IPython.core.display.Javascript object>"
            ],
            "application/javascript": [
              "download(\"download_d7c54d3f-d4f8-4eac-9e58-f589a26931b0\", \"(12.10)3voting.csv\", 110015)"
            ]
          },
          "metadata": {}
        }
      ]
    },
    {
      "cell_type": "code",
      "source": [
        "# sample_submission['target'] = xgb_test_pred\n",
        "# sample_submission.to_csv('(12.9)XGB_optuna.csv', index = False)\n",
        "# files.download('(12.9)XGB_optuna.csv')"
      ],
      "metadata": {
        "id": "rnu-9xmbe_2e"
      },
      "execution_count": null,
      "outputs": []
    },
    {
      "cell_type": "code",
      "source": [
        "# sample_submission['target'] = knn_test_pred\n",
        "# sample_submission.to_csv('(12.9)KNN_optuna.csv', index = False)\n",
        "# files.download('(12.9)KNN_optuna.csv')"
      ],
      "metadata": {
        "id": "vS2tcdMLfa0S"
      },
      "execution_count": null,
      "outputs": []
    },
    {
      "cell_type": "markdown",
      "source": [
        "# stacking\n"
      ],
      "metadata": {
        "id": "-3LNy2a7WuXJ"
      }
    },
    {
      "cell_type": "code",
      "source": [
        "X_train, X_val, y_train, y_val = train_test_split(X, y, test_size=0.2, random_state=42)\n",
        "\n",
        "base_models = [\n",
        "    ('dt', DecisionTreeClassifier(random_state=42)),\n",
        "    ('xgb', xgb_best),\n",
        "    ('knn', knn_best),\n",
        "    ('nb', GaussianNB())\n",
        "]\n",
        "\n",
        "meta_model = DecisionTreeClassifier()\n",
        "\n",
        "stacking_clf = StackingClassifier(estimators=base_models, final_estimator=meta_model, cv=5)\n",
        "\n",
        "stacking_clf.fit(X_train, y_train)\n",
        "\n",
        "val_pred = stacking_clf.predict(X_val)\n",
        "\n",
        "val_f1_score = f1_score(y_val, val_pred, average='macro')\n",
        "\n",
        "print(f\"Validation Accuracy: {val_f1_score}\")"
      ],
      "metadata": {
        "id": "qkZYPMMEXkdP",
        "colab": {
          "base_uri": "https://localhost:8080/"
        },
        "outputId": "d24316a8-9f35-438f-87c1-d9f888d3dcba"
      },
      "execution_count": null,
      "outputs": [
        {
          "output_type": "stream",
          "name": "stdout",
          "text": [
            "Validation Accuracy: 0.5234774986552981\n"
          ]
        }
      ]
    },
    {
      "cell_type": "markdown",
      "source": [
        "# KNN Baging Full"
      ],
      "metadata": {
        "id": "K8ea5uhQ8K49"
      }
    },
    {
      "cell_type": "code",
      "source": [
        "knn_dist = KNeighborsClassifier(weights='distance')\n",
        "\n",
        "knn_bagging_model = BaggingClassifier(base_estimator=knn_dist, n_estimators=10, random_state=42)\n",
        "\n",
        "knn_bagging_model.fit(X_train, y_train)\n",
        "\n",
        "val_pred = knn_bagging_model.predict(X_val)\n",
        "\n",
        "val_f1_score = f1_score(y_val, val_pred, average ='macro')\n",
        "print(f\"Validation F1_score: {val_f1_score}\")\n",
        "\n",
        "pred ="
      ],
      "metadata": {
        "colab": {
          "base_uri": "https://localhost:8080/"
        },
        "id": "UICqZB_Hqjaq",
        "outputId": "af032aeb-716f-4c6b-e853-31cb0402aa35"
      },
      "execution_count": null,
      "outputs": [
        {
          "output_type": "stream",
          "name": "stderr",
          "text": [
            "/usr/local/lib/python3.10/dist-packages/sklearn/ensemble/_base.py:166: FutureWarning: `base_estimator` was renamed to `estimator` in version 1.2 and will be removed in 1.4.\n",
            "  warnings.warn(\n"
          ]
        },
        {
          "output_type": "stream",
          "name": "stdout",
          "text": [
            "Validation F1_score: 0.5078695407893762\n"
          ]
        }
      ]
    },
    {
      "cell_type": "code",
      "source": [
        "# knn_dist = KNeighborsClassifier(weights='distance')\n",
        "\n",
        "# knn_bagging_model = BaggingClassifier(base_estimator=knn_dist, n_estimators=10, random_state=42)\n",
        "\n",
        "# knn_bagging_model.fit(X, y)\n",
        "\n",
        "# val_pred = knn_bagging_model.predict(test_X)\n",
        "# val_pred"
      ],
      "metadata": {
        "colab": {
          "base_uri": "https://localhost:8080/"
        },
        "id": "2t80O7XcW8cl",
        "outputId": "8f7f249d-e067-4371-f267-398d4287f068"
      },
      "execution_count": null,
      "outputs": [
        {
          "output_type": "stream",
          "name": "stderr",
          "text": [
            "/usr/local/lib/python3.10/dist-packages/sklearn/ensemble/_base.py:166: FutureWarning: `base_estimator` was renamed to `estimator` in version 1.2 and will be removed in 1.4.\n",
            "  warnings.warn(\n"
          ]
        },
        {
          "output_type": "execute_result",
          "data": {
            "text/plain": [
              "array([1, 1, 0, ..., 1, 0, 1])"
            ]
          },
          "metadata": {},
          "execution_count": 95
        }
      ]
    },
    {
      "cell_type": "code",
      "source": [
        "# sample_submission['target'] = val_pred\n",
        "# sample_submission.to_csv('(12.10)knn_voting_full.csv', index = False)\n",
        "# files.download('(12.10)knn_voting_full.csv')"
      ],
      "metadata": {
        "colab": {
          "base_uri": "https://localhost:8080/",
          "height": 17
        },
        "id": "Vg4kA6N1Xj5q",
        "outputId": "47a11b78-4e52-410e-fe2e-b0d5c33fe6d0"
      },
      "execution_count": null,
      "outputs": [
        {
          "output_type": "display_data",
          "data": {
            "text/plain": [
              "<IPython.core.display.Javascript object>"
            ],
            "application/javascript": [
              "\n",
              "    async function download(id, filename, size) {\n",
              "      if (!google.colab.kernel.accessAllowed) {\n",
              "        return;\n",
              "      }\n",
              "      const div = document.createElement('div');\n",
              "      const label = document.createElement('label');\n",
              "      label.textContent = `Downloading \"${filename}\": `;\n",
              "      div.appendChild(label);\n",
              "      const progress = document.createElement('progress');\n",
              "      progress.max = size;\n",
              "      div.appendChild(progress);\n",
              "      document.body.appendChild(div);\n",
              "\n",
              "      const buffers = [];\n",
              "      let downloaded = 0;\n",
              "\n",
              "      const channel = await google.colab.kernel.comms.open(id);\n",
              "      // Send a message to notify the kernel that we're ready.\n",
              "      channel.send({})\n",
              "\n",
              "      for await (const message of channel.messages) {\n",
              "        // Send a message to notify the kernel that we're ready.\n",
              "        channel.send({})\n",
              "        if (message.buffers) {\n",
              "          for (const buffer of message.buffers) {\n",
              "            buffers.push(buffer);\n",
              "            downloaded += buffer.byteLength;\n",
              "            progress.value = downloaded;\n",
              "          }\n",
              "        }\n",
              "      }\n",
              "      const blob = new Blob(buffers, {type: 'application/binary'});\n",
              "      const a = document.createElement('a');\n",
              "      a.href = window.URL.createObjectURL(blob);\n",
              "      a.download = filename;\n",
              "      div.appendChild(a);\n",
              "      a.click();\n",
              "      div.remove();\n",
              "    }\n",
              "  "
            ]
          },
          "metadata": {}
        },
        {
          "output_type": "display_data",
          "data": {
            "text/plain": [
              "<IPython.core.display.Javascript object>"
            ],
            "application/javascript": [
              "download(\"download_5a92089f-231e-4ee5-8a6d-433282c20ef1\", \"(12.10)knn_voting_full.csv\", 110015)"
            ]
          },
          "metadata": {}
        }
      ]
    },
    {
      "cell_type": "code",
      "source": [
        "param_grid = {\n",
        "    'base_estimator__n_neighbors': [3, 5, 7, 10],\n",
        "    'base_estimator__metric': ['euclidean', 'manhattan'],\n",
        "    'n_estimators': [10, 20, 30]\n",
        "}\n",
        "\n",
        "knn = KNeighborsClassifier(weights='distance')\n",
        "\n",
        "bagging_model = BaggingClassifier(base_estimator=knn, random_state=42)\n",
        "\n",
        "grid_search = GridSearchCV(estimator=bagging_model, param_grid=param_grid, cv=5, scoring='accuracy', verbose=1)\n",
        "\n",
        "grid_search.fit(X_train, y_train)\n",
        "\n",
        "print(\"Best Parameters:\", grid_search.best_params_)\n",
        "\n",
        "val_pred = grid_search.predict(X_val)\n",
        "\n",
        "val_f1_score = f1_score(y_val, val_pred, average ='macro')\n",
        "print(f\"Validation F1_score: {val_f1_score}\")"
      ],
      "metadata": {
        "colab": {
          "base_uri": "https://localhost:8080/"
        },
        "id": "cXh_Ou_J4_Mv",
        "outputId": "d19866ba-d299-4a7a-9dcd-5938a649c835"
      },
      "execution_count": null,
      "outputs": [
        {
          "output_type": "stream",
          "name": "stdout",
          "text": [
            "Fitting 5 folds for each of 24 candidates, totalling 120 fits\n"
          ]
        },
        {
          "output_type": "stream",
          "name": "stderr",
          "text": [
            "/usr/local/lib/python3.10/dist-packages/sklearn/ensemble/_base.py:166: FutureWarning: `base_estimator` was renamed to `estimator` in version 1.2 and will be removed in 1.4.\n",
            "  warnings.warn(\n",
            "/usr/local/lib/python3.10/dist-packages/sklearn/ensemble/_base.py:166: FutureWarning: `base_estimator` was renamed to `estimator` in version 1.2 and will be removed in 1.4.\n",
            "  warnings.warn(\n",
            "/usr/local/lib/python3.10/dist-packages/sklearn/ensemble/_base.py:166: FutureWarning: `base_estimator` was renamed to `estimator` in version 1.2 and will be removed in 1.4.\n",
            "  warnings.warn(\n",
            "/usr/local/lib/python3.10/dist-packages/sklearn/ensemble/_base.py:166: FutureWarning: `base_estimator` was renamed to `estimator` in version 1.2 and will be removed in 1.4.\n",
            "  warnings.warn(\n",
            "/usr/local/lib/python3.10/dist-packages/sklearn/ensemble/_base.py:166: FutureWarning: `base_estimator` was renamed to `estimator` in version 1.2 and will be removed in 1.4.\n",
            "  warnings.warn(\n",
            "/usr/local/lib/python3.10/dist-packages/sklearn/ensemble/_base.py:166: FutureWarning: `base_estimator` was renamed to `estimator` in version 1.2 and will be removed in 1.4.\n",
            "  warnings.warn(\n",
            "/usr/local/lib/python3.10/dist-packages/sklearn/ensemble/_base.py:166: FutureWarning: `base_estimator` was renamed to `estimator` in version 1.2 and will be removed in 1.4.\n",
            "  warnings.warn(\n",
            "/usr/local/lib/python3.10/dist-packages/sklearn/ensemble/_base.py:166: FutureWarning: `base_estimator` was renamed to `estimator` in version 1.2 and will be removed in 1.4.\n",
            "  warnings.warn(\n",
            "/usr/local/lib/python3.10/dist-packages/sklearn/ensemble/_base.py:166: FutureWarning: `base_estimator` was renamed to `estimator` in version 1.2 and will be removed in 1.4.\n",
            "  warnings.warn(\n",
            "/usr/local/lib/python3.10/dist-packages/sklearn/ensemble/_base.py:166: FutureWarning: `base_estimator` was renamed to `estimator` in version 1.2 and will be removed in 1.4.\n",
            "  warnings.warn(\n",
            "/usr/local/lib/python3.10/dist-packages/sklearn/ensemble/_base.py:166: FutureWarning: `base_estimator` was renamed to `estimator` in version 1.2 and will be removed in 1.4.\n",
            "  warnings.warn(\n",
            "/usr/local/lib/python3.10/dist-packages/sklearn/ensemble/_base.py:166: FutureWarning: `base_estimator` was renamed to `estimator` in version 1.2 and will be removed in 1.4.\n",
            "  warnings.warn(\n",
            "/usr/local/lib/python3.10/dist-packages/sklearn/ensemble/_base.py:166: FutureWarning: `base_estimator` was renamed to `estimator` in version 1.2 and will be removed in 1.4.\n",
            "  warnings.warn(\n",
            "/usr/local/lib/python3.10/dist-packages/sklearn/ensemble/_base.py:166: FutureWarning: `base_estimator` was renamed to `estimator` in version 1.2 and will be removed in 1.4.\n",
            "  warnings.warn(\n",
            "/usr/local/lib/python3.10/dist-packages/sklearn/ensemble/_base.py:166: FutureWarning: `base_estimator` was renamed to `estimator` in version 1.2 and will be removed in 1.4.\n",
            "  warnings.warn(\n",
            "/usr/local/lib/python3.10/dist-packages/sklearn/ensemble/_base.py:166: FutureWarning: `base_estimator` was renamed to `estimator` in version 1.2 and will be removed in 1.4.\n",
            "  warnings.warn(\n",
            "/usr/local/lib/python3.10/dist-packages/sklearn/ensemble/_base.py:166: FutureWarning: `base_estimator` was renamed to `estimator` in version 1.2 and will be removed in 1.4.\n",
            "  warnings.warn(\n",
            "/usr/local/lib/python3.10/dist-packages/sklearn/ensemble/_base.py:166: FutureWarning: `base_estimator` was renamed to `estimator` in version 1.2 and will be removed in 1.4.\n",
            "  warnings.warn(\n",
            "/usr/local/lib/python3.10/dist-packages/sklearn/ensemble/_base.py:166: FutureWarning: `base_estimator` was renamed to `estimator` in version 1.2 and will be removed in 1.4.\n",
            "  warnings.warn(\n",
            "/usr/local/lib/python3.10/dist-packages/sklearn/ensemble/_base.py:166: FutureWarning: `base_estimator` was renamed to `estimator` in version 1.2 and will be removed in 1.4.\n",
            "  warnings.warn(\n",
            "/usr/local/lib/python3.10/dist-packages/sklearn/ensemble/_base.py:166: FutureWarning: `base_estimator` was renamed to `estimator` in version 1.2 and will be removed in 1.4.\n",
            "  warnings.warn(\n",
            "/usr/local/lib/python3.10/dist-packages/sklearn/ensemble/_base.py:166: FutureWarning: `base_estimator` was renamed to `estimator` in version 1.2 and will be removed in 1.4.\n",
            "  warnings.warn(\n",
            "/usr/local/lib/python3.10/dist-packages/sklearn/ensemble/_base.py:166: FutureWarning: `base_estimator` was renamed to `estimator` in version 1.2 and will be removed in 1.4.\n",
            "  warnings.warn(\n",
            "/usr/local/lib/python3.10/dist-packages/sklearn/ensemble/_base.py:166: FutureWarning: `base_estimator` was renamed to `estimator` in version 1.2 and will be removed in 1.4.\n",
            "  warnings.warn(\n",
            "/usr/local/lib/python3.10/dist-packages/sklearn/ensemble/_base.py:166: FutureWarning: `base_estimator` was renamed to `estimator` in version 1.2 and will be removed in 1.4.\n",
            "  warnings.warn(\n",
            "/usr/local/lib/python3.10/dist-packages/sklearn/ensemble/_base.py:166: FutureWarning: `base_estimator` was renamed to `estimator` in version 1.2 and will be removed in 1.4.\n",
            "  warnings.warn(\n",
            "/usr/local/lib/python3.10/dist-packages/sklearn/ensemble/_base.py:166: FutureWarning: `base_estimator` was renamed to `estimator` in version 1.2 and will be removed in 1.4.\n",
            "  warnings.warn(\n",
            "/usr/local/lib/python3.10/dist-packages/sklearn/ensemble/_base.py:166: FutureWarning: `base_estimator` was renamed to `estimator` in version 1.2 and will be removed in 1.4.\n",
            "  warnings.warn(\n",
            "/usr/local/lib/python3.10/dist-packages/sklearn/ensemble/_base.py:166: FutureWarning: `base_estimator` was renamed to `estimator` in version 1.2 and will be removed in 1.4.\n",
            "  warnings.warn(\n",
            "/usr/local/lib/python3.10/dist-packages/sklearn/ensemble/_base.py:166: FutureWarning: `base_estimator` was renamed to `estimator` in version 1.2 and will be removed in 1.4.\n",
            "  warnings.warn(\n",
            "/usr/local/lib/python3.10/dist-packages/sklearn/ensemble/_base.py:166: FutureWarning: `base_estimator` was renamed to `estimator` in version 1.2 and will be removed in 1.4.\n",
            "  warnings.warn(\n",
            "/usr/local/lib/python3.10/dist-packages/sklearn/ensemble/_base.py:166: FutureWarning: `base_estimator` was renamed to `estimator` in version 1.2 and will be removed in 1.4.\n",
            "  warnings.warn(\n",
            "/usr/local/lib/python3.10/dist-packages/sklearn/ensemble/_base.py:166: FutureWarning: `base_estimator` was renamed to `estimator` in version 1.2 and will be removed in 1.4.\n",
            "  warnings.warn(\n",
            "/usr/local/lib/python3.10/dist-packages/sklearn/ensemble/_base.py:166: FutureWarning: `base_estimator` was renamed to `estimator` in version 1.2 and will be removed in 1.4.\n",
            "  warnings.warn(\n",
            "/usr/local/lib/python3.10/dist-packages/sklearn/ensemble/_base.py:166: FutureWarning: `base_estimator` was renamed to `estimator` in version 1.2 and will be removed in 1.4.\n",
            "  warnings.warn(\n",
            "/usr/local/lib/python3.10/dist-packages/sklearn/ensemble/_base.py:166: FutureWarning: `base_estimator` was renamed to `estimator` in version 1.2 and will be removed in 1.4.\n",
            "  warnings.warn(\n",
            "/usr/local/lib/python3.10/dist-packages/sklearn/ensemble/_base.py:166: FutureWarning: `base_estimator` was renamed to `estimator` in version 1.2 and will be removed in 1.4.\n",
            "  warnings.warn(\n",
            "/usr/local/lib/python3.10/dist-packages/sklearn/ensemble/_base.py:166: FutureWarning: `base_estimator` was renamed to `estimator` in version 1.2 and will be removed in 1.4.\n",
            "  warnings.warn(\n",
            "/usr/local/lib/python3.10/dist-packages/sklearn/ensemble/_base.py:166: FutureWarning: `base_estimator` was renamed to `estimator` in version 1.2 and will be removed in 1.4.\n",
            "  warnings.warn(\n",
            "/usr/local/lib/python3.10/dist-packages/sklearn/ensemble/_base.py:166: FutureWarning: `base_estimator` was renamed to `estimator` in version 1.2 and will be removed in 1.4.\n",
            "  warnings.warn(\n",
            "/usr/local/lib/python3.10/dist-packages/sklearn/ensemble/_base.py:166: FutureWarning: `base_estimator` was renamed to `estimator` in version 1.2 and will be removed in 1.4.\n",
            "  warnings.warn(\n",
            "/usr/local/lib/python3.10/dist-packages/sklearn/ensemble/_base.py:166: FutureWarning: `base_estimator` was renamed to `estimator` in version 1.2 and will be removed in 1.4.\n",
            "  warnings.warn(\n",
            "/usr/local/lib/python3.10/dist-packages/sklearn/ensemble/_base.py:166: FutureWarning: `base_estimator` was renamed to `estimator` in version 1.2 and will be removed in 1.4.\n",
            "  warnings.warn(\n",
            "/usr/local/lib/python3.10/dist-packages/sklearn/ensemble/_base.py:166: FutureWarning: `base_estimator` was renamed to `estimator` in version 1.2 and will be removed in 1.4.\n",
            "  warnings.warn(\n",
            "/usr/local/lib/python3.10/dist-packages/sklearn/ensemble/_base.py:166: FutureWarning: `base_estimator` was renamed to `estimator` in version 1.2 and will be removed in 1.4.\n",
            "  warnings.warn(\n",
            "/usr/local/lib/python3.10/dist-packages/sklearn/ensemble/_base.py:166: FutureWarning: `base_estimator` was renamed to `estimator` in version 1.2 and will be removed in 1.4.\n",
            "  warnings.warn(\n",
            "/usr/local/lib/python3.10/dist-packages/sklearn/ensemble/_base.py:166: FutureWarning: `base_estimator` was renamed to `estimator` in version 1.2 and will be removed in 1.4.\n",
            "  warnings.warn(\n",
            "/usr/local/lib/python3.10/dist-packages/sklearn/ensemble/_base.py:166: FutureWarning: `base_estimator` was renamed to `estimator` in version 1.2 and will be removed in 1.4.\n",
            "  warnings.warn(\n",
            "/usr/local/lib/python3.10/dist-packages/sklearn/ensemble/_base.py:166: FutureWarning: `base_estimator` was renamed to `estimator` in version 1.2 and will be removed in 1.4.\n",
            "  warnings.warn(\n",
            "/usr/local/lib/python3.10/dist-packages/sklearn/ensemble/_base.py:166: FutureWarning: `base_estimator` was renamed to `estimator` in version 1.2 and will be removed in 1.4.\n",
            "  warnings.warn(\n",
            "/usr/local/lib/python3.10/dist-packages/sklearn/ensemble/_base.py:166: FutureWarning: `base_estimator` was renamed to `estimator` in version 1.2 and will be removed in 1.4.\n",
            "  warnings.warn(\n",
            "/usr/local/lib/python3.10/dist-packages/sklearn/ensemble/_base.py:166: FutureWarning: `base_estimator` was renamed to `estimator` in version 1.2 and will be removed in 1.4.\n",
            "  warnings.warn(\n",
            "/usr/local/lib/python3.10/dist-packages/sklearn/ensemble/_base.py:166: FutureWarning: `base_estimator` was renamed to `estimator` in version 1.2 and will be removed in 1.4.\n",
            "  warnings.warn(\n",
            "/usr/local/lib/python3.10/dist-packages/sklearn/ensemble/_base.py:166: FutureWarning: `base_estimator` was renamed to `estimator` in version 1.2 and will be removed in 1.4.\n",
            "  warnings.warn(\n",
            "/usr/local/lib/python3.10/dist-packages/sklearn/ensemble/_base.py:166: FutureWarning: `base_estimator` was renamed to `estimator` in version 1.2 and will be removed in 1.4.\n",
            "  warnings.warn(\n",
            "/usr/local/lib/python3.10/dist-packages/sklearn/ensemble/_base.py:166: FutureWarning: `base_estimator` was renamed to `estimator` in version 1.2 and will be removed in 1.4.\n",
            "  warnings.warn(\n",
            "/usr/local/lib/python3.10/dist-packages/sklearn/ensemble/_base.py:166: FutureWarning: `base_estimator` was renamed to `estimator` in version 1.2 and will be removed in 1.4.\n",
            "  warnings.warn(\n",
            "/usr/local/lib/python3.10/dist-packages/sklearn/ensemble/_base.py:166: FutureWarning: `base_estimator` was renamed to `estimator` in version 1.2 and will be removed in 1.4.\n",
            "  warnings.warn(\n",
            "/usr/local/lib/python3.10/dist-packages/sklearn/ensemble/_base.py:166: FutureWarning: `base_estimator` was renamed to `estimator` in version 1.2 and will be removed in 1.4.\n",
            "  warnings.warn(\n",
            "/usr/local/lib/python3.10/dist-packages/sklearn/ensemble/_base.py:166: FutureWarning: `base_estimator` was renamed to `estimator` in version 1.2 and will be removed in 1.4.\n",
            "  warnings.warn(\n",
            "/usr/local/lib/python3.10/dist-packages/sklearn/ensemble/_base.py:166: FutureWarning: `base_estimator` was renamed to `estimator` in version 1.2 and will be removed in 1.4.\n",
            "  warnings.warn(\n",
            "/usr/local/lib/python3.10/dist-packages/sklearn/ensemble/_base.py:166: FutureWarning: `base_estimator` was renamed to `estimator` in version 1.2 and will be removed in 1.4.\n",
            "  warnings.warn(\n",
            "/usr/local/lib/python3.10/dist-packages/sklearn/ensemble/_base.py:166: FutureWarning: `base_estimator` was renamed to `estimator` in version 1.2 and will be removed in 1.4.\n",
            "  warnings.warn(\n",
            "/usr/local/lib/python3.10/dist-packages/sklearn/ensemble/_base.py:166: FutureWarning: `base_estimator` was renamed to `estimator` in version 1.2 and will be removed in 1.4.\n",
            "  warnings.warn(\n",
            "/usr/local/lib/python3.10/dist-packages/sklearn/ensemble/_base.py:166: FutureWarning: `base_estimator` was renamed to `estimator` in version 1.2 and will be removed in 1.4.\n",
            "  warnings.warn(\n",
            "/usr/local/lib/python3.10/dist-packages/sklearn/ensemble/_base.py:166: FutureWarning: `base_estimator` was renamed to `estimator` in version 1.2 and will be removed in 1.4.\n",
            "  warnings.warn(\n",
            "/usr/local/lib/python3.10/dist-packages/sklearn/ensemble/_base.py:166: FutureWarning: `base_estimator` was renamed to `estimator` in version 1.2 and will be removed in 1.4.\n",
            "  warnings.warn(\n",
            "/usr/local/lib/python3.10/dist-packages/sklearn/ensemble/_base.py:166: FutureWarning: `base_estimator` was renamed to `estimator` in version 1.2 and will be removed in 1.4.\n",
            "  warnings.warn(\n",
            "/usr/local/lib/python3.10/dist-packages/sklearn/ensemble/_base.py:166: FutureWarning: `base_estimator` was renamed to `estimator` in version 1.2 and will be removed in 1.4.\n",
            "  warnings.warn(\n",
            "/usr/local/lib/python3.10/dist-packages/sklearn/ensemble/_base.py:166: FutureWarning: `base_estimator` was renamed to `estimator` in version 1.2 and will be removed in 1.4.\n",
            "  warnings.warn(\n",
            "/usr/local/lib/python3.10/dist-packages/sklearn/ensemble/_base.py:166: FutureWarning: `base_estimator` was renamed to `estimator` in version 1.2 and will be removed in 1.4.\n",
            "  warnings.warn(\n",
            "/usr/local/lib/python3.10/dist-packages/sklearn/ensemble/_base.py:166: FutureWarning: `base_estimator` was renamed to `estimator` in version 1.2 and will be removed in 1.4.\n",
            "  warnings.warn(\n",
            "/usr/local/lib/python3.10/dist-packages/sklearn/ensemble/_base.py:166: FutureWarning: `base_estimator` was renamed to `estimator` in version 1.2 and will be removed in 1.4.\n",
            "  warnings.warn(\n",
            "/usr/local/lib/python3.10/dist-packages/sklearn/ensemble/_base.py:166: FutureWarning: `base_estimator` was renamed to `estimator` in version 1.2 and will be removed in 1.4.\n",
            "  warnings.warn(\n",
            "/usr/local/lib/python3.10/dist-packages/sklearn/ensemble/_base.py:166: FutureWarning: `base_estimator` was renamed to `estimator` in version 1.2 and will be removed in 1.4.\n",
            "  warnings.warn(\n",
            "/usr/local/lib/python3.10/dist-packages/sklearn/ensemble/_base.py:166: FutureWarning: `base_estimator` was renamed to `estimator` in version 1.2 and will be removed in 1.4.\n",
            "  warnings.warn(\n",
            "/usr/local/lib/python3.10/dist-packages/sklearn/ensemble/_base.py:166: FutureWarning: `base_estimator` was renamed to `estimator` in version 1.2 and will be removed in 1.4.\n",
            "  warnings.warn(\n",
            "/usr/local/lib/python3.10/dist-packages/sklearn/ensemble/_base.py:166: FutureWarning: `base_estimator` was renamed to `estimator` in version 1.2 and will be removed in 1.4.\n",
            "  warnings.warn(\n",
            "/usr/local/lib/python3.10/dist-packages/sklearn/ensemble/_base.py:166: FutureWarning: `base_estimator` was renamed to `estimator` in version 1.2 and will be removed in 1.4.\n",
            "  warnings.warn(\n",
            "/usr/local/lib/python3.10/dist-packages/sklearn/ensemble/_base.py:166: FutureWarning: `base_estimator` was renamed to `estimator` in version 1.2 and will be removed in 1.4.\n",
            "  warnings.warn(\n",
            "/usr/local/lib/python3.10/dist-packages/sklearn/ensemble/_base.py:166: FutureWarning: `base_estimator` was renamed to `estimator` in version 1.2 and will be removed in 1.4.\n",
            "  warnings.warn(\n",
            "/usr/local/lib/python3.10/dist-packages/sklearn/ensemble/_base.py:166: FutureWarning: `base_estimator` was renamed to `estimator` in version 1.2 and will be removed in 1.4.\n",
            "  warnings.warn(\n",
            "/usr/local/lib/python3.10/dist-packages/sklearn/ensemble/_base.py:166: FutureWarning: `base_estimator` was renamed to `estimator` in version 1.2 and will be removed in 1.4.\n",
            "  warnings.warn(\n",
            "/usr/local/lib/python3.10/dist-packages/sklearn/ensemble/_base.py:166: FutureWarning: `base_estimator` was renamed to `estimator` in version 1.2 and will be removed in 1.4.\n",
            "  warnings.warn(\n",
            "/usr/local/lib/python3.10/dist-packages/sklearn/ensemble/_base.py:166: FutureWarning: `base_estimator` was renamed to `estimator` in version 1.2 and will be removed in 1.4.\n",
            "  warnings.warn(\n",
            "/usr/local/lib/python3.10/dist-packages/sklearn/ensemble/_base.py:166: FutureWarning: `base_estimator` was renamed to `estimator` in version 1.2 and will be removed in 1.4.\n",
            "  warnings.warn(\n",
            "/usr/local/lib/python3.10/dist-packages/sklearn/ensemble/_base.py:166: FutureWarning: `base_estimator` was renamed to `estimator` in version 1.2 and will be removed in 1.4.\n",
            "  warnings.warn(\n",
            "/usr/local/lib/python3.10/dist-packages/sklearn/ensemble/_base.py:166: FutureWarning: `base_estimator` was renamed to `estimator` in version 1.2 and will be removed in 1.4.\n",
            "  warnings.warn(\n",
            "/usr/local/lib/python3.10/dist-packages/sklearn/ensemble/_base.py:166: FutureWarning: `base_estimator` was renamed to `estimator` in version 1.2 and will be removed in 1.4.\n",
            "  warnings.warn(\n",
            "/usr/local/lib/python3.10/dist-packages/sklearn/ensemble/_base.py:166: FutureWarning: `base_estimator` was renamed to `estimator` in version 1.2 and will be removed in 1.4.\n",
            "  warnings.warn(\n",
            "/usr/local/lib/python3.10/dist-packages/sklearn/ensemble/_base.py:166: FutureWarning: `base_estimator` was renamed to `estimator` in version 1.2 and will be removed in 1.4.\n",
            "  warnings.warn(\n",
            "/usr/local/lib/python3.10/dist-packages/sklearn/ensemble/_base.py:166: FutureWarning: `base_estimator` was renamed to `estimator` in version 1.2 and will be removed in 1.4.\n",
            "  warnings.warn(\n",
            "/usr/local/lib/python3.10/dist-packages/sklearn/ensemble/_base.py:166: FutureWarning: `base_estimator` was renamed to `estimator` in version 1.2 and will be removed in 1.4.\n",
            "  warnings.warn(\n",
            "/usr/local/lib/python3.10/dist-packages/sklearn/ensemble/_base.py:166: FutureWarning: `base_estimator` was renamed to `estimator` in version 1.2 and will be removed in 1.4.\n",
            "  warnings.warn(\n",
            "/usr/local/lib/python3.10/dist-packages/sklearn/ensemble/_base.py:166: FutureWarning: `base_estimator` was renamed to `estimator` in version 1.2 and will be removed in 1.4.\n",
            "  warnings.warn(\n",
            "/usr/local/lib/python3.10/dist-packages/sklearn/ensemble/_base.py:166: FutureWarning: `base_estimator` was renamed to `estimator` in version 1.2 and will be removed in 1.4.\n",
            "  warnings.warn(\n",
            "/usr/local/lib/python3.10/dist-packages/sklearn/ensemble/_base.py:166: FutureWarning: `base_estimator` was renamed to `estimator` in version 1.2 and will be removed in 1.4.\n",
            "  warnings.warn(\n",
            "/usr/local/lib/python3.10/dist-packages/sklearn/ensemble/_base.py:166: FutureWarning: `base_estimator` was renamed to `estimator` in version 1.2 and will be removed in 1.4.\n",
            "  warnings.warn(\n",
            "/usr/local/lib/python3.10/dist-packages/sklearn/ensemble/_base.py:166: FutureWarning: `base_estimator` was renamed to `estimator` in version 1.2 and will be removed in 1.4.\n",
            "  warnings.warn(\n",
            "/usr/local/lib/python3.10/dist-packages/sklearn/ensemble/_base.py:166: FutureWarning: `base_estimator` was renamed to `estimator` in version 1.2 and will be removed in 1.4.\n",
            "  warnings.warn(\n",
            "/usr/local/lib/python3.10/dist-packages/sklearn/ensemble/_base.py:166: FutureWarning: `base_estimator` was renamed to `estimator` in version 1.2 and will be removed in 1.4.\n",
            "  warnings.warn(\n",
            "/usr/local/lib/python3.10/dist-packages/sklearn/ensemble/_base.py:166: FutureWarning: `base_estimator` was renamed to `estimator` in version 1.2 and will be removed in 1.4.\n",
            "  warnings.warn(\n",
            "/usr/local/lib/python3.10/dist-packages/sklearn/ensemble/_base.py:166: FutureWarning: `base_estimator` was renamed to `estimator` in version 1.2 and will be removed in 1.4.\n",
            "  warnings.warn(\n",
            "/usr/local/lib/python3.10/dist-packages/sklearn/ensemble/_base.py:166: FutureWarning: `base_estimator` was renamed to `estimator` in version 1.2 and will be removed in 1.4.\n",
            "  warnings.warn(\n",
            "/usr/local/lib/python3.10/dist-packages/sklearn/ensemble/_base.py:166: FutureWarning: `base_estimator` was renamed to `estimator` in version 1.2 and will be removed in 1.4.\n",
            "  warnings.warn(\n",
            "/usr/local/lib/python3.10/dist-packages/sklearn/ensemble/_base.py:166: FutureWarning: `base_estimator` was renamed to `estimator` in version 1.2 and will be removed in 1.4.\n",
            "  warnings.warn(\n",
            "/usr/local/lib/python3.10/dist-packages/sklearn/ensemble/_base.py:166: FutureWarning: `base_estimator` was renamed to `estimator` in version 1.2 and will be removed in 1.4.\n",
            "  warnings.warn(\n",
            "/usr/local/lib/python3.10/dist-packages/sklearn/ensemble/_base.py:166: FutureWarning: `base_estimator` was renamed to `estimator` in version 1.2 and will be removed in 1.4.\n",
            "  warnings.warn(\n",
            "/usr/local/lib/python3.10/dist-packages/sklearn/ensemble/_base.py:166: FutureWarning: `base_estimator` was renamed to `estimator` in version 1.2 and will be removed in 1.4.\n",
            "  warnings.warn(\n",
            "/usr/local/lib/python3.10/dist-packages/sklearn/ensemble/_base.py:166: FutureWarning: `base_estimator` was renamed to `estimator` in version 1.2 and will be removed in 1.4.\n",
            "  warnings.warn(\n",
            "/usr/local/lib/python3.10/dist-packages/sklearn/ensemble/_base.py:166: FutureWarning: `base_estimator` was renamed to `estimator` in version 1.2 and will be removed in 1.4.\n",
            "  warnings.warn(\n",
            "/usr/local/lib/python3.10/dist-packages/sklearn/ensemble/_base.py:166: FutureWarning: `base_estimator` was renamed to `estimator` in version 1.2 and will be removed in 1.4.\n",
            "  warnings.warn(\n",
            "/usr/local/lib/python3.10/dist-packages/sklearn/ensemble/_base.py:166: FutureWarning: `base_estimator` was renamed to `estimator` in version 1.2 and will be removed in 1.4.\n",
            "  warnings.warn(\n",
            "/usr/local/lib/python3.10/dist-packages/sklearn/ensemble/_base.py:166: FutureWarning: `base_estimator` was renamed to `estimator` in version 1.2 and will be removed in 1.4.\n",
            "  warnings.warn(\n",
            "/usr/local/lib/python3.10/dist-packages/sklearn/ensemble/_base.py:166: FutureWarning: `base_estimator` was renamed to `estimator` in version 1.2 and will be removed in 1.4.\n",
            "  warnings.warn(\n",
            "/usr/local/lib/python3.10/dist-packages/sklearn/ensemble/_base.py:166: FutureWarning: `base_estimator` was renamed to `estimator` in version 1.2 and will be removed in 1.4.\n",
            "  warnings.warn(\n",
            "/usr/local/lib/python3.10/dist-packages/sklearn/ensemble/_base.py:166: FutureWarning: `base_estimator` was renamed to `estimator` in version 1.2 and will be removed in 1.4.\n",
            "  warnings.warn(\n",
            "/usr/local/lib/python3.10/dist-packages/sklearn/ensemble/_base.py:166: FutureWarning: `base_estimator` was renamed to `estimator` in version 1.2 and will be removed in 1.4.\n",
            "  warnings.warn(\n",
            "/usr/local/lib/python3.10/dist-packages/sklearn/ensemble/_base.py:166: FutureWarning: `base_estimator` was renamed to `estimator` in version 1.2 and will be removed in 1.4.\n",
            "  warnings.warn(\n",
            "/usr/local/lib/python3.10/dist-packages/sklearn/ensemble/_base.py:166: FutureWarning: `base_estimator` was renamed to `estimator` in version 1.2 and will be removed in 1.4.\n",
            "  warnings.warn(\n",
            "/usr/local/lib/python3.10/dist-packages/sklearn/ensemble/_base.py:166: FutureWarning: `base_estimator` was renamed to `estimator` in version 1.2 and will be removed in 1.4.\n",
            "  warnings.warn(\n"
          ]
        },
        {
          "output_type": "stream",
          "name": "stdout",
          "text": [
            "Best Parameters: {'base_estimator__metric': 'manhattan', 'base_estimator__n_neighbors': 10, 'n_estimators': 30}\n",
            "Validation F1_score: 0.49563419117647056\n"
          ]
        }
      ]
    },
    {
      "cell_type": "markdown",
      "source": [
        "# MLP"
      ],
      "metadata": {
        "id": "QMyig0gJnWcE"
      }
    },
    {
      "cell_type": "code",
      "source": [
        "train_df3 = train.copy()\n",
        "test_df3 = test.copy()"
      ],
      "metadata": {
        "id": "STKk5PK3sY2i"
      },
      "execution_count": null,
      "outputs": []
    },
    {
      "cell_type": "code",
      "source": [
        "# num_col = [col for col in train.columns if train_df3[col].dtype in ['int64', 'float64'] and col not in ['target']]\n",
        "cat_col = [col for col in train.columns if train_df3[col].dtype == 'object' and col not in ['user_id']]\n",
        "\n",
        "scaler = StandardScaler()\n",
        "\n",
        "# train_df3[num_col] = scaler.fit_transform(train_df3[num_col])\n",
        "# test_df3[num_col] = scaler.transform(test_df3[num_col])\n",
        "\n",
        "label_encoders = {}\n",
        "\n",
        "for col in cat_col:\n",
        "    label_encoders[col] = LabelEncoder()\n",
        "    train_df3[col] = label_encoders[col].fit_transform(train_df3[col])\n",
        "    test_df3[col] = label_encoders[col].transform(test_df3[col])\n",
        "\n",
        "train_df3['learning_concentration'] = np.log(train_df3['learning_concentration'])\n",
        "train_df3['average_time_per_learning_session'] = np.log(train_df3['average_time_per_learning_session'])\n",
        "\n",
        "test_df3['learning_concentration'] = np.log(test_df3['learning_concentration'])\n",
        "test_df3['average_time_per_learning_session'] = np.log(test_df3['average_time_per_learning_session'])\n"
      ],
      "metadata": {
        "id": "q8sK3LsTsgTa"
      },
      "execution_count": null,
      "outputs": []
    },
    {
      "cell_type": "code",
      "source": [
        "X = train_df3.drop(columns = ['user_id', 'target'])\n",
        "y = train_df3['target']\n",
        "test_X = test_df3.drop(columns=['user_id'])"
      ],
      "metadata": {
        "id": "g1r_dfM2sTsF"
      },
      "execution_count": null,
      "outputs": []
    },
    {
      "cell_type": "code",
      "source": [
        "X_train, X_val, y_train, y_val = train_test_split(X, y, test_size=0.2, random_state=42)"
      ],
      "metadata": {
        "id": "ZEwfBZ7EsQFW"
      },
      "execution_count": null,
      "outputs": []
    },
    {
      "cell_type": "code",
      "source": [
        "\n",
        "def macro_f1_score(y_true, y_pred):\n",
        "\n",
        "    true_positives = K.sum(K.round(K.clip(y_true * y_pred, 0, 1)))\n",
        "    possible_positives = K.sum(K.round(K.clip(y_true, 0, 1)))\n",
        "    predicted_positives = K.sum(K.round(K.clip(y_pred, 0, 1)))\n",
        "\n",
        "    precision = true_positives / (predicted_positives + K.epsilon())\n",
        "    recall = true_positives / (possible_positives + K.epsilon())\n",
        "    f1_score = 2 * (precision * recall) / (precision + recall + K.epsilon())\n",
        "\n",
        "    return f1_score\n",
        "\n",
        "model = Sequential()\n",
        "model.add(Dense(64, input_shape=(X_train.shape[1],), activation='relu'))\n",
        "model.add(Dense(32, activation='relu'))\n",
        "model.add(Dense(1, activation='sigmoid'))\n",
        "\n",
        "\n",
        "model.compile(optimizer=Adam(lr=0.001), loss='binary_crossentropy', metrics=[macro_f1_score])\n",
        "\n",
        "\n",
        "history = model.fit(X_train, y_train, epochs=10, batch_size=32, validation_data=(X_val, y_val))\n",
        "test_predictions = model.predict(test_X)\n",
        "test_predictions_binary = np.round(test_predictions).astype(int)"
      ],
      "metadata": {
        "colab": {
          "base_uri": "https://localhost:8080/"
        },
        "id": "a_bWUVCVfxW3",
        "outputId": "cb424fdd-66b1-4e74-90d3-22c67ebd1c85"
      },
      "execution_count": null,
      "outputs": [
        {
          "output_type": "stream",
          "name": "stderr",
          "text": [
            "WARNING:absl:`lr` is deprecated in Keras optimizer, please use `learning_rate` or use the legacy optimizer, e.g.,tf.keras.optimizers.legacy.Adam.\n"
          ]
        },
        {
          "output_type": "stream",
          "name": "stdout",
          "text": [
            "Epoch 1/10\n",
            "250/250 [==============================] - 1s 2ms/step - loss: 0.9920 - macro_f1_score: 0.6461 - val_loss: 0.6941 - val_macro_f1_score: 0.7488\n",
            "Epoch 2/10\n",
            "250/250 [==============================] - 0s 2ms/step - loss: 0.6942 - macro_f1_score: 0.6992 - val_loss: 0.6762 - val_macro_f1_score: 0.7522\n",
            "Epoch 3/10\n",
            "250/250 [==============================] - 0s 2ms/step - loss: 0.7070 - macro_f1_score: 0.6761 - val_loss: 0.6860 - val_macro_f1_score: 0.6654\n",
            "Epoch 4/10\n",
            "250/250 [==============================] - 0s 1ms/step - loss: 0.6848 - macro_f1_score: 0.7048 - val_loss: 0.6741 - val_macro_f1_score: 0.7327\n",
            "Epoch 5/10\n",
            "250/250 [==============================] - 0s 2ms/step - loss: 0.6803 - macro_f1_score: 0.7173 - val_loss: 0.6790 - val_macro_f1_score: 0.7612\n",
            "Epoch 6/10\n",
            "250/250 [==============================] - 0s 2ms/step - loss: 0.6798 - macro_f1_score: 0.7114 - val_loss: 0.6763 - val_macro_f1_score: 0.7616\n",
            "Epoch 7/10\n",
            "250/250 [==============================] - 0s 2ms/step - loss: 0.6841 - macro_f1_score: 0.7025 - val_loss: 0.6896 - val_macro_f1_score: 0.7598\n",
            "Epoch 8/10\n",
            "250/250 [==============================] - 1s 3ms/step - loss: 0.6828 - macro_f1_score: 0.7043 - val_loss: 0.6825 - val_macro_f1_score: 0.7619\n",
            "Epoch 9/10\n",
            "250/250 [==============================] - 1s 4ms/step - loss: 0.6821 - macro_f1_score: 0.7139 - val_loss: 0.6766 - val_macro_f1_score: 0.6870\n",
            "Epoch 10/10\n",
            "250/250 [==============================] - 0s 2ms/step - loss: 0.6891 - macro_f1_score: 0.6894 - val_loss: 0.6735 - val_macro_f1_score: 0.7297\n",
            "313/313 [==============================] - 0s 933us/step\n"
          ]
        }
      ]
    },
    {
      "cell_type": "code",
      "source": [
        "test_predictions_binary"
      ],
      "metadata": {
        "colab": {
          "base_uri": "https://localhost:8080/"
        },
        "id": "dqBcrAnCq302",
        "outputId": "ddc11e17-ac21-4640-bdae-828f81ab8a1e"
      },
      "execution_count": null,
      "outputs": [
        {
          "output_type": "execute_result",
          "data": {
            "text/plain": [
              "array([[1],\n",
              "       [1],\n",
              "       [0],\n",
              "       ...,\n",
              "       [1],\n",
              "       [1],\n",
              "       [1]])"
            ]
          },
          "metadata": {},
          "execution_count": 18
        }
      ]
    },
    {
      "cell_type": "code",
      "source": [
        "# from google.colab import files\n",
        "# sample_submission['target'] = test_predictions_binary\n",
        "\n",
        "# sample_submission.to_csv('(12.10)mlp_basic.csv', index = False)\n",
        "# files.download('(12.10)mlp_basic.csv')"
      ],
      "metadata": {
        "colab": {
          "base_uri": "https://localhost:8080/",
          "height": 17
        },
        "id": "yDZ7nwharaqI",
        "outputId": "b89df9fc-f476-473b-996a-d0d792782377"
      },
      "execution_count": null,
      "outputs": [
        {
          "output_type": "display_data",
          "data": {
            "text/plain": [
              "<IPython.core.display.Javascript object>"
            ],
            "application/javascript": [
              "\n",
              "    async function download(id, filename, size) {\n",
              "      if (!google.colab.kernel.accessAllowed) {\n",
              "        return;\n",
              "      }\n",
              "      const div = document.createElement('div');\n",
              "      const label = document.createElement('label');\n",
              "      label.textContent = `Downloading \"${filename}\": `;\n",
              "      div.appendChild(label);\n",
              "      const progress = document.createElement('progress');\n",
              "      progress.max = size;\n",
              "      div.appendChild(progress);\n",
              "      document.body.appendChild(div);\n",
              "\n",
              "      const buffers = [];\n",
              "      let downloaded = 0;\n",
              "\n",
              "      const channel = await google.colab.kernel.comms.open(id);\n",
              "      // Send a message to notify the kernel that we're ready.\n",
              "      channel.send({})\n",
              "\n",
              "      for await (const message of channel.messages) {\n",
              "        // Send a message to notify the kernel that we're ready.\n",
              "        channel.send({})\n",
              "        if (message.buffers) {\n",
              "          for (const buffer of message.buffers) {\n",
              "            buffers.push(buffer);\n",
              "            downloaded += buffer.byteLength;\n",
              "            progress.value = downloaded;\n",
              "          }\n",
              "        }\n",
              "      }\n",
              "      const blob = new Blob(buffers, {type: 'application/binary'});\n",
              "      const a = document.createElement('a');\n",
              "      a.href = window.URL.createObjectURL(blob);\n",
              "      a.download = filename;\n",
              "      div.appendChild(a);\n",
              "      a.click();\n",
              "      div.remove();\n",
              "    }\n",
              "  "
            ]
          },
          "metadata": {}
        },
        {
          "output_type": "display_data",
          "data": {
            "text/plain": [
              "<IPython.core.display.Javascript object>"
            ],
            "application/javascript": [
              "download(\"download_9e7d6996-607d-4925-a5c1-a10a4f3f606f\", \"(12.10)mlp_basic.csv\", 110015)"
            ]
          },
          "metadata": {}
        }
      ]
    },
    {
      "cell_type": "code",
      "source": [
        "pd.DataFrame(history.history).plot(figsize=(8,5))\n",
        "plt.grid(True)\n",
        "plt.gca().set_ylim(0,1)\n",
        "plt.show()"
      ],
      "metadata": {
        "colab": {
          "base_uri": "https://localhost:8080/",
          "height": 451
        },
        "id": "z9CVIkqMlRhY",
        "outputId": "63c85472-c455-4623-ee72-2ad8c07b94ed"
      },
      "execution_count": null,
      "outputs": [
        {
          "output_type": "display_data",
          "data": {
            "text/plain": [
              "<Figure size 800x500 with 1 Axes>"
            ],
            "image/png": "[encoded data removed]"
          },
          "metadata": {}
        }
      ]
    },
    {
      "cell_type": "code",
      "source": [
        "\n",
        "model = Sequential()\n",
        "model.add(Dense(128, input_shape=(X_train.shape[1],), activation='relu'))\n",
        "model.add(Dropout(0.5))\n",
        "model.add(Dense(64, activation='relu'))\n",
        "model.add(Dropout(0.5))\n",
        "model.add(Dense(1, activation='sigmoid'))\n",
        "\n",
        "model.compile(optimizer=Adam(lr=0.0001), loss='binary_crossentropy', metrics=[macro_f1_score])\n",
        "\n",
        "early_stopping = EarlyStopping(monitor='val_loss', patience=5)\n",
        "\n",
        "model.fit(X_train, y_train, epochs=50, batch_size=32, validation_data=(X_val, y_val), callbacks=[early_stopping])\n"
      ],
      "metadata": {
        "colab": {
          "base_uri": "https://localhost:8080/"
        },
        "id": "7mrbT6S3jYkW",
        "outputId": "56aba671-615a-4c68-9730-fe04dea9baed"
      },
      "execution_count": null,
      "outputs": [
        {
          "output_type": "stream",
          "name": "stderr",
          "text": [
            "WARNING:absl:`lr` is deprecated in Keras optimizer, please use `learning_rate` or use the legacy optimizer, e.g.,tf.keras.optimizers.legacy.Adam.\n"
          ]
        },
        {
          "output_type": "stream",
          "name": "stdout",
          "text": [
            "Epoch 1/50\n",
            "250/250 [==============================] - 3s 5ms/step - loss: 0.6853 - macro_f1_score: 0.7103 - val_loss: 0.6560 - val_macro_f1_score: 0.7612\n",
            "Epoch 2/50\n",
            "250/250 [==============================] - 1s 3ms/step - loss: 0.6644 - macro_f1_score: 0.7438 - val_loss: 0.6548 - val_macro_f1_score: 0.7612\n",
            "Epoch 3/50\n",
            "250/250 [==============================] - 1s 3ms/step - loss: 0.6609 - macro_f1_score: 0.7500 - val_loss: 0.6511 - val_macro_f1_score: 0.7614\n",
            "Epoch 4/50\n",
            "250/250 [==============================] - 1s 3ms/step - loss: 0.6560 - macro_f1_score: 0.7546 - val_loss: 0.6533 - val_macro_f1_score: 0.7609\n",
            "Epoch 5/50\n",
            "250/250 [==============================] - 1s 3ms/step - loss: 0.6542 - macro_f1_score: 0.7556 - val_loss: 0.6508 - val_macro_f1_score: 0.7612\n",
            "Epoch 6/50\n",
            "250/250 [==============================] - 1s 3ms/step - loss: 0.6519 - macro_f1_score: 0.7588 - val_loss: 0.6508 - val_macro_f1_score: 0.7612\n",
            "Epoch 7/50\n",
            "250/250 [==============================] - 1s 3ms/step - loss: 0.6514 - macro_f1_score: 0.7607 - val_loss: 0.6518 - val_macro_f1_score: 0.7612\n",
            "Epoch 8/50\n",
            "250/250 [==============================] - 1s 3ms/step - loss: 0.6496 - macro_f1_score: 0.7608 - val_loss: 0.6518 - val_macro_f1_score: 0.7612\n",
            "Epoch 9/50\n",
            "250/250 [==============================] - 1s 3ms/step - loss: 0.6502 - macro_f1_score: 0.7601 - val_loss: 0.6508 - val_macro_f1_score: 0.7612\n",
            "Epoch 10/50\n",
            "250/250 [==============================] - 1s 3ms/step - loss: 0.6501 - macro_f1_score: 0.7607 - val_loss: 0.6499 - val_macro_f1_score: 0.7612\n",
            "Epoch 11/50\n",
            "250/250 [==============================] - 1s 3ms/step - loss: 0.6488 - macro_f1_score: 0.7613 - val_loss: 0.6494 - val_macro_f1_score: 0.7612\n",
            "Epoch 12/50\n",
            "250/250 [==============================] - 1s 3ms/step - loss: 0.6483 - macro_f1_score: 0.7610 - val_loss: 0.6492 - val_macro_f1_score: 0.7612\n",
            "Epoch 13/50\n",
            "250/250 [==============================] - 1s 3ms/step - loss: 0.6460 - macro_f1_score: 0.7608 - val_loss: 0.6499 - val_macro_f1_score: 0.7611\n",
            "Epoch 14/50\n",
            "250/250 [==============================] - 1s 3ms/step - loss: 0.6477 - macro_f1_score: 0.7602 - val_loss: 0.6485 - val_macro_f1_score: 0.7611\n",
            "Epoch 15/50\n",
            "250/250 [==============================] - 2s 10ms/step - loss: 0.6468 - macro_f1_score: 0.7595 - val_loss: 0.6503 - val_macro_f1_score: 0.7609\n",
            "Epoch 16/50\n",
            "250/250 [==============================] - 3s 12ms/step - loss: 0.6456 - macro_f1_score: 0.7603 - val_loss: 0.6494 - val_macro_f1_score: 0.7615\n",
            "Epoch 17/50\n",
            "250/250 [==============================] - 1s 4ms/step - loss: 0.6442 - macro_f1_score: 0.7606 - val_loss: 0.6498 - val_macro_f1_score: 0.7597\n",
            "Epoch 18/50\n",
            "250/250 [==============================] - 1s 4ms/step - loss: 0.6441 - macro_f1_score: 0.7596 - val_loss: 0.6493 - val_macro_f1_score: 0.7607\n",
            "Epoch 19/50\n",
            "250/250 [==============================] - 1s 4ms/step - loss: 0.6445 - macro_f1_score: 0.7606 - val_loss: 0.6502 - val_macro_f1_score: 0.7582\n"
          ]
        },
        {
          "output_type": "execute_result",
          "data": {
            "text/plain": [
              "<keras.src.callbacks.History at 0x7d1af442fbe0>"
            ]
          },
          "metadata": {},
          "execution_count": 43
        }
      ]
    },
    {
      "cell_type": "code",
      "source": [
        "\n",
        "model = Sequential()\n",
        "model.add(Dense(1024, input_shape=(X_train.shape[1],), activation='relu'))\n",
        "model.add(Dropout(0.5))\n",
        "model.add(Dense(512, input_shape=(X_train.shape[1],), activation='relu'))\n",
        "model.add(Dropout(0.5))\n",
        "\n",
        "model.add(Dense(256, input_shape=(X_train.shape[1],), activation='relu'))\n",
        "model.add(Dropout(0.5))\n",
        "model.add(Dense(128, input_shape=(X_train.shape[1],), activation='relu'))\n",
        "model.add(Dropout(0.5))\n",
        "model.add(Dense(64, activation='relu'))\n",
        "model.add(Dropout(0.5))\n",
        "model.add(Dense(32, activation='relu'))\n",
        "model.add(Dropout(0.5))\n",
        "model.add(Dense(16, activation='relu'))\n",
        "model.add(Dropout(0.5))\n",
        "model.add(Dense(8, input_shape=(X_train.shape[1],), activation='relu'))\n",
        "model.add(Dropout(0.5))\n",
        "model.add(Dense(1, activation='sigmoid'))\n",
        "\n",
        "model.compile(optimizer=Adam(lr=0.0001), loss='binary_crossentropy', metrics=[macro_f1_score])\n",
        "\n",
        "early_stopping = EarlyStopping(monitor='val_loss', patience=5)\n",
        "\n",
        "model.fit(X_train, y_train, epochs=50, batch_size=32, validation_data=(X_val, y_val), callbacks=[early_stopping])"
      ],
      "metadata": {
        "colab": {
          "base_uri": "https://localhost:8080/"
        },
        "id": "c7Wd10FFnIb-",
        "outputId": "369dcf94-ddda-4461-9263-71986e0cd54c"
      },
      "execution_count": null,
      "outputs": [
        {
          "output_type": "stream",
          "name": "stderr",
          "text": [
            "WARNING:absl:`lr` is deprecated in Keras optimizer, please use `learning_rate` or use the legacy optimizer, e.g.,tf.keras.optimizers.legacy.Adam.\n"
          ]
        },
        {
          "output_type": "stream",
          "name": "stdout",
          "text": [
            "Epoch 1/50\n",
            "250/250 [==============================] - 7s 20ms/step - loss: 0.6946 - macro_f1_score: 0.7166 - val_loss: 0.6750 - val_macro_f1_score: 0.7612\n",
            "Epoch 2/50\n",
            "250/250 [==============================] - 6s 25ms/step - loss: 0.6752 - macro_f1_score: 0.7548 - val_loss: 0.6678 - val_macro_f1_score: 0.7612\n",
            "Epoch 3/50\n",
            "250/250 [==============================] - 6s 22ms/step - loss: 0.6684 - macro_f1_score: 0.7592 - val_loss: 0.6656 - val_macro_f1_score: 0.7612\n",
            "Epoch 4/50\n",
            "250/250 [==============================] - 5s 18ms/step - loss: 0.6680 - macro_f1_score: 0.7598 - val_loss: 0.6648 - val_macro_f1_score: 0.7612\n",
            "Epoch 5/50\n",
            "250/250 [==============================] - 5s 22ms/step - loss: 0.6659 - macro_f1_score: 0.7602 - val_loss: 0.6648 - val_macro_f1_score: 0.7612\n",
            "Epoch 6/50\n",
            "250/250 [==============================] - 6s 24ms/step - loss: 0.6640 - macro_f1_score: 0.7609 - val_loss: 0.6636 - val_macro_f1_score: 0.7612\n",
            "Epoch 7/50\n",
            "250/250 [==============================] - 4s 17ms/step - loss: 0.6654 - macro_f1_score: 0.7618 - val_loss: 0.6642 - val_macro_f1_score: 0.7612\n",
            "Epoch 8/50\n",
            "250/250 [==============================] - 5s 18ms/step - loss: 0.6641 - macro_f1_score: 0.7611 - val_loss: 0.6636 - val_macro_f1_score: 0.7612\n",
            "Epoch 9/50\n",
            "250/250 [==============================] - 6s 24ms/step - loss: 0.6625 - macro_f1_score: 0.7610 - val_loss: 0.6602 - val_macro_f1_score: 0.7612\n",
            "Epoch 10/50\n",
            "250/250 [==============================] - 5s 19ms/step - loss: 0.6611 - macro_f1_score: 0.7618 - val_loss: 0.6612 - val_macro_f1_score: 0.7612\n",
            "Epoch 11/50\n",
            "250/250 [==============================] - 4s 17ms/step - loss: 0.6602 - macro_f1_score: 0.7617 - val_loss: 0.6582 - val_macro_f1_score: 0.7612\n",
            "Epoch 12/50\n",
            "250/250 [==============================] - 6s 22ms/step - loss: 0.6599 - macro_f1_score: 0.7619 - val_loss: 0.6575 - val_macro_f1_score: 0.7612\n",
            "Epoch 13/50\n",
            "250/250 [==============================] - 6s 24ms/step - loss: 0.6572 - macro_f1_score: 0.7616 - val_loss: 0.6572 - val_macro_f1_score: 0.7612\n",
            "Epoch 14/50\n",
            "250/250 [==============================] - 4s 18ms/step - loss: 0.6578 - macro_f1_score: 0.7614 - val_loss: 0.6541 - val_macro_f1_score: 0.7612\n",
            "Epoch 15/50\n",
            "250/250 [==============================] - 4s 18ms/step - loss: 0.6593 - macro_f1_score: 0.7613 - val_loss: 0.6556 - val_macro_f1_score: 0.7612\n",
            "Epoch 16/50\n",
            "250/250 [==============================] - 6s 25ms/step - loss: 0.6590 - macro_f1_score: 0.7608 - val_loss: 0.6609 - val_macro_f1_score: 0.7612\n",
            "Epoch 17/50\n",
            "250/250 [==============================] - 5s 21ms/step - loss: 0.6546 - macro_f1_score: 0.7616 - val_loss: 0.6481 - val_macro_f1_score: 0.7612\n",
            "Epoch 18/50\n",
            "250/250 [==============================] - 4s 18ms/step - loss: 0.6564 - macro_f1_score: 0.7617 - val_loss: 0.6542 - val_macro_f1_score: 0.7612\n",
            "Epoch 19/50\n",
            "250/250 [==============================] - 6s 23ms/step - loss: 0.6559 - macro_f1_score: 0.7614 - val_loss: 0.6550 - val_macro_f1_score: 0.7612\n",
            "Epoch 20/50\n",
            "250/250 [==============================] - 6s 23ms/step - loss: 0.6565 - macro_f1_score: 0.7617 - val_loss: 0.6507 - val_macro_f1_score: 0.7612\n",
            "Epoch 21/50\n",
            "250/250 [==============================] - 4s 16ms/step - loss: 0.6556 - macro_f1_score: 0.7615 - val_loss: 0.6492 - val_macro_f1_score: 0.7612\n",
            "Epoch 22/50\n",
            "250/250 [==============================] - 5s 21ms/step - loss: 0.6581 - macro_f1_score: 0.7615 - val_loss: 0.6521 - val_macro_f1_score: 0.7612\n"
          ]
        },
        {
          "output_type": "execute_result",
          "data": {
            "text/plain": [
              "<keras.src.callbacks.History at 0x7d1af42949d0>"
            ]
          },
          "metadata": {},
          "execution_count": 44
        }
      ]
    },
    {
      "cell_type": "markdown",
      "source": [
        "# keras tuner"
      ],
      "metadata": {
        "id": "nr-9iX-evx4_"
      }
    },
    {
      "cell_type": "code",
      "source": [
        "! pip install keras-tuner"
      ],
      "metadata": {
        "colab": {
          "base_uri": "https://localhost:8080/"
        },
        "id": "QhG6SGB0v0yW",
        "outputId": "87c642b0-3754-4838-ae0a-accf865ae320"
      },
      "execution_count": null,
      "outputs": [
        {
          "output_type": "stream",
          "name": "stdout",
          "text": [
            "Collecting keras-tuner\n",
            "  Downloading keras_tuner-1.4.6-py3-none-any.whl (128 kB)\n",
            "\u001b[2K     \u001b[90m━━━━━━━━━━━━━━━━━━━━━━━━━━━━━━━━━━━━━━━━\u001b[0m \u001b[32m128.9/128.9 kB\u001b[0m \u001b[31m2.2 MB/s\u001b[0m eta \u001b[36m0:00:00\u001b[0m\n",
            "\u001b[?25hRequirement already satisfied: keras in /usr/local/lib/python3.10/dist-packages (from keras-tuner) (2.14.0)\n",
            "Requirement already satisfied: packaging in /usr/local/lib/python3.10/dist-packages (from keras-tuner) (23.2)\n",
            "Requirement already satisfied: requests in /usr/local/lib/python3.10/dist-packages (from keras-tuner) (2.31.0)\n",
            "Collecting kt-legacy (from keras-tuner)\n",
            "  Downloading kt_legacy-1.0.5-py3-none-any.whl (9.6 kB)\n",
            "Requirement already satisfied: charset-normalizer<4,>=2 in /usr/local/lib/python3.10/dist-packages (from requests->keras-tuner) (3.3.2)\n",
            "Requirement already satisfied: idna<4,>=2.5 in /usr/local/lib/python3.10/dist-packages (from requests->keras-tuner) (3.6)\n",
            "Requirement already satisfied: urllib3<3,>=1.21.1 in /usr/local/lib/python3.10/dist-packages (from requests->keras-tuner) (2.0.7)\n",
            "Requirement already satisfied: certifi>=2017.4.17 in /usr/local/lib/python3.10/dist-packages (from requests->keras-tuner) (2023.11.17)\n",
            "Installing collected packages: kt-legacy, keras-tuner\n",
            "Successfully installed keras-tuner-1.4.6 kt-legacy-1.0.5\n"
          ]
        }
      ]
    },
    {
      "cell_type": "code",
      "source": [
        "\n",
        "\n",
        "def build_model(hp):\n",
        "    model = Sequential()\n",
        "    model.add(Dense(hp.Int('units_1', min_value=32, max_value=256, step=32), activation='relu', input_shape=(X_train.shape[1],)))\n",
        "    model.add(Dropout(hp.Float('dropout_1', min_value=0.0, max_value=0.5, default=0.25, step=0.05)))\n",
        "    model.add(Dense(hp.Int('units_2', min_value=32, max_value=128, step=32), activation='relu'))\n",
        "    model.add(Dropout(hp.Float('dropout_2', min_value=0.0, max_value=0.5, default=0.25, step=0.05)))\n",
        "    model.add(Dense(1, activation='sigmoid'))\n",
        "\n",
        "    model.compile(optimizer=Adam(learning_rate=0.0001), loss='binary_crossentropy', metrics=['accuracy', macro_f1_score])\n",
        "\n",
        "    return model\n",
        "\n",
        "tuner = kt.Hyperband(build_model,\n",
        "                     objective='val_accuracy',\n",
        "                     max_epochs=10,\n",
        "                     factor=3,\n",
        "                     directory='my_dir',\n",
        "                     project_name='intro_to_kt')\n",
        "\n",
        "early_stopping = EarlyStopping(monitor='val_loss', patience=5)\n",
        "tuner.search(X_train, y_train, epochs=50, validation_data=(X_val, y_val), callbacks=[early_stopping])\n",
        "\n",
        "\n",
        "best_hps = tuner.get_best_hyperparameters(num_trials=1)[0]\n",
        "\n",
        "model = tuner.hypermodel.build(best_hps)\n",
        "model.fit(X_train, y_train, epochs=50, validation_data=(X_val, y_val))\n"
      ],
      "metadata": {
        "colab": {
          "base_uri": "https://localhost:8080/"
        },
        "id": "LdGc_FSut0CQ",
        "outputId": "03f26096-29d4-4682-d40d-ed1a81614f98"
      },
      "execution_count": null,
      "outputs": [
        {
          "output_type": "stream",
          "name": "stdout",
          "text": [
            "Trial 30 Complete [00h 00m 12s]\n",
            "val_accuracy: 0.6200000047683716\n",
            "\n",
            "Best val_accuracy So Far: 0.6265000104904175\n",
            "Total elapsed time: 00h 04m 00s\n",
            "Epoch 1/50\n",
            "250/250 [==============================] - 2s 4ms/step - loss: 0.6922 - accuracy: 0.5642 - macro_f1_score: 0.6805 - val_loss: 0.6640 - val_accuracy: 0.6145 - val_macro_f1_score: 0.7541\n",
            "Epoch 2/50\n",
            "250/250 [==============================] - 1s 5ms/step - loss: 0.6720 - accuracy: 0.5987 - macro_f1_score: 0.7284 - val_loss: 0.6593 - val_accuracy: 0.6170 - val_macro_f1_score: 0.7576\n",
            "Epoch 3/50\n",
            "250/250 [==============================] - 1s 5ms/step - loss: 0.6684 - accuracy: 0.6025 - macro_f1_score: 0.7363 - val_loss: 0.6569 - val_accuracy: 0.6185 - val_macro_f1_score: 0.7588\n",
            "Epoch 4/50\n",
            "250/250 [==============================] - 1s 4ms/step - loss: 0.6667 - accuracy: 0.6102 - macro_f1_score: 0.7407 - val_loss: 0.6557 - val_accuracy: 0.6190 - val_macro_f1_score: 0.7591\n",
            "Epoch 5/50\n",
            "250/250 [==============================] - 1s 4ms/step - loss: 0.6644 - accuracy: 0.6091 - macro_f1_score: 0.7436 - val_loss: 0.6547 - val_accuracy: 0.6195 - val_macro_f1_score: 0.7596\n",
            "Epoch 6/50\n",
            "250/250 [==============================] - 1s 4ms/step - loss: 0.6605 - accuracy: 0.6077 - macro_f1_score: 0.7437 - val_loss: 0.6539 - val_accuracy: 0.6195 - val_macro_f1_score: 0.7596\n",
            "Epoch 7/50\n",
            "250/250 [==============================] - 1s 4ms/step - loss: 0.6599 - accuracy: 0.6076 - macro_f1_score: 0.7442 - val_loss: 0.6537 - val_accuracy: 0.6195 - val_macro_f1_score: 0.7596\n",
            "Epoch 8/50\n",
            "250/250 [==============================] - 1s 4ms/step - loss: 0.6577 - accuracy: 0.6151 - macro_f1_score: 0.7501 - val_loss: 0.6532 - val_accuracy: 0.6205 - val_macro_f1_score: 0.7605\n",
            "Epoch 9/50\n",
            "250/250 [==============================] - 1s 3ms/step - loss: 0.6552 - accuracy: 0.6154 - macro_f1_score: 0.7512 - val_loss: 0.6528 - val_accuracy: 0.6180 - val_macro_f1_score: 0.7583\n",
            "Epoch 10/50\n",
            "250/250 [==============================] - 1s 3ms/step - loss: 0.6545 - accuracy: 0.6155 - macro_f1_score: 0.7507 - val_loss: 0.6527 - val_accuracy: 0.6170 - val_macro_f1_score: 0.7572\n",
            "Epoch 11/50\n",
            "250/250 [==============================] - 1s 3ms/step - loss: 0.6547 - accuracy: 0.6173 - macro_f1_score: 0.7511 - val_loss: 0.6523 - val_accuracy: 0.6175 - val_macro_f1_score: 0.7579\n",
            "Epoch 12/50\n",
            "250/250 [==============================] - 1s 3ms/step - loss: 0.6557 - accuracy: 0.6109 - macro_f1_score: 0.7489 - val_loss: 0.6524 - val_accuracy: 0.6180 - val_macro_f1_score: 0.7580\n",
            "Epoch 13/50\n",
            "250/250 [==============================] - 1s 3ms/step - loss: 0.6532 - accuracy: 0.6181 - macro_f1_score: 0.7540 - val_loss: 0.6527 - val_accuracy: 0.6170 - val_macro_f1_score: 0.7575\n",
            "Epoch 14/50\n",
            "250/250 [==============================] - 1s 3ms/step - loss: 0.6514 - accuracy: 0.6215 - macro_f1_score: 0.7563 - val_loss: 0.6525 - val_accuracy: 0.6170 - val_macro_f1_score: 0.7575\n",
            "Epoch 15/50\n",
            "250/250 [==============================] - 1s 3ms/step - loss: 0.6512 - accuracy: 0.6130 - macro_f1_score: 0.7517 - val_loss: 0.6526 - val_accuracy: 0.6165 - val_macro_f1_score: 0.7571\n",
            "Epoch 16/50\n",
            "250/250 [==============================] - 1s 3ms/step - loss: 0.6496 - accuracy: 0.6226 - macro_f1_score: 0.7574 - val_loss: 0.6521 - val_accuracy: 0.6175 - val_macro_f1_score: 0.7577\n",
            "Epoch 17/50\n",
            "250/250 [==============================] - 1s 3ms/step - loss: 0.6516 - accuracy: 0.6201 - macro_f1_score: 0.7551 - val_loss: 0.6523 - val_accuracy: 0.6165 - val_macro_f1_score: 0.7569\n",
            "Epoch 18/50\n",
            "250/250 [==============================] - 1s 3ms/step - loss: 0.6496 - accuracy: 0.6190 - macro_f1_score: 0.7545 - val_loss: 0.6522 - val_accuracy: 0.6165 - val_macro_f1_score: 0.7569\n",
            "Epoch 19/50\n",
            "250/250 [==============================] - 1s 3ms/step - loss: 0.6494 - accuracy: 0.6165 - macro_f1_score: 0.7538 - val_loss: 0.6523 - val_accuracy: 0.6160 - val_macro_f1_score: 0.7563\n",
            "Epoch 20/50\n",
            "250/250 [==============================] - 1s 3ms/step - loss: 0.6481 - accuracy: 0.6180 - macro_f1_score: 0.7545 - val_loss: 0.6524 - val_accuracy: 0.6140 - val_macro_f1_score: 0.7550\n",
            "Epoch 21/50\n",
            "250/250 [==============================] - 1s 3ms/step - loss: 0.6465 - accuracy: 0.6208 - macro_f1_score: 0.7563 - val_loss: 0.6523 - val_accuracy: 0.6145 - val_macro_f1_score: 0.7553\n",
            "Epoch 22/50\n",
            "250/250 [==============================] - 1s 4ms/step - loss: 0.6465 - accuracy: 0.6212 - macro_f1_score: 0.7565 - val_loss: 0.6525 - val_accuracy: 0.6160 - val_macro_f1_score: 0.7560\n",
            "Epoch 23/50\n",
            "250/250 [==============================] - 1s 5ms/step - loss: 0.6472 - accuracy: 0.6211 - macro_f1_score: 0.7569 - val_loss: 0.6527 - val_accuracy: 0.6145 - val_macro_f1_score: 0.7553\n",
            "Epoch 24/50\n",
            "250/250 [==============================] - 1s 5ms/step - loss: 0.6458 - accuracy: 0.6227 - macro_f1_score: 0.7579 - val_loss: 0.6528 - val_accuracy: 0.6155 - val_macro_f1_score: 0.7558\n",
            "Epoch 25/50\n",
            "250/250 [==============================] - 1s 5ms/step - loss: 0.6450 - accuracy: 0.6175 - macro_f1_score: 0.7544 - val_loss: 0.6528 - val_accuracy: 0.6145 - val_macro_f1_score: 0.7549\n",
            "Epoch 26/50\n",
            "250/250 [==============================] - 1s 5ms/step - loss: 0.6447 - accuracy: 0.6261 - macro_f1_score: 0.7583 - val_loss: 0.6527 - val_accuracy: 0.6170 - val_macro_f1_score: 0.7568\n",
            "Epoch 27/50\n",
            "250/250 [==============================] - 1s 6ms/step - loss: 0.6445 - accuracy: 0.6246 - macro_f1_score: 0.7579 - val_loss: 0.6531 - val_accuracy: 0.6125 - val_macro_f1_score: 0.7533\n",
            "Epoch 28/50\n",
            "250/250 [==============================] - 1s 3ms/step - loss: 0.6465 - accuracy: 0.6227 - macro_f1_score: 0.7568 - val_loss: 0.6531 - val_accuracy: 0.6140 - val_macro_f1_score: 0.7544\n",
            "Epoch 29/50\n",
            "250/250 [==============================] - 1s 3ms/step - loss: 0.6422 - accuracy: 0.6198 - macro_f1_score: 0.7551 - val_loss: 0.6531 - val_accuracy: 0.6140 - val_macro_f1_score: 0.7546\n",
            "Epoch 30/50\n",
            "250/250 [==============================] - 1s 3ms/step - loss: 0.6444 - accuracy: 0.6224 - macro_f1_score: 0.7570 - val_loss: 0.6531 - val_accuracy: 0.6115 - val_macro_f1_score: 0.7527\n",
            "Epoch 31/50\n",
            "250/250 [==============================] - 1s 3ms/step - loss: 0.6422 - accuracy: 0.6241 - macro_f1_score: 0.7570 - val_loss: 0.6531 - val_accuracy: 0.6110 - val_macro_f1_score: 0.7527\n",
            "Epoch 32/50\n",
            "250/250 [==============================] - 1s 3ms/step - loss: 0.6430 - accuracy: 0.6254 - macro_f1_score: 0.7575 - val_loss: 0.6532 - val_accuracy: 0.6115 - val_macro_f1_score: 0.7528\n",
            "Epoch 33/50\n",
            "250/250 [==============================] - 1s 3ms/step - loss: 0.6426 - accuracy: 0.6240 - macro_f1_score: 0.7570 - val_loss: 0.6533 - val_accuracy: 0.6125 - val_macro_f1_score: 0.7538\n",
            "Epoch 34/50\n",
            "250/250 [==============================] - 1s 3ms/step - loss: 0.6417 - accuracy: 0.6241 - macro_f1_score: 0.7580 - val_loss: 0.6537 - val_accuracy: 0.6110 - val_macro_f1_score: 0.7521\n",
            "Epoch 35/50\n",
            "250/250 [==============================] - 1s 3ms/step - loss: 0.6411 - accuracy: 0.6249 - macro_f1_score: 0.7585 - val_loss: 0.6541 - val_accuracy: 0.6120 - val_macro_f1_score: 0.7521\n",
            "Epoch 36/50\n",
            "250/250 [==============================] - 1s 3ms/step - loss: 0.6405 - accuracy: 0.6260 - macro_f1_score: 0.7579 - val_loss: 0.6536 - val_accuracy: 0.6130 - val_macro_f1_score: 0.7536\n",
            "Epoch 37/50\n",
            "250/250 [==============================] - 1s 3ms/step - loss: 0.6406 - accuracy: 0.6226 - macro_f1_score: 0.7550 - val_loss: 0.6537 - val_accuracy: 0.6130 - val_macro_f1_score: 0.7534\n",
            "Epoch 38/50\n",
            "250/250 [==============================] - 1s 3ms/step - loss: 0.6422 - accuracy: 0.6220 - macro_f1_score: 0.7553 - val_loss: 0.6539 - val_accuracy: 0.6130 - val_macro_f1_score: 0.7530\n",
            "Epoch 39/50\n",
            "250/250 [==============================] - 1s 3ms/step - loss: 0.6408 - accuracy: 0.6195 - macro_f1_score: 0.7547 - val_loss: 0.6538 - val_accuracy: 0.6120 - val_macro_f1_score: 0.7521\n",
            "Epoch 40/50\n",
            "250/250 [==============================] - 1s 3ms/step - loss: 0.6399 - accuracy: 0.6270 - macro_f1_score: 0.7581 - val_loss: 0.6542 - val_accuracy: 0.6115 - val_macro_f1_score: 0.7508\n",
            "Epoch 41/50\n",
            "250/250 [==============================] - 1s 4ms/step - loss: 0.6395 - accuracy: 0.6241 - macro_f1_score: 0.7569 - val_loss: 0.6539 - val_accuracy: 0.6135 - val_macro_f1_score: 0.7531\n",
            "Epoch 42/50\n",
            "250/250 [==============================] - 1s 4ms/step - loss: 0.6395 - accuracy: 0.6233 - macro_f1_score: 0.7560 - val_loss: 0.6540 - val_accuracy: 0.6105 - val_macro_f1_score: 0.7507\n",
            "Epoch 43/50\n",
            "250/250 [==============================] - 1s 4ms/step - loss: 0.6367 - accuracy: 0.6294 - macro_f1_score: 0.7589 - val_loss: 0.6542 - val_accuracy: 0.6095 - val_macro_f1_score: 0.7500\n",
            "Epoch 44/50\n",
            "250/250 [==============================] - 1s 5ms/step - loss: 0.6384 - accuracy: 0.6289 - macro_f1_score: 0.7586 - val_loss: 0.6547 - val_accuracy: 0.6085 - val_macro_f1_score: 0.7472\n",
            "Epoch 45/50\n",
            "250/250 [==============================] - 1s 4ms/step - loss: 0.6371 - accuracy: 0.6298 - macro_f1_score: 0.7588 - val_loss: 0.6546 - val_accuracy: 0.6125 - val_macro_f1_score: 0.7517\n",
            "Epoch 46/50\n",
            "250/250 [==============================] - 1s 4ms/step - loss: 0.6394 - accuracy: 0.6271 - macro_f1_score: 0.7582 - val_loss: 0.6544 - val_accuracy: 0.6130 - val_macro_f1_score: 0.7520\n",
            "Epoch 47/50\n",
            "250/250 [==============================] - 1s 4ms/step - loss: 0.6398 - accuracy: 0.6265 - macro_f1_score: 0.7578 - val_loss: 0.6546 - val_accuracy: 0.6100 - val_macro_f1_score: 0.7487\n",
            "Epoch 48/50\n",
            "250/250 [==============================] - 1s 3ms/step - loss: 0.6369 - accuracy: 0.6286 - macro_f1_score: 0.7571 - val_loss: 0.6551 - val_accuracy: 0.6115 - val_macro_f1_score: 0.7496\n",
            "Epoch 49/50\n",
            "250/250 [==============================] - 1s 3ms/step - loss: 0.6369 - accuracy: 0.6249 - macro_f1_score: 0.7548 - val_loss: 0.6551 - val_accuracy: 0.6130 - val_macro_f1_score: 0.7518\n",
            "Epoch 50/50\n",
            "250/250 [==============================] - 1s 3ms/step - loss: 0.6374 - accuracy: 0.6301 - macro_f1_score: 0.7588 - val_loss: 0.6549 - val_accuracy: 0.6120 - val_macro_f1_score: 0.7513\n"
          ]
        },
        {
          "output_type": "execute_result",
          "data": {
            "text/plain": [
              "<keras.src.callbacks.History at 0x7d1af1415570>"
            ]
          },
          "metadata": {},
          "execution_count": 46
        }
      ]
    },
    {
      "cell_type": "code",
      "source": [
        "\n",
        "\n",
        "def f1_score(y_true, y_pred):\n",
        "    true_positives = K.sum(K.round(K.clip(y_true * y_pred, 0, 1)))\n",
        "    possible_positives = K.sum(K.round(K.clip(y_true, 0, 1)))\n",
        "    predicted_positives = K.sum(K.round(K.clip(y_pred, 0, 1)))\n",
        "\n",
        "    precision = true_positives / (predicted_positives + K.epsilon())\n",
        "    recall = true_positives / (possible_positives + K.epsilon())\n",
        "    f1_val = 2 * (precision * recall) / (precision + recall + K.epsilon())\n",
        "    return f1_val\n",
        "\n",
        "\n",
        "model = Sequential()\n",
        "model.add(Dense(128, input_shape=(X_train.shape[1],), activation='relu'))\n",
        "model.add(Dropout(0.5))\n",
        "model.add(Dense(64, activation='relu'))\n",
        "model.add(Dropout(0.5))\n",
        "model.add(Dense(1, activation='sigmoid'))\n",
        "model.compile(optimizer=Adam(learning_rate=0.0001), loss='binary_crossentropy', metrics=['accuracy', f1_score])\n",
        "\n",
        "history = model.fit(X_train, y_train, epochs=50, batch_size=32, validation_data=(X_val, y_val))\n",
        "\n",
        "plt.figure(figsize=(12, 6))\n",
        "plt.subplot(1, 3, 1)\n",
        "plt.plot(history.history['loss'], label='Training Loss')\n",
        "plt.plot(history.history['val_loss'], label='Validation Loss')\n",
        "plt.title('Training and Validation Loss')\n",
        "plt.xlabel('Epoch')\n",
        "plt.ylabel('Loss')\n",
        "plt.legend()\n",
        "\n",
        "plt.subplot(1, 3, 2)\n",
        "plt.plot(history.history['accuracy'], label='Training Accuracy')\n",
        "plt.plot(history.history['val_accuracy'], label='Validation Accuracy')\n",
        "plt.title('Training and Validation Accuracy')\n",
        "plt.xlabel('Epoch')\n",
        "plt.ylabel('Accuracy')\n",
        "plt.legend()\n",
        "\n",
        "plt.subplot(1, 3, 3)\n",
        "plt.plot(history.history['f1_score'], label='Training F1 Score')\n",
        "plt.plot(history.history['val_f1_score'], label='Validation F1 Score')\n",
        "plt.title('Training and Validation F1 Score')\n",
        "plt.xlabel('Epoch')\n",
        "plt.ylabel('F1 Score')\n",
        "plt.legend()\n",
        "\n",
        "plt.show()\n",
        "\n"
      ],
      "metadata": {
        "colab": {
          "base_uri": "https://localhost:8080/",
          "height": 1000
        },
        "id": "BbJilgr4v-Ju",
        "outputId": "d8aeeb2e-8e64-4983-920a-c199e69e6e71"
      },
      "execution_count": null,
      "outputs": [
        {
          "output_type": "stream",
          "name": "stdout",
          "text": [
            "Epoch 1/50\n",
            "250/250 [==============================] - 5s 8ms/step - loss: 5.9356 - accuracy: 0.5194 - f1_score: 0.6091 - val_loss: 0.9246 - val_accuracy: 0.6210 - val_f1_score: 0.7612\n",
            "Epoch 2/50\n",
            "250/250 [==============================] - 2s 7ms/step - loss: 3.9504 - accuracy: 0.5259 - f1_score: 0.6059 - val_loss: 0.6830 - val_accuracy: 0.5870 - val_f1_score: 0.7236\n",
            "Epoch 3/50\n",
            "250/250 [==============================] - 2s 7ms/step - loss: 2.7565 - accuracy: 0.5228 - f1_score: 0.6039 - val_loss: 0.6728 - val_accuracy: 0.6115 - val_f1_score: 0.7536\n",
            "Epoch 4/50\n",
            "250/250 [==============================] - 2s 7ms/step - loss: 2.0347 - accuracy: 0.5296 - f1_score: 0.6104 - val_loss: 0.6742 - val_accuracy: 0.6215 - val_f1_score: 0.7612\n",
            "Epoch 5/50\n",
            "250/250 [==============================] - 2s 7ms/step - loss: 1.5863 - accuracy: 0.5288 - f1_score: 0.6163 - val_loss: 0.6751 - val_accuracy: 0.6215 - val_f1_score: 0.7614\n",
            "Epoch 6/50\n",
            "250/250 [==============================] - 2s 9ms/step - loss: 1.3174 - accuracy: 0.5209 - f1_score: 0.6148 - val_loss: 0.6763 - val_accuracy: 0.6210 - val_f1_score: 0.7612\n",
            "Epoch 7/50\n",
            "250/250 [==============================] - 2s 10ms/step - loss: 1.1125 - accuracy: 0.5440 - f1_score: 0.6398 - val_loss: 0.6806 - val_accuracy: 0.6210 - val_f1_score: 0.7612\n",
            "Epoch 8/50\n",
            "250/250 [==============================] - 2s 8ms/step - loss: 0.9920 - accuracy: 0.5490 - f1_score: 0.6495 - val_loss: 0.6804 - val_accuracy: 0.6210 - val_f1_score: 0.7612\n",
            "Epoch 9/50\n",
            "250/250 [==============================] - 2s 7ms/step - loss: 0.9243 - accuracy: 0.5446 - f1_score: 0.6534 - val_loss: 0.6796 - val_accuracy: 0.6210 - val_f1_score: 0.7612\n",
            "Epoch 10/50\n",
            "250/250 [==============================] - 2s 7ms/step - loss: 0.8443 - accuracy: 0.5550 - f1_score: 0.6700 - val_loss: 0.6796 - val_accuracy: 0.6210 - val_f1_score: 0.7612\n",
            "Epoch 11/50\n",
            "250/250 [==============================] - 2s 7ms/step - loss: 0.8025 - accuracy: 0.5746 - f1_score: 0.6910 - val_loss: 0.6784 - val_accuracy: 0.6210 - val_f1_score: 0.7612\n",
            "Epoch 12/50\n",
            "250/250 [==============================] - 1s 6ms/step - loss: 0.7820 - accuracy: 0.5750 - f1_score: 0.6973 - val_loss: 0.6774 - val_accuracy: 0.6210 - val_f1_score: 0.7612\n",
            "Epoch 13/50\n",
            "250/250 [==============================] - 1s 5ms/step - loss: 0.7625 - accuracy: 0.5821 - f1_score: 0.7083 - val_loss: 0.6775 - val_accuracy: 0.6210 - val_f1_score: 0.7612\n",
            "Epoch 14/50\n",
            "250/250 [==============================] - 1s 5ms/step - loss: 0.7543 - accuracy: 0.5780 - f1_score: 0.7095 - val_loss: 0.6779 - val_accuracy: 0.6210 - val_f1_score: 0.7612\n",
            "Epoch 15/50\n",
            "250/250 [==============================] - 1s 6ms/step - loss: 0.7295 - accuracy: 0.5889 - f1_score: 0.7202 - val_loss: 0.6762 - val_accuracy: 0.6210 - val_f1_score: 0.7612\n",
            "Epoch 16/50\n",
            "250/250 [==============================] - 2s 7ms/step - loss: 0.7219 - accuracy: 0.5879 - f1_score: 0.7215 - val_loss: 0.6752 - val_accuracy: 0.6210 - val_f1_score: 0.7612\n",
            "Epoch 17/50\n",
            "250/250 [==============================] - 2s 9ms/step - loss: 0.7161 - accuracy: 0.5936 - f1_score: 0.7280 - val_loss: 0.6762 - val_accuracy: 0.6210 - val_f1_score: 0.7612\n",
            "Epoch 18/50\n",
            "250/250 [==============================] - 2s 8ms/step - loss: 0.6997 - accuracy: 0.6020 - f1_score: 0.7356 - val_loss: 0.6745 - val_accuracy: 0.6210 - val_f1_score: 0.7612\n",
            "Epoch 19/50\n",
            "250/250 [==============================] - 2s 8ms/step - loss: 0.6934 - accuracy: 0.6034 - f1_score: 0.7390 - val_loss: 0.6734 - val_accuracy: 0.6210 - val_f1_score: 0.7612\n",
            "Epoch 20/50\n",
            "250/250 [==============================] - 2s 10ms/step - loss: 0.6970 - accuracy: 0.6021 - f1_score: 0.7387 - val_loss: 0.6736 - val_accuracy: 0.6210 - val_f1_score: 0.7612\n",
            "Epoch 21/50\n",
            "250/250 [==============================] - 1s 6ms/step - loss: 0.6883 - accuracy: 0.6049 - f1_score: 0.7424 - val_loss: 0.6725 - val_accuracy: 0.6210 - val_f1_score: 0.7612\n",
            "Epoch 22/50\n",
            "250/250 [==============================] - 1s 5ms/step - loss: 0.6853 - accuracy: 0.6074 - f1_score: 0.7448 - val_loss: 0.6724 - val_accuracy: 0.6210 - val_f1_score: 0.7612\n",
            "Epoch 23/50\n",
            "250/250 [==============================] - 1s 5ms/step - loss: 0.6819 - accuracy: 0.6061 - f1_score: 0.7451 - val_loss: 0.6730 - val_accuracy: 0.6210 - val_f1_score: 0.7612\n",
            "Epoch 24/50\n",
            "250/250 [==============================] - 1s 6ms/step - loss: 0.6847 - accuracy: 0.6081 - f1_score: 0.7479 - val_loss: 0.6725 - val_accuracy: 0.6210 - val_f1_score: 0.7612\n",
            "Epoch 25/50\n",
            "250/250 [==============================] - 2s 7ms/step - loss: 0.6806 - accuracy: 0.6108 - f1_score: 0.7509 - val_loss: 0.6714 - val_accuracy: 0.6210 - val_f1_score: 0.7612\n",
            "Epoch 26/50\n",
            "250/250 [==============================] - 1s 3ms/step - loss: 0.6821 - accuracy: 0.6133 - f1_score: 0.7526 - val_loss: 0.6710 - val_accuracy: 0.6210 - val_f1_score: 0.7612\n",
            "Epoch 27/50\n",
            "250/250 [==============================] - 1s 3ms/step - loss: 0.6791 - accuracy: 0.6121 - f1_score: 0.7520 - val_loss: 0.6706 - val_accuracy: 0.6210 - val_f1_score: 0.7612\n",
            "Epoch 28/50\n",
            "250/250 [==============================] - 1s 3ms/step - loss: 0.6743 - accuracy: 0.6141 - f1_score: 0.7538 - val_loss: 0.6702 - val_accuracy: 0.6210 - val_f1_score: 0.7612\n",
            "Epoch 29/50\n",
            "250/250 [==============================] - 1s 3ms/step - loss: 0.6796 - accuracy: 0.6114 - f1_score: 0.7532 - val_loss: 0.6701 - val_accuracy: 0.6210 - val_f1_score: 0.7612\n",
            "Epoch 30/50\n",
            "250/250 [==============================] - 1s 4ms/step - loss: 0.6756 - accuracy: 0.6150 - f1_score: 0.7549 - val_loss: 0.6694 - val_accuracy: 0.6210 - val_f1_score: 0.7612\n",
            "Epoch 31/50\n",
            "250/250 [==============================] - 1s 4ms/step - loss: 0.6737 - accuracy: 0.6141 - f1_score: 0.7553 - val_loss: 0.6698 - val_accuracy: 0.6210 - val_f1_score: 0.7612\n",
            "Epoch 32/50\n",
            "250/250 [==============================] - 1s 4ms/step - loss: 0.6748 - accuracy: 0.6162 - f1_score: 0.7575 - val_loss: 0.6695 - val_accuracy: 0.6210 - val_f1_score: 0.7612\n",
            "Epoch 33/50\n",
            "250/250 [==============================] - 1s 4ms/step - loss: 0.6724 - accuracy: 0.6156 - f1_score: 0.7575 - val_loss: 0.6686 - val_accuracy: 0.6210 - val_f1_score: 0.7612\n",
            "Epoch 34/50\n",
            "250/250 [==============================] - 1s 4ms/step - loss: 0.6722 - accuracy: 0.6155 - f1_score: 0.7564 - val_loss: 0.6686 - val_accuracy: 0.6210 - val_f1_score: 0.7612\n",
            "Epoch 35/50\n",
            "250/250 [==============================] - 1s 4ms/step - loss: 0.6716 - accuracy: 0.6165 - f1_score: 0.7575 - val_loss: 0.6683 - val_accuracy: 0.6210 - val_f1_score: 0.7612\n",
            "Epoch 36/50\n",
            "250/250 [==============================] - 1s 4ms/step - loss: 0.6701 - accuracy: 0.6191 - f1_score: 0.7596 - val_loss: 0.6679 - val_accuracy: 0.6210 - val_f1_score: 0.7612\n",
            "Epoch 37/50\n",
            "250/250 [==============================] - 1s 3ms/step - loss: 0.6697 - accuracy: 0.6190 - f1_score: 0.7605 - val_loss: 0.6681 - val_accuracy: 0.6210 - val_f1_score: 0.7612\n",
            "Epoch 38/50\n",
            "250/250 [==============================] - 1s 3ms/step - loss: 0.6718 - accuracy: 0.6177 - f1_score: 0.7590 - val_loss: 0.6683 - val_accuracy: 0.6210 - val_f1_score: 0.7612\n",
            "Epoch 39/50\n",
            "250/250 [==============================] - 1s 3ms/step - loss: 0.6715 - accuracy: 0.6162 - f1_score: 0.7578 - val_loss: 0.6679 - val_accuracy: 0.6210 - val_f1_score: 0.7612\n",
            "Epoch 40/50\n",
            "250/250 [==============================] - 1s 3ms/step - loss: 0.6701 - accuracy: 0.6187 - f1_score: 0.7603 - val_loss: 0.6676 - val_accuracy: 0.6210 - val_f1_score: 0.7612\n",
            "Epoch 41/50\n",
            "250/250 [==============================] - 1s 3ms/step - loss: 0.6705 - accuracy: 0.6170 - f1_score: 0.7588 - val_loss: 0.6678 - val_accuracy: 0.6210 - val_f1_score: 0.7612\n",
            "Epoch 42/50\n",
            "250/250 [==============================] - 1s 3ms/step - loss: 0.6689 - accuracy: 0.6190 - f1_score: 0.7596 - val_loss: 0.6674 - val_accuracy: 0.6210 - val_f1_score: 0.7612\n",
            "Epoch 43/50\n",
            "250/250 [==============================] - 1s 3ms/step - loss: 0.6670 - accuracy: 0.6190 - f1_score: 0.7599 - val_loss: 0.6669 - val_accuracy: 0.6210 - val_f1_score: 0.7612\n",
            "Epoch 44/50\n",
            "250/250 [==============================] - 1s 3ms/step - loss: 0.6691 - accuracy: 0.6177 - f1_score: 0.7595 - val_loss: 0.6665 - val_accuracy: 0.6210 - val_f1_score: 0.7612\n",
            "Epoch 45/50\n",
            "250/250 [==============================] - 1s 3ms/step - loss: 0.6659 - accuracy: 0.6184 - f1_score: 0.7605 - val_loss: 0.6662 - val_accuracy: 0.6210 - val_f1_score: 0.7612\n",
            "Epoch 46/50\n",
            "250/250 [==============================] - 1s 3ms/step - loss: 0.6688 - accuracy: 0.6183 - f1_score: 0.7608 - val_loss: 0.6667 - val_accuracy: 0.6210 - val_f1_score: 0.7612\n",
            "Epoch 47/50\n",
            "250/250 [==============================] - 1s 3ms/step - loss: 0.6686 - accuracy: 0.6189 - f1_score: 0.7608 - val_loss: 0.6663 - val_accuracy: 0.6210 - val_f1_score: 0.7612\n",
            "Epoch 48/50\n",
            "250/250 [==============================] - 1s 3ms/step - loss: 0.6680 - accuracy: 0.6173 - f1_score: 0.7595 - val_loss: 0.6663 - val_accuracy: 0.6210 - val_f1_score: 0.7612\n",
            "Epoch 49/50\n",
            "250/250 [==============================] - 1s 3ms/step - loss: 0.6669 - accuracy: 0.6177 - f1_score: 0.7600 - val_loss: 0.6666 - val_accuracy: 0.6210 - val_f1_score: 0.7612\n",
            "Epoch 50/50\n",
            "250/250 [==============================] - 1s 4ms/step - loss: 0.6667 - accuracy: 0.6187 - f1_score: 0.7601 - val_loss: 0.6660 - val_accuracy: 0.6210 - val_f1_score: 0.7612\n"
          ]
        },
        {
          "output_type": "display_data",
          "data": {
            "text/plain": [
              "<Figure size 1200x600 with 3 Axes>"
            ],
            "image/png": "[encoded data removed]"
          },
          "metadata": {}
        }
      ]
    },
    {
      "cell_type": "code",
      "source": [
        "from keras import backend as K\n",
        "from keras.regularizers import l2\n",
        "from keras import regularizers\n",
        "\n",
        "def f1_score(y_true, y_pred):\n",
        "    true_positives = K.sum(K.round(K.clip(y_true * y_pred, 0, 1)))\n",
        "    possible_positives = K.sum(K.round(K.clip(y_true, 0, 1)))\n",
        "    predicted_positives = K.sum(K.round(K.clip(y_pred, 0, 1)))\n",
        "\n",
        "    precision = true_positives / (predicted_positives + K.epsilon())\n",
        "    recall = true_positives / (possible_positives + K.epsilon())\n",
        "    f1_val = 2 * (precision * recall) / (precision + recall + K.epsilon())\n",
        "    return f1_val\n",
        "\n",
        "\n",
        "model = Sequential()\n",
        "model.add(Dense(128, input_shape=(X_train.shape[1],), activation='relu', kernel_regularizer=regularizers.l2(0.001)))\n",
        "model.add(Dropout(0.5))\n",
        "model.add(Dense(64, activation='relu', kernel_regularizer=regularizers.l2(0.001)))\n",
        "model.add(Dropout(0.5))\n",
        "model.add(Dense(1, activation='sigmoid'))\n",
        "model.compile(optimizer=Adam(learning_rate=0.0001), loss='binary_crossentropy', metrics=['accuracy', f1_score])\n",
        "\n",
        "history = model.fit(X_train, y_train, epochs=50, batch_size=32, validation_data=(X_val, y_val))\n",
        "\n",
        "test_predictions = model.predict(test_X)\n",
        "test_predictions_binary = np.round(test_predictions).astype(int)\n",
        "test_predictions_binary\n",
        "\n",
        "# 손실 그래프\n",
        "plt.figure(figsize=(12, 6))\n",
        "plt.subplot(1, 3, 1)\n",
        "plt.plot(history.history['loss'], label='Training Loss')\n",
        "plt.plot(history.history['val_loss'], label='Validation Loss')\n",
        "plt.title('Training and Validation Loss')\n",
        "plt.xlabel('Epoch')\n",
        "plt.ylabel('Loss')\n",
        "plt.legend()\n",
        "\n",
        "# 정확도 그래프\n",
        "plt.subplot(1, 3, 2)\n",
        "plt.plot(history.history['accuracy'], label='Training Accuracy')\n",
        "plt.plot(history.history['val_accuracy'], label='Validation Accuracy')\n",
        "plt.title('Training and Validation Accuracy')\n",
        "plt.xlabel('Epoch')\n",
        "plt.ylabel('Accuracy')\n",
        "plt.legend()\n",
        "\n",
        "# F1 Score 그래프\n",
        "plt.subplot(1, 3, 3)\n",
        "plt.plot(history.history['f1_score'], label='Training F1 Score')\n",
        "plt.plot(history.history['val_f1_score'], label='Validation F1 Score')\n",
        "plt.title('Training and Validation F1 Score')\n",
        "plt.xlabel('Epoch')\n",
        "plt.ylabel('F1 Score')\n",
        "plt.legend()\n",
        "\n",
        "plt.show()\n",
        "\n"
      ],
      "metadata": {
        "colab": {
          "base_uri": "https://localhost:8080/",
          "height": 1000
        },
        "outputId": "fd12ce49-0198-47b2-c121-47e12ad06400",
        "id": "2aHJM2dJ8eHQ"
      },
      "execution_count": null,
      "outputs": [
        {
          "output_type": "stream",
          "name": "stdout",
          "text": [
            "Epoch 1/50\n",
            "250/250 [==============================] - 2s 3ms/step - loss: 4.0299 - accuracy: 0.5355 - f1_score: 0.6183 - val_loss: 1.6439 - val_accuracy: 0.6120 - val_f1_score: 0.7487\n",
            "Epoch 2/50\n",
            "250/250 [==============================] - 0s 2ms/step - loss: 2.7615 - accuracy: 0.5281 - f1_score: 0.6121 - val_loss: 1.4624 - val_accuracy: 0.6210 - val_f1_score: 0.7612\n",
            "Epoch 3/50\n",
            "250/250 [==============================] - 0s 2ms/step - loss: 2.0640 - accuracy: 0.5359 - f1_score: 0.6231 - val_loss: 1.3531 - val_accuracy: 0.6210 - val_f1_score: 0.7612\n",
            "Epoch 4/50\n",
            "250/250 [==============================] - 1s 2ms/step - loss: 1.7121 - accuracy: 0.5234 - f1_score: 0.6157 - val_loss: 1.2795 - val_accuracy: 0.6210 - val_f1_score: 0.7612\n",
            "Epoch 5/50\n",
            "250/250 [==============================] - 0s 2ms/step - loss: 1.4801 - accuracy: 0.5445 - f1_score: 0.6431 - val_loss: 1.2235 - val_accuracy: 0.6210 - val_f1_score: 0.7612\n",
            "Epoch 6/50\n",
            "250/250 [==============================] - 0s 2ms/step - loss: 1.3574 - accuracy: 0.5515 - f1_score: 0.6505 - val_loss: 1.1844 - val_accuracy: 0.6210 - val_f1_score: 0.7612\n",
            "Epoch 7/50\n",
            "250/250 [==============================] - 0s 2ms/step - loss: 1.2653 - accuracy: 0.5546 - f1_score: 0.6615 - val_loss: 1.1512 - val_accuracy: 0.6210 - val_f1_score: 0.7612\n",
            "Epoch 8/50\n",
            "250/250 [==============================] - 1s 2ms/step - loss: 1.2175 - accuracy: 0.5623 - f1_score: 0.6811 - val_loss: 1.1265 - val_accuracy: 0.6210 - val_f1_score: 0.7612\n",
            "Epoch 9/50\n",
            "250/250 [==============================] - 0s 2ms/step - loss: 1.1736 - accuracy: 0.5652 - f1_score: 0.6891 - val_loss: 1.1042 - val_accuracy: 0.6210 - val_f1_score: 0.7612\n",
            "Epoch 10/50\n",
            "250/250 [==============================] - 0s 2ms/step - loss: 1.1270 - accuracy: 0.5864 - f1_score: 0.7153 - val_loss: 1.0854 - val_accuracy: 0.6210 - val_f1_score: 0.7612\n",
            "Epoch 11/50\n",
            "250/250 [==============================] - 1s 2ms/step - loss: 1.1026 - accuracy: 0.5861 - f1_score: 0.7210 - val_loss: 1.0664 - val_accuracy: 0.6210 - val_f1_score: 0.7612\n",
            "Epoch 12/50\n",
            "250/250 [==============================] - 1s 3ms/step - loss: 1.0755 - accuracy: 0.6022 - f1_score: 0.7370 - val_loss: 1.0478 - val_accuracy: 0.6210 - val_f1_score: 0.7612\n",
            "Epoch 13/50\n",
            "250/250 [==============================] - 1s 3ms/step - loss: 1.0577 - accuracy: 0.6012 - f1_score: 0.7379 - val_loss: 1.0286 - val_accuracy: 0.6210 - val_f1_score: 0.7612\n",
            "Epoch 14/50\n",
            "250/250 [==============================] - 1s 3ms/step - loss: 1.0376 - accuracy: 0.6059 - f1_score: 0.7436 - val_loss: 1.0118 - val_accuracy: 0.6210 - val_f1_score: 0.7612\n",
            "Epoch 15/50\n",
            "250/250 [==============================] - 1s 3ms/step - loss: 1.0150 - accuracy: 0.6111 - f1_score: 0.7488 - val_loss: 0.9963 - val_accuracy: 0.6210 - val_f1_score: 0.7612\n",
            "Epoch 16/50\n",
            "250/250 [==============================] - 1s 3ms/step - loss: 0.9985 - accuracy: 0.6083 - f1_score: 0.7485 - val_loss: 0.9785 - val_accuracy: 0.6210 - val_f1_score: 0.7612\n",
            "Epoch 17/50\n",
            "250/250 [==============================] - 1s 3ms/step - loss: 0.9791 - accuracy: 0.6135 - f1_score: 0.7533 - val_loss: 0.9631 - val_accuracy: 0.6210 - val_f1_score: 0.7612\n",
            "Epoch 18/50\n",
            "250/250 [==============================] - 0s 2ms/step - loss: 0.9619 - accuracy: 0.6109 - f1_score: 0.7518 - val_loss: 0.9463 - val_accuracy: 0.6210 - val_f1_score: 0.7612\n",
            "Epoch 19/50\n",
            "250/250 [==============================] - 0s 2ms/step - loss: 0.9459 - accuracy: 0.6137 - f1_score: 0.7538 - val_loss: 0.9296 - val_accuracy: 0.6210 - val_f1_score: 0.7612\n",
            "Epoch 20/50\n",
            "250/250 [==============================] - 0s 2ms/step - loss: 0.9276 - accuracy: 0.6156 - f1_score: 0.7559 - val_loss: 0.9129 - val_accuracy: 0.6210 - val_f1_score: 0.7612\n",
            "Epoch 21/50\n",
            "250/250 [==============================] - 1s 2ms/step - loss: 0.9109 - accuracy: 0.6144 - f1_score: 0.7559 - val_loss: 0.8977 - val_accuracy: 0.6210 - val_f1_score: 0.7612\n",
            "Epoch 22/50\n",
            "250/250 [==============================] - 1s 2ms/step - loss: 0.8955 - accuracy: 0.6151 - f1_score: 0.7564 - val_loss: 0.8811 - val_accuracy: 0.6210 - val_f1_score: 0.7612\n",
            "Epoch 23/50\n",
            "250/250 [==============================] - 1s 2ms/step - loss: 0.8795 - accuracy: 0.6160 - f1_score: 0.7575 - val_loss: 0.8667 - val_accuracy: 0.6210 - val_f1_score: 0.7612\n",
            "Epoch 24/50\n",
            "250/250 [==============================] - 1s 2ms/step - loss: 0.8637 - accuracy: 0.6184 - f1_score: 0.7589 - val_loss: 0.8518 - val_accuracy: 0.6210 - val_f1_score: 0.7612\n",
            "Epoch 25/50\n",
            "250/250 [==============================] - 1s 3ms/step - loss: 0.8493 - accuracy: 0.6186 - f1_score: 0.7595 - val_loss: 0.8372 - val_accuracy: 0.6210 - val_f1_score: 0.7612\n",
            "Epoch 26/50\n",
            "250/250 [==============================] - 1s 2ms/step - loss: 0.8373 - accuracy: 0.6166 - f1_score: 0.7582 - val_loss: 0.8233 - val_accuracy: 0.6210 - val_f1_score: 0.7612\n",
            "Epoch 27/50\n",
            "250/250 [==============================] - 1s 3ms/step - loss: 0.8209 - accuracy: 0.6173 - f1_score: 0.7591 - val_loss: 0.8102 - val_accuracy: 0.6210 - val_f1_score: 0.7612\n",
            "Epoch 28/50\n",
            "250/250 [==============================] - 0s 2ms/step - loss: 0.8068 - accuracy: 0.6177 - f1_score: 0.7595 - val_loss: 0.7979 - val_accuracy: 0.6210 - val_f1_score: 0.7612\n",
            "Epoch 29/50\n",
            "250/250 [==============================] - 0s 2ms/step - loss: 0.7968 - accuracy: 0.6169 - f1_score: 0.7579 - val_loss: 0.7861 - val_accuracy: 0.6210 - val_f1_score: 0.7612\n",
            "Epoch 30/50\n",
            "250/250 [==============================] - 0s 2ms/step - loss: 0.7837 - accuracy: 0.6186 - f1_score: 0.7606 - val_loss: 0.7749 - val_accuracy: 0.6210 - val_f1_score: 0.7612\n",
            "Epoch 31/50\n",
            "250/250 [==============================] - 0s 2ms/step - loss: 0.7732 - accuracy: 0.6176 - f1_score: 0.7594 - val_loss: 0.7647 - val_accuracy: 0.6210 - val_f1_score: 0.7612\n",
            "Epoch 32/50\n",
            "250/250 [==============================] - 0s 2ms/step - loss: 0.7625 - accuracy: 0.6186 - f1_score: 0.7606 - val_loss: 0.7552 - val_accuracy: 0.6210 - val_f1_score: 0.7612\n",
            "Epoch 33/50\n",
            "250/250 [==============================] - 0s 2ms/step - loss: 0.7535 - accuracy: 0.6206 - f1_score: 0.7615 - val_loss: 0.7469 - val_accuracy: 0.6210 - val_f1_score: 0.7612\n",
            "Epoch 34/50\n",
            "250/250 [==============================] - 0s 2ms/step - loss: 0.7453 - accuracy: 0.6189 - f1_score: 0.7608 - val_loss: 0.7385 - val_accuracy: 0.6210 - val_f1_score: 0.7612\n",
            "Epoch 35/50\n",
            "250/250 [==============================] - 0s 2ms/step - loss: 0.7376 - accuracy: 0.6183 - f1_score: 0.7602 - val_loss: 0.7311 - val_accuracy: 0.6210 - val_f1_score: 0.7612\n",
            "Epoch 36/50\n",
            "250/250 [==============================] - 0s 2ms/step - loss: 0.7316 - accuracy: 0.6190 - f1_score: 0.7610 - val_loss: 0.7243 - val_accuracy: 0.6210 - val_f1_score: 0.7612\n",
            "Epoch 37/50\n",
            "250/250 [==============================] - 0s 2ms/step - loss: 0.7241 - accuracy: 0.6198 - f1_score: 0.7614 - val_loss: 0.7185 - val_accuracy: 0.6210 - val_f1_score: 0.7612\n",
            "Epoch 38/50\n",
            "250/250 [==============================] - 0s 2ms/step - loss: 0.7186 - accuracy: 0.6191 - f1_score: 0.7611 - val_loss: 0.7129 - val_accuracy: 0.6210 - val_f1_score: 0.7612\n",
            "Epoch 39/50\n",
            "250/250 [==============================] - 0s 2ms/step - loss: 0.7119 - accuracy: 0.6195 - f1_score: 0.7613 - val_loss: 0.7077 - val_accuracy: 0.6210 - val_f1_score: 0.7612\n",
            "Epoch 40/50\n",
            "250/250 [==============================] - 0s 2ms/step - loss: 0.7073 - accuracy: 0.6199 - f1_score: 0.7617 - val_loss: 0.7033 - val_accuracy: 0.6210 - val_f1_score: 0.7612\n",
            "Epoch 41/50\n",
            "250/250 [==============================] - 0s 2ms/step - loss: 0.7050 - accuracy: 0.6186 - f1_score: 0.7608 - val_loss: 0.6993 - val_accuracy: 0.6210 - val_f1_score: 0.7612\n",
            "Epoch 42/50\n",
            "250/250 [==============================] - 0s 2ms/step - loss: 0.6994 - accuracy: 0.6204 - f1_score: 0.7627 - val_loss: 0.6957 - val_accuracy: 0.6210 - val_f1_score: 0.7612\n",
            "Epoch 43/50\n",
            "250/250 [==============================] - 0s 2ms/step - loss: 0.6968 - accuracy: 0.6191 - f1_score: 0.7611 - val_loss: 0.6925 - val_accuracy: 0.6210 - val_f1_score: 0.7612\n",
            "Epoch 44/50\n",
            "250/250 [==============================] - 0s 2ms/step - loss: 0.6928 - accuracy: 0.6191 - f1_score: 0.7615 - val_loss: 0.6898 - val_accuracy: 0.6210 - val_f1_score: 0.7612\n",
            "Epoch 45/50\n",
            "250/250 [==============================] - 0s 2ms/step - loss: 0.6903 - accuracy: 0.6196 - f1_score: 0.7618 - val_loss: 0.6870 - val_accuracy: 0.6210 - val_f1_score: 0.7612\n",
            "Epoch 46/50\n",
            "250/250 [==============================] - 0s 2ms/step - loss: 0.6884 - accuracy: 0.6199 - f1_score: 0.7614 - val_loss: 0.6854 - val_accuracy: 0.6210 - val_f1_score: 0.7612\n",
            "Epoch 47/50\n",
            "250/250 [==============================] - 1s 2ms/step - loss: 0.6872 - accuracy: 0.6198 - f1_score: 0.7615 - val_loss: 0.6836 - val_accuracy: 0.6210 - val_f1_score: 0.7612\n",
            "Epoch 48/50\n",
            "250/250 [==============================] - 0s 2ms/step - loss: 0.6846 - accuracy: 0.6199 - f1_score: 0.7620 - val_loss: 0.6815 - val_accuracy: 0.6210 - val_f1_score: 0.7612\n",
            "Epoch 49/50\n",
            "250/250 [==============================] - 0s 2ms/step - loss: 0.6831 - accuracy: 0.6198 - f1_score: 0.7621 - val_loss: 0.6800 - val_accuracy: 0.6210 - val_f1_score: 0.7612\n",
            "Epoch 50/50\n",
            "250/250 [==============================] - 1s 2ms/step - loss: 0.6814 - accuracy: 0.6196 - f1_score: 0.7611 - val_loss: 0.6793 - val_accuracy: 0.6210 - val_f1_score: 0.7612\n",
            "313/313 [==============================] - 1s 2ms/step\n"
          ]
        },
        {
          "output_type": "display_data",
          "data": {
            "text/plain": [
              "<Figure size 1200x600 with 3 Axes>"
            ],
            "image/png": "[encoded data removed]"
          },
          "metadata": {}
        }
      ]
    },
    {
      "cell_type": "code",
      "source": [
        "# from google.colab import files\n",
        "# sample_submission['target'] = test_predictions_binary\n",
        "\n",
        "# sample_submission.to_csv('(12.10)mlp_1.csv', index = False)\n",
        "# files.download('(12.10)mlp_1.csv')"
      ],
      "metadata": {
        "colab": {
          "base_uri": "https://localhost:8080/",
          "height": 17
        },
        "id": "X1LAgyuGZi61",
        "outputId": "240ea5ce-35fe-4d59-e6ca-e430b6e19796"
      },
      "execution_count": null,
      "outputs": [
        {
          "output_type": "display_data",
          "data": {
            "text/plain": [
              "<IPython.core.display.Javascript object>"
            ],
            "application/javascript": [
              "\n",
              "    async function download(id, filename, size) {\n",
              "      if (!google.colab.kernel.accessAllowed) {\n",
              "        return;\n",
              "      }\n",
              "      const div = document.createElement('div');\n",
              "      const label = document.createElement('label');\n",
              "      label.textContent = `Downloading \"${filename}\": `;\n",
              "      div.appendChild(label);\n",
              "      const progress = document.createElement('progress');\n",
              "      progress.max = size;\n",
              "      div.appendChild(progress);\n",
              "      document.body.appendChild(div);\n",
              "\n",
              "      const buffers = [];\n",
              "      let downloaded = 0;\n",
              "\n",
              "      const channel = await google.colab.kernel.comms.open(id);\n",
              "      // Send a message to notify the kernel that we're ready.\n",
              "      channel.send({})\n",
              "\n",
              "      for await (const message of channel.messages) {\n",
              "        // Send a message to notify the kernel that we're ready.\n",
              "        channel.send({})\n",
              "        if (message.buffers) {\n",
              "          for (const buffer of message.buffers) {\n",
              "            buffers.push(buffer);\n",
              "            downloaded += buffer.byteLength;\n",
              "            progress.value = downloaded;\n",
              "          }\n",
              "        }\n",
              "      }\n",
              "      const blob = new Blob(buffers, {type: 'application/binary'});\n",
              "      const a = document.createElement('a');\n",
              "      a.href = window.URL.createObjectURL(blob);\n",
              "      a.download = filename;\n",
              "      div.appendChild(a);\n",
              "      a.click();\n",
              "      div.remove();\n",
              "    }\n",
              "  "
            ]
          },
          "metadata": {}
        },
        {
          "output_type": "display_data",
          "data": {
            "text/plain": [
              "<IPython.core.display.Javascript object>"
            ],
            "application/javascript": [
              "download(\"download_47b88eef-184d-43d0-aac9-686f7dad2287\", \"(12.10)mlp_1.csv\", 110015)"
            ]
          },
          "metadata": {}
        }
      ]
    },
    {
      "cell_type": "code",
      "source": [
        "\n",
        "def f1_score(y_true, y_pred):\n",
        "    true_positives = K.sum(K.round(K.clip(y_true * y_pred, 0, 1)))\n",
        "    possible_positives = K.sum(K.round(K.clip(y_true, 0, 1)))\n",
        "    predicted_positives = K.sum(K.round(K.clip(y_pred, 0, 1)))\n",
        "\n",
        "    precision = true_positives / (predicted_positives + K.epsilon())\n",
        "    recall = true_positives / (possible_positives + K.epsilon())\n",
        "    f1_val = 2 * (precision * recall) / (precision + recall + K.epsilon())\n",
        "    return f1_val\n",
        "\n",
        "def build_model(hp):\n",
        "    model = Sequential()\n",
        "\n",
        "    model.add(Dense(\n",
        "        hp.Int('units_1', min_value=32, max_value=256, step=32),\n",
        "        activation='relu',\n",
        "        kernel_regularizer=regularizers.l2(hp.Float('l2_1', min_value=1e-4, max_value=1e-2, sampling='LOG', default=1e-3)),\n",
        "        input_shape=(X_train.shape[1],)))\n",
        "    model.add(Dropout(hp.Float('dropout_1', min_value=0.0, max_value=0.5, default=0.25, step=0.05)))\n",
        "\n",
        "\n",
        "    model.add(Dense(\n",
        "        hp.Int('units_2', min_value=32, max_value=128, step=32),\n",
        "        activation='relu',\n",
        "        kernel_regularizer=regularizers.l2(hp.Float('l2_2', min_value=1e-4, max_value=1e-2, sampling='LOG', default=1e-3))))\n",
        "    model.add(Dropout(hp.Float('dropout_2', min_value=0.0, max_value=0.5, default=0.25, step=0.05)))\n",
        "\n",
        "    model.add(Dense(1, activation='sigmoid'))\n",
        "\n",
        "    model.compile(optimizer=Adam(learning_rate=0.0001), loss='binary_crossentropy', metrics=['accuracy',f1_score])\n",
        "\n",
        "    return model\n",
        "\n",
        "tuner = kt.Hyperband(build_model,\n",
        "                     objective='val_accuracy',\n",
        "                     max_epochs=10,\n",
        "                     factor=3,\n",
        "                     directory='my_dir',\n",
        "                     project_name='intro_to_kt')\n",
        "\n",
        "early_stopping = EarlyStopping(monitor='val_loss', patience=5)\n",
        "tuner.search(X_train, y_train, epochs=50, validation_data=(X_val, y_val), callbacks=[early_stopping])\n",
        "\n",
        "\n",
        "best_hps = tuner.get_best_hyperparameters(num_trials=1)[0]\n",
        "\n",
        "model = tuner.hypermodel.build(best_hps)\n",
        "history = model.fit(X_train, y_train, epochs=50, validation_data=(X_val, y_val))\n",
        "test_predictions = model.predict(test_X)\n",
        "\n",
        "# 예측 결과를 반올림하여 이진값으로 변환\n",
        "test_predictions_binary = (test_predictions > 0.5).astype(\"int32\")\n",
        "\n",
        "\n",
        "# 손실 그래프\n",
        "plt.figure(figsize=(12, 6))\n",
        "plt.subplot(1, 3, 1)\n",
        "plt.plot(history.history['loss'], label='Training Loss')\n",
        "plt.plot(history.history['val_loss'], label='Validation Loss')\n",
        "plt.title('Training and Validation Loss')\n",
        "plt.xlabel('Epoch')\n",
        "plt.ylabel('Loss')\n",
        "plt.legend()\n",
        "\n",
        "# 정확도 그래프\n",
        "plt.subplot(1, 3, 2)\n",
        "plt.plot(history.history['accuracy'], label='Training Accuracy')\n",
        "plt.plot(history.history['val_accuracy'], label='Validation Accuracy')\n",
        "plt.title('Training and Validation Accuracy')\n",
        "plt.xlabel('Epoch')\n",
        "plt.ylabel('Accuracy')\n",
        "plt.legend()\n",
        "\n",
        "# F1 Score 그래프\n",
        "plt.subplot(1, 3, 3)\n",
        "plt.plot(history.history['f1_score'], label='Training F1 Score')\n",
        "plt.plot(history.history['val_f1_score'], label='Validation F1 Score')\n",
        "plt.title('Training and Validation F1 Score')\n",
        "plt.xlabel('Epoch')\n",
        "plt.ylabel('F1 Score')\n",
        "plt.legend()\n",
        "\n",
        "plt.show()\n"
      ],
      "metadata": {
        "colab": {
          "base_uri": "https://localhost:8080/",
          "height": 1000
        },
        "id": "WSF7eqXF5Vn0",
        "outputId": "33607723-e559-42cd-ab11-cdf41b5ce998"
      },
      "execution_count": null,
      "outputs": [
        {
          "output_type": "stream",
          "name": "stdout",
          "text": [
            "Reloading Tuner from my_dir/intro_to_kt/tuner0.json\n",
            "Epoch 1/50\n",
            "250/250 [==============================] - 2s 4ms/step - loss: 3.4240 - accuracy: 0.5239 - f1_score: 0.6101 - val_loss: 0.8505 - val_accuracy: 0.5960 - val_f1_score: 0.7290\n",
            "Epoch 2/50\n",
            "250/250 [==============================] - 1s 3ms/step - loss: 1.7101 - accuracy: 0.5312 - f1_score: 0.6130 - val_loss: 0.7939 - val_accuracy: 0.5525 - val_f1_score: 0.6660\n",
            "Epoch 3/50\n",
            "250/250 [==============================] - 1s 3ms/step - loss: 1.0289 - accuracy: 0.5357 - f1_score: 0.6250 - val_loss: 0.7672 - val_accuracy: 0.5410 - val_f1_score: 0.6529\n",
            "Epoch 4/50\n",
            "250/250 [==============================] - 1s 3ms/step - loss: 0.8459 - accuracy: 0.5469 - f1_score: 0.6523 - val_loss: 0.7472 - val_accuracy: 0.6185 - val_f1_score: 0.7594\n",
            "Epoch 5/50\n",
            "250/250 [==============================] - 1s 3ms/step - loss: 0.7895 - accuracy: 0.5736 - f1_score: 0.6920 - val_loss: 0.7427 - val_accuracy: 0.6210 - val_f1_score: 0.7612\n",
            "Epoch 6/50\n",
            "250/250 [==============================] - 1s 3ms/step - loss: 0.7687 - accuracy: 0.5896 - f1_score: 0.7212 - val_loss: 0.7362 - val_accuracy: 0.6210 - val_f1_score: 0.7612\n",
            "Epoch 7/50\n",
            "250/250 [==============================] - 1s 3ms/step - loss: 0.7504 - accuracy: 0.6025 - f1_score: 0.7394 - val_loss: 0.7318 - val_accuracy: 0.6210 - val_f1_score: 0.7612\n",
            "Epoch 8/50\n",
            "250/250 [==============================] - 1s 3ms/step - loss: 0.7453 - accuracy: 0.6095 - f1_score: 0.7480 - val_loss: 0.7290 - val_accuracy: 0.6210 - val_f1_score: 0.7612\n",
            "Epoch 9/50\n",
            "250/250 [==============================] - 1s 3ms/step - loss: 0.7449 - accuracy: 0.6105 - f1_score: 0.7499 - val_loss: 0.7276 - val_accuracy: 0.6210 - val_f1_score: 0.7612\n",
            "Epoch 10/50\n",
            "250/250 [==============================] - 1s 3ms/step - loss: 0.7332 - accuracy: 0.6131 - f1_score: 0.7537 - val_loss: 0.7252 - val_accuracy: 0.6210 - val_f1_score: 0.7612\n",
            "Epoch 11/50\n",
            "250/250 [==============================] - 1s 4ms/step - loss: 0.7333 - accuracy: 0.6162 - f1_score: 0.7570 - val_loss: 0.7237 - val_accuracy: 0.6210 - val_f1_score: 0.7612\n",
            "Epoch 12/50\n",
            "250/250 [==============================] - 1s 4ms/step - loss: 0.7323 - accuracy: 0.6112 - f1_score: 0.7541 - val_loss: 0.7234 - val_accuracy: 0.6210 - val_f1_score: 0.7612\n",
            "Epoch 13/50\n",
            "250/250 [==============================] - 1s 4ms/step - loss: 0.7300 - accuracy: 0.6173 - f1_score: 0.7583 - val_loss: 0.7221 - val_accuracy: 0.6210 - val_f1_score: 0.7612\n",
            "Epoch 14/50\n",
            "250/250 [==============================] - 1s 5ms/step - loss: 0.7265 - accuracy: 0.6190 - f1_score: 0.7595 - val_loss: 0.7209 - val_accuracy: 0.6210 - val_f1_score: 0.7612\n",
            "Epoch 15/50\n",
            "250/250 [==============================] - 1s 4ms/step - loss: 0.7264 - accuracy: 0.6166 - f1_score: 0.7582 - val_loss: 0.7206 - val_accuracy: 0.6210 - val_f1_score: 0.7612\n",
            "Epoch 16/50\n",
            "250/250 [==============================] - 1s 4ms/step - loss: 0.7234 - accuracy: 0.6183 - f1_score: 0.7592 - val_loss: 0.7173 - val_accuracy: 0.6210 - val_f1_score: 0.7612\n",
            "Epoch 17/50\n",
            "250/250 [==============================] - 1s 3ms/step - loss: 0.7245 - accuracy: 0.6184 - f1_score: 0.7605 - val_loss: 0.7174 - val_accuracy: 0.6210 - val_f1_score: 0.7612\n",
            "Epoch 18/50\n",
            "250/250 [==============================] - 1s 3ms/step - loss: 0.7206 - accuracy: 0.6189 - f1_score: 0.7598 - val_loss: 0.7162 - val_accuracy: 0.6210 - val_f1_score: 0.7612\n",
            "Epoch 19/50\n",
            "250/250 [==============================] - 1s 3ms/step - loss: 0.7189 - accuracy: 0.6185 - f1_score: 0.7600 - val_loss: 0.7156 - val_accuracy: 0.6210 - val_f1_score: 0.7612\n",
            "Epoch 20/50\n",
            "250/250 [==============================] - 1s 3ms/step - loss: 0.7184 - accuracy: 0.6175 - f1_score: 0.7601 - val_loss: 0.7146 - val_accuracy: 0.6210 - val_f1_score: 0.7612\n",
            "Epoch 21/50\n",
            "250/250 [==============================] - 1s 3ms/step - loss: 0.7196 - accuracy: 0.6187 - f1_score: 0.7603 - val_loss: 0.7142 - val_accuracy: 0.6210 - val_f1_score: 0.7612\n",
            "Epoch 22/50\n",
            "250/250 [==============================] - 1s 3ms/step - loss: 0.7168 - accuracy: 0.6186 - f1_score: 0.7602 - val_loss: 0.7124 - val_accuracy: 0.6210 - val_f1_score: 0.7612\n",
            "Epoch 23/50\n",
            "250/250 [==============================] - 1s 3ms/step - loss: 0.7144 - accuracy: 0.6184 - f1_score: 0.7603 - val_loss: 0.7107 - val_accuracy: 0.6210 - val_f1_score: 0.7612\n",
            "Epoch 24/50\n",
            "250/250 [==============================] - 1s 3ms/step - loss: 0.7145 - accuracy: 0.6175 - f1_score: 0.7595 - val_loss: 0.7096 - val_accuracy: 0.6210 - val_f1_score: 0.7612\n",
            "Epoch 25/50\n",
            "250/250 [==============================] - 1s 3ms/step - loss: 0.7131 - accuracy: 0.6190 - f1_score: 0.7610 - val_loss: 0.7107 - val_accuracy: 0.6210 - val_f1_score: 0.7612\n",
            "Epoch 26/50\n",
            "250/250 [==============================] - 1s 3ms/step - loss: 0.7112 - accuracy: 0.6187 - f1_score: 0.7606 - val_loss: 0.7091 - val_accuracy: 0.6210 - val_f1_score: 0.7612\n",
            "Epoch 27/50\n",
            "250/250 [==============================] - 1s 3ms/step - loss: 0.7111 - accuracy: 0.6194 - f1_score: 0.7607 - val_loss: 0.7073 - val_accuracy: 0.6210 - val_f1_score: 0.7612\n",
            "Epoch 28/50\n",
            "250/250 [==============================] - 1s 3ms/step - loss: 0.7097 - accuracy: 0.6189 - f1_score: 0.7609 - val_loss: 0.7072 - val_accuracy: 0.6210 - val_f1_score: 0.7612\n",
            "Epoch 29/50\n",
            "250/250 [==============================] - 1s 4ms/step - loss: 0.7092 - accuracy: 0.6189 - f1_score: 0.7610 - val_loss: 0.7060 - val_accuracy: 0.6210 - val_f1_score: 0.7612\n",
            "Epoch 30/50\n",
            "250/250 [==============================] - 1s 5ms/step - loss: 0.7056 - accuracy: 0.6198 - f1_score: 0.7613 - val_loss: 0.7038 - val_accuracy: 0.6210 - val_f1_score: 0.7612\n",
            "Epoch 31/50\n",
            "250/250 [==============================] - 1s 4ms/step - loss: 0.7068 - accuracy: 0.6192 - f1_score: 0.7613 - val_loss: 0.7028 - val_accuracy: 0.6210 - val_f1_score: 0.7612\n",
            "Epoch 32/50\n",
            "250/250 [==============================] - 1s 4ms/step - loss: 0.7045 - accuracy: 0.6198 - f1_score: 0.7612 - val_loss: 0.7025 - val_accuracy: 0.6210 - val_f1_score: 0.7612\n",
            "Epoch 33/50\n",
            "250/250 [==============================] - 1s 4ms/step - loss: 0.7040 - accuracy: 0.6192 - f1_score: 0.7615 - val_loss: 0.7008 - val_accuracy: 0.6210 - val_f1_score: 0.7612\n",
            "Epoch 34/50\n",
            "250/250 [==============================] - 1s 4ms/step - loss: 0.7033 - accuracy: 0.6192 - f1_score: 0.7611 - val_loss: 0.7003 - val_accuracy: 0.6210 - val_f1_score: 0.7612\n",
            "Epoch 35/50\n",
            "250/250 [==============================] - 1s 3ms/step - loss: 0.7012 - accuracy: 0.6190 - f1_score: 0.7615 - val_loss: 0.6986 - val_accuracy: 0.6210 - val_f1_score: 0.7612\n",
            "Epoch 36/50\n",
            "250/250 [==============================] - 1s 3ms/step - loss: 0.6999 - accuracy: 0.6189 - f1_score: 0.7611 - val_loss: 0.6974 - val_accuracy: 0.6210 - val_f1_score: 0.7612\n",
            "Epoch 37/50\n",
            "250/250 [==============================] - 1s 3ms/step - loss: 0.6996 - accuracy: 0.6194 - f1_score: 0.7614 - val_loss: 0.6965 - val_accuracy: 0.6210 - val_f1_score: 0.7612\n",
            "Epoch 38/50\n",
            "250/250 [==============================] - 1s 3ms/step - loss: 0.6984 - accuracy: 0.6194 - f1_score: 0.7620 - val_loss: 0.6962 - val_accuracy: 0.6210 - val_f1_score: 0.7612\n",
            "Epoch 39/50\n",
            "250/250 [==============================] - 1s 3ms/step - loss: 0.6972 - accuracy: 0.6194 - f1_score: 0.7608 - val_loss: 0.6949 - val_accuracy: 0.6210 - val_f1_score: 0.7612\n",
            "Epoch 40/50\n",
            "250/250 [==============================] - 1s 3ms/step - loss: 0.6966 - accuracy: 0.6196 - f1_score: 0.7619 - val_loss: 0.6943 - val_accuracy: 0.6210 - val_f1_score: 0.7612\n",
            "Epoch 41/50\n",
            "250/250 [==============================] - 1s 3ms/step - loss: 0.6950 - accuracy: 0.6195 - f1_score: 0.7613 - val_loss: 0.6932 - val_accuracy: 0.6210 - val_f1_score: 0.7612\n",
            "Epoch 42/50\n",
            "250/250 [==============================] - 1s 3ms/step - loss: 0.6940 - accuracy: 0.6195 - f1_score: 0.7617 - val_loss: 0.6929 - val_accuracy: 0.6210 - val_f1_score: 0.7612\n",
            "Epoch 43/50\n",
            "250/250 [==============================] - 1s 3ms/step - loss: 0.6939 - accuracy: 0.6192 - f1_score: 0.7614 - val_loss: 0.6917 - val_accuracy: 0.6210 - val_f1_score: 0.7612\n",
            "Epoch 44/50\n",
            "250/250 [==============================] - 1s 3ms/step - loss: 0.6930 - accuracy: 0.6195 - f1_score: 0.7617 - val_loss: 0.6903 - val_accuracy: 0.6210 - val_f1_score: 0.7612\n",
            "Epoch 45/50\n",
            "250/250 [==============================] - 1s 4ms/step - loss: 0.6911 - accuracy: 0.6196 - f1_score: 0.7615 - val_loss: 0.6892 - val_accuracy: 0.6210 - val_f1_score: 0.7612\n",
            "Epoch 46/50\n",
            "250/250 [==============================] - 1s 3ms/step - loss: 0.6910 - accuracy: 0.6192 - f1_score: 0.7609 - val_loss: 0.6888 - val_accuracy: 0.6210 - val_f1_score: 0.7612\n",
            "Epoch 47/50\n",
            "250/250 [==============================] - 1s 3ms/step - loss: 0.6907 - accuracy: 0.6194 - f1_score: 0.7620 - val_loss: 0.6879 - val_accuracy: 0.6210 - val_f1_score: 0.7612\n",
            "Epoch 48/50\n",
            "250/250 [==============================] - 1s 4ms/step - loss: 0.6898 - accuracy: 0.6192 - f1_score: 0.7615 - val_loss: 0.6866 - val_accuracy: 0.6210 - val_f1_score: 0.7612\n",
            "Epoch 49/50\n",
            "250/250 [==============================] - 1s 5ms/step - loss: 0.6880 - accuracy: 0.6192 - f1_score: 0.7612 - val_loss: 0.6864 - val_accuracy: 0.6210 - val_f1_score: 0.7612\n",
            "Epoch 50/50\n",
            "250/250 [==============================] - 1s 6ms/step - loss: 0.6876 - accuracy: 0.6196 - f1_score: 0.7616 - val_loss: 0.6851 - val_accuracy: 0.6210 - val_f1_score: 0.7612\n",
            "313/313 [==============================] - 1s 2ms/step\n"
          ]
        },
        {
          "output_type": "display_data",
          "data": {
            "text/plain": [
              "<Figure size 1200x600 with 3 Axes>"
            ],
            "image/png": "[encoded data removed]"
          },
          "metadata": {}
        }
      ]
    },
    {
      "cell_type": "code",
      "source": [
        "\n",
        "def f1_score(y_true, y_pred):\n",
        "    true_positives = K.sum(K.round(K.clip(y_true * y_pred, 0, 1)))\n",
        "    possible_positives = K.sum(K.round(K.clip(y_true, 0, 1)))\n",
        "    predicted_positives = K.sum(K.round(K.clip(y_pred, 0, 1)))\n",
        "\n",
        "    precision = true_positives / (predicted_positives + K.epsilon())\n",
        "    recall = true_positives / (possible_positives + K.epsilon())\n",
        "    f1_val = 2 * (precision * recall) / (precision + recall + K.epsilon())\n",
        "    return f1_val\n",
        "\n",
        "def build_model(hp):\n",
        "    model = Sequential()\n",
        "\n",
        "    model.add(Dense(\n",
        "        hp.Int('units_1', min_value=32, max_value=256, step=32),\n",
        "        activation='relu',\n",
        "        kernel_regularizer=regularizers.l2(hp.Float('l2_1', min_value=1e-4, max_value=1e-2, sampling='LOG', default=1e-3)),\n",
        "        input_shape=(X_train.shape[1],)))\n",
        "    model.add(Dropout(hp.Float('dropout_1', min_value=0.0, max_value=0.5, default=0.25, step=0.05)))\n",
        "\n",
        "\n",
        "    model.add(Dense(\n",
        "        hp.Int('units_2', min_value=32, max_value=128, step=32),\n",
        "        activation='relu',\n",
        "        kernel_regularizer=regularizers.l2(hp.Float('l2_2', min_value=1e-4, max_value=1e-2, sampling='LOG', default=1e-3))))\n",
        "    model.add(Dropout(hp.Float('dropout_2', min_value=0.0, max_value=0.5, default=0.25, step=0.05)))\n",
        "\n",
        "    model.add(Dense(1, activation='sigmoid'))\n",
        "\n",
        "    model.compile(optimizer=Adam(learning_rate=0.0001), loss='binary_crossentropy', metrics=['accuracy',f1_score])\n",
        "\n",
        "    return model\n",
        "\n",
        "tuner = kt.Hyperband(build_model,\n",
        "                     objective='val_accuracy',\n",
        "                     max_epochs=10,\n",
        "                     factor=3,\n",
        "                     directory='my_dir',\n",
        "                     project_name='intro_to_kt')\n",
        "\n",
        "early_stopping = EarlyStopping(monitor='val_loss', patience=5)\n",
        "tuner.search(X_train, y_train, epochs=50, validation_data=(X_val, y_val), callbacks=[early_stopping])\n",
        "\n",
        "\n",
        "best_hps = tuner.get_best_hyperparameters(num_trials=1)[0]\n",
        "\n",
        "model = tuner.hypermodel.build(best_hps)\n",
        "history = model.fit(X_train, y_train, epochs=50, validation_data=(X_val, y_val))\n",
        "test_predictions = model.predict(test_X)\n",
        "\n",
        "# 예측 결과를 반올림하여 이진값으로 변환\n",
        "# test_predictions_binary = (test_predictions > 0.5).astype(\"int32\")\n",
        "test_predictions\n"
      ],
      "metadata": {
        "colab": {
          "base_uri": "https://localhost:8080/"
        },
        "id": "WbsoCCyj6GGg",
        "outputId": "a72363d6-b83b-4e23-ecfb-d14ba6c261aa"
      },
      "execution_count": null,
      "outputs": [
        {
          "output_type": "stream",
          "name": "stdout",
          "text": [
            "Reloading Tuner from my_dir/intro_to_kt/tuner0.json\n",
            "Epoch 1/50\n",
            "250/250 [==============================] - 2s 4ms/step - loss: 2.6895 - accuracy: 0.5320 - f1_score: 0.6174 - val_loss: 0.9428 - val_accuracy: 0.5820 - val_f1_score: 0.7191\n",
            "Epoch 2/50\n",
            "250/250 [==============================] - 1s 3ms/step - loss: 1.2804 - accuracy: 0.5274 - f1_score: 0.6134 - val_loss: 0.7731 - val_accuracy: 0.5745 - val_f1_score: 0.7010\n",
            "Epoch 3/50\n",
            "250/250 [==============================] - 1s 3ms/step - loss: 0.8948 - accuracy: 0.5395 - f1_score: 0.6350 - val_loss: 0.7556 - val_accuracy: 0.5925 - val_f1_score: 0.7290\n",
            "Epoch 4/50\n",
            "250/250 [==============================] - 1s 3ms/step - loss: 0.8011 - accuracy: 0.5669 - f1_score: 0.6818 - val_loss: 0.7449 - val_accuracy: 0.6170 - val_f1_score: 0.7565\n",
            "Epoch 5/50\n",
            "250/250 [==============================] - 1s 3ms/step - loss: 0.7667 - accuracy: 0.5939 - f1_score: 0.7233 - val_loss: 0.7380 - val_accuracy: 0.6210 - val_f1_score: 0.7612\n",
            "Epoch 6/50\n",
            "250/250 [==============================] - 1s 3ms/step - loss: 0.7536 - accuracy: 0.5994 - f1_score: 0.7343 - val_loss: 0.7346 - val_accuracy: 0.6210 - val_f1_score: 0.7612\n",
            "Epoch 7/50\n",
            "250/250 [==============================] - 1s 3ms/step - loss: 0.7484 - accuracy: 0.6045 - f1_score: 0.7423 - val_loss: 0.7317 - val_accuracy: 0.6210 - val_f1_score: 0.7612\n",
            "Epoch 8/50\n",
            "250/250 [==============================] - 1s 3ms/step - loss: 0.7386 - accuracy: 0.6096 - f1_score: 0.7488 - val_loss: 0.7289 - val_accuracy: 0.6210 - val_f1_score: 0.7612\n",
            "Epoch 9/50\n",
            "250/250 [==============================] - 1s 4ms/step - loss: 0.7397 - accuracy: 0.6095 - f1_score: 0.7507 - val_loss: 0.7271 - val_accuracy: 0.6210 - val_f1_score: 0.7612\n",
            "Epoch 10/50\n",
            "250/250 [==============================] - 1s 3ms/step - loss: 0.7338 - accuracy: 0.6149 - f1_score: 0.7551 - val_loss: 0.7253 - val_accuracy: 0.6210 - val_f1_score: 0.7612\n",
            "Epoch 11/50\n",
            "250/250 [==============================] - 1s 3ms/step - loss: 0.7350 - accuracy: 0.6152 - f1_score: 0.7551 - val_loss: 0.7243 - val_accuracy: 0.6210 - val_f1_score: 0.7612\n",
            "Epoch 12/50\n",
            "250/250 [==============================] - 1s 5ms/step - loss: 0.7302 - accuracy: 0.6143 - f1_score: 0.7561 - val_loss: 0.7236 - val_accuracy: 0.6210 - val_f1_score: 0.7612\n",
            "Epoch 13/50\n",
            "250/250 [==============================] - 1s 5ms/step - loss: 0.7284 - accuracy: 0.6171 - f1_score: 0.7581 - val_loss: 0.7221 - val_accuracy: 0.6210 - val_f1_score: 0.7612\n",
            "Epoch 14/50\n",
            "250/250 [==============================] - 1s 4ms/step - loss: 0.7279 - accuracy: 0.6181 - f1_score: 0.7590 - val_loss: 0.7216 - val_accuracy: 0.6210 - val_f1_score: 0.7612\n",
            "Epoch 15/50\n",
            "250/250 [==============================] - 1s 4ms/step - loss: 0.7256 - accuracy: 0.6166 - f1_score: 0.7586 - val_loss: 0.7199 - val_accuracy: 0.6210 - val_f1_score: 0.7612\n",
            "Epoch 16/50\n",
            "250/250 [==============================] - 1s 4ms/step - loss: 0.7238 - accuracy: 0.6189 - f1_score: 0.7598 - val_loss: 0.7192 - val_accuracy: 0.6210 - val_f1_score: 0.7612\n",
            "Epoch 17/50\n",
            "250/250 [==============================] - 1s 3ms/step - loss: 0.7221 - accuracy: 0.6181 - f1_score: 0.7597 - val_loss: 0.7179 - val_accuracy: 0.6210 - val_f1_score: 0.7612\n",
            "Epoch 18/50\n",
            "250/250 [==============================] - 1s 3ms/step - loss: 0.7201 - accuracy: 0.6189 - f1_score: 0.7605 - val_loss: 0.7166 - val_accuracy: 0.6210 - val_f1_score: 0.7612\n",
            "Epoch 19/50\n",
            "250/250 [==============================] - 1s 3ms/step - loss: 0.7202 - accuracy: 0.6185 - f1_score: 0.7598 - val_loss: 0.7154 - val_accuracy: 0.6210 - val_f1_score: 0.7612\n",
            "Epoch 20/50\n",
            "250/250 [==============================] - 1s 3ms/step - loss: 0.7176 - accuracy: 0.6186 - f1_score: 0.7606 - val_loss: 0.7135 - val_accuracy: 0.6210 - val_f1_score: 0.7612\n",
            "Epoch 21/50\n",
            "250/250 [==============================] - 1s 3ms/step - loss: 0.7167 - accuracy: 0.6183 - f1_score: 0.7606 - val_loss: 0.7131 - val_accuracy: 0.6210 - val_f1_score: 0.7612\n",
            "Epoch 22/50\n",
            "250/250 [==============================] - 1s 3ms/step - loss: 0.7152 - accuracy: 0.6187 - f1_score: 0.7608 - val_loss: 0.7121 - val_accuracy: 0.6210 - val_f1_score: 0.7612\n",
            "Epoch 23/50\n",
            "250/250 [==============================] - 1s 3ms/step - loss: 0.7159 - accuracy: 0.6190 - f1_score: 0.7602 - val_loss: 0.7113 - val_accuracy: 0.6210 - val_f1_score: 0.7612\n",
            "Epoch 24/50\n",
            "250/250 [==============================] - 1s 3ms/step - loss: 0.7138 - accuracy: 0.6185 - f1_score: 0.7609 - val_loss: 0.7104 - val_accuracy: 0.6210 - val_f1_score: 0.7612\n",
            "Epoch 25/50\n",
            "250/250 [==============================] - 1s 4ms/step - loss: 0.7121 - accuracy: 0.6196 - f1_score: 0.7611 - val_loss: 0.7088 - val_accuracy: 0.6210 - val_f1_score: 0.7612\n",
            "Epoch 26/50\n",
            "250/250 [==============================] - 1s 3ms/step - loss: 0.7113 - accuracy: 0.6198 - f1_score: 0.7620 - val_loss: 0.7080 - val_accuracy: 0.6210 - val_f1_score: 0.7612\n",
            "Epoch 27/50\n",
            "250/250 [==============================] - 1s 3ms/step - loss: 0.7097 - accuracy: 0.6186 - f1_score: 0.7604 - val_loss: 0.7068 - val_accuracy: 0.6210 - val_f1_score: 0.7612\n",
            "Epoch 28/50\n",
            "250/250 [==============================] - 1s 3ms/step - loss: 0.7081 - accuracy: 0.6192 - f1_score: 0.7606 - val_loss: 0.7066 - val_accuracy: 0.6210 - val_f1_score: 0.7612\n",
            "Epoch 29/50\n",
            "250/250 [==============================] - 1s 4ms/step - loss: 0.7075 - accuracy: 0.6189 - f1_score: 0.7612 - val_loss: 0.7044 - val_accuracy: 0.6210 - val_f1_score: 0.7612\n",
            "Epoch 30/50\n",
            "250/250 [==============================] - 1s 4ms/step - loss: 0.7071 - accuracy: 0.6191 - f1_score: 0.7614 - val_loss: 0.7037 - val_accuracy: 0.6210 - val_f1_score: 0.7612\n",
            "Epoch 31/50\n",
            "250/250 [==============================] - 1s 4ms/step - loss: 0.7039 - accuracy: 0.6194 - f1_score: 0.7616 - val_loss: 0.7026 - val_accuracy: 0.6210 - val_f1_score: 0.7612\n",
            "Epoch 32/50\n",
            "250/250 [==============================] - 1s 5ms/step - loss: 0.7039 - accuracy: 0.6192 - f1_score: 0.7615 - val_loss: 0.7006 - val_accuracy: 0.6210 - val_f1_score: 0.7612\n",
            "Epoch 33/50\n",
            "250/250 [==============================] - 1s 4ms/step - loss: 0.7031 - accuracy: 0.6187 - f1_score: 0.7607 - val_loss: 0.6997 - val_accuracy: 0.6210 - val_f1_score: 0.7612\n",
            "Epoch 34/50\n",
            "250/250 [==============================] - 1s 4ms/step - loss: 0.7024 - accuracy: 0.6198 - f1_score: 0.7608 - val_loss: 0.6989 - val_accuracy: 0.6210 - val_f1_score: 0.7612\n",
            "Epoch 35/50\n",
            "250/250 [==============================] - 1s 3ms/step - loss: 0.7021 - accuracy: 0.6195 - f1_score: 0.7615 - val_loss: 0.6976 - val_accuracy: 0.6210 - val_f1_score: 0.7612\n",
            "Epoch 36/50\n",
            "250/250 [==============================] - 1s 3ms/step - loss: 0.6987 - accuracy: 0.6192 - f1_score: 0.7613 - val_loss: 0.6966 - val_accuracy: 0.6210 - val_f1_score: 0.7612\n",
            "Epoch 37/50\n",
            "250/250 [==============================] - 1s 3ms/step - loss: 0.6985 - accuracy: 0.6194 - f1_score: 0.7614 - val_loss: 0.6955 - val_accuracy: 0.6210 - val_f1_score: 0.7612\n",
            "Epoch 38/50\n",
            "250/250 [==============================] - 1s 3ms/step - loss: 0.6972 - accuracy: 0.6196 - f1_score: 0.7619 - val_loss: 0.6952 - val_accuracy: 0.6210 - val_f1_score: 0.7612\n",
            "Epoch 39/50\n",
            "250/250 [==============================] - 1s 3ms/step - loss: 0.6955 - accuracy: 0.6194 - f1_score: 0.7612 - val_loss: 0.6937 - val_accuracy: 0.6210 - val_f1_score: 0.7612\n",
            "Epoch 40/50\n",
            "250/250 [==============================] - 1s 3ms/step - loss: 0.6935 - accuracy: 0.6192 - f1_score: 0.7616 - val_loss: 0.6923 - val_accuracy: 0.6210 - val_f1_score: 0.7612\n",
            "Epoch 41/50\n",
            "250/250 [==============================] - 1s 3ms/step - loss: 0.6925 - accuracy: 0.6194 - f1_score: 0.7616 - val_loss: 0.6916 - val_accuracy: 0.6210 - val_f1_score: 0.7612\n",
            "Epoch 42/50\n",
            "250/250 [==============================] - 1s 3ms/step - loss: 0.6931 - accuracy: 0.6196 - f1_score: 0.7615 - val_loss: 0.6907 - val_accuracy: 0.6210 - val_f1_score: 0.7612\n",
            "Epoch 43/50\n",
            "250/250 [==============================] - 1s 3ms/step - loss: 0.6904 - accuracy: 0.6196 - f1_score: 0.7618 - val_loss: 0.6897 - val_accuracy: 0.6210 - val_f1_score: 0.7612\n",
            "Epoch 44/50\n",
            "250/250 [==============================] - 1s 3ms/step - loss: 0.6919 - accuracy: 0.6194 - f1_score: 0.7618 - val_loss: 0.6895 - val_accuracy: 0.6210 - val_f1_score: 0.7612\n",
            "Epoch 45/50\n",
            "250/250 [==============================] - 1s 3ms/step - loss: 0.6900 - accuracy: 0.6194 - f1_score: 0.7617 - val_loss: 0.6881 - val_accuracy: 0.6210 - val_f1_score: 0.7612\n",
            "Epoch 46/50\n",
            "250/250 [==============================] - 1s 3ms/step - loss: 0.6880 - accuracy: 0.6196 - f1_score: 0.7615 - val_loss: 0.6870 - val_accuracy: 0.6210 - val_f1_score: 0.7612\n",
            "Epoch 47/50\n",
            "250/250 [==============================] - 1s 3ms/step - loss: 0.6880 - accuracy: 0.6195 - f1_score: 0.7613 - val_loss: 0.6861 - val_accuracy: 0.6210 - val_f1_score: 0.7612\n",
            "Epoch 48/50\n",
            "250/250 [==============================] - 1s 4ms/step - loss: 0.6876 - accuracy: 0.6196 - f1_score: 0.7619 - val_loss: 0.6855 - val_accuracy: 0.6210 - val_f1_score: 0.7612\n",
            "Epoch 49/50\n",
            "250/250 [==============================] - 1s 4ms/step - loss: 0.6868 - accuracy: 0.6196 - f1_score: 0.7612 - val_loss: 0.6847 - val_accuracy: 0.6210 - val_f1_score: 0.7612\n",
            "Epoch 50/50\n",
            "250/250 [==============================] - 1s 5ms/step - loss: 0.6857 - accuracy: 0.6198 - f1_score: 0.7617 - val_loss: 0.6839 - val_accuracy: 0.6210 - val_f1_score: 0.7612\n",
            "313/313 [==============================] - 1s 2ms/step\n"
          ]
        },
        {
          "output_type": "execute_result",
          "data": {
            "text/plain": [
              "array([[0.6173957 ],\n",
              "       [0.62116337],\n",
              "       [0.6049942 ],\n",
              "       ...,\n",
              "       [0.62440264],\n",
              "       [0.62624454],\n",
              "       [0.6140218 ]], dtype=float32)"
            ]
          },
          "metadata": {},
          "execution_count": 101
        }
      ]
    },
    {
      "cell_type": "code",
      "source": [
        "# from google.colab import files\n",
        "# sample_submission['target'] = test_predictions_binary\n",
        "\n",
        "# sample_submission.to_csv('(12.10)mlp.csv', index = False)\n",
        "# files.download('(12.10)mlp.csv')"
      ],
      "metadata": {
        "id": "X99qa4vBYLC1"
      },
      "execution_count": null,
      "outputs": []
    }
  ]
}